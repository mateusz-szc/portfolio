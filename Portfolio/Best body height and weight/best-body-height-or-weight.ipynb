{
 "cells": [
  {
   "cell_type": "markdown",
   "metadata": {},
   "source": [
    "<table align=\"left\">\n",
    "  <td>\n",
    "    <a target=\"_blank\" href=\"https://www.kaggle.com/mateuszszczepanek/best-body-height-or-weight\"><img src=\"https://cdn.iconscout.com/icon/free/png-128/kaggle-3628869-3030009.png\" />Open in Kaggle</a>\n",
    "  </td>\n",
    "</table>"
   ]
  },
  {
   "cell_type": "code",
   "execution_count": 1,
   "metadata": {
    "execution": {
     "iopub.execute_input": "2021-05-16T11:41:51.083435Z",
     "iopub.status.busy": "2021-05-16T11:41:51.082235Z",
     "iopub.status.idle": "2021-05-16T11:41:52.284246Z",
     "shell.execute_reply": "2021-05-16T11:41:52.284841Z"
    },
    "papermill": {
     "duration": 1.220021,
     "end_time": "2021-05-16T11:41:52.285142",
     "exception": false,
     "start_time": "2021-05-16T11:41:51.065121",
     "status": "completed"
    },
    "tags": []
   },
   "outputs": [],
   "source": [
    "import pandas as pd\n",
    "import matplotlib.pyplot as plt\n",
    "import seaborn as sns\n",
    "from sklearn.linear_model import LinearRegression"
   ]
  },
  {
   "cell_type": "code",
   "execution_count": 2,
   "metadata": {
    "execution": {
     "iopub.execute_input": "2021-05-16T11:41:52.315740Z",
     "iopub.status.busy": "2021-05-16T11:41:52.315050Z",
     "iopub.status.idle": "2021-05-16T11:41:52.368129Z",
     "shell.execute_reply": "2021-05-16T11:41:52.368582Z"
    },
    "papermill": {
     "duration": 0.069468,
     "end_time": "2021-05-16T11:41:52.368753",
     "exception": false,
     "start_time": "2021-05-16T11:41:52.299285",
     "status": "completed"
    },
    "tags": []
   },
   "outputs": [
    {
     "data": {
      "text/html": [
       "<div>\n",
       "<style scoped>\n",
       "    .dataframe tbody tr th:only-of-type {\n",
       "        vertical-align: middle;\n",
       "    }\n",
       "\n",
       "    .dataframe tbody tr th {\n",
       "        vertical-align: top;\n",
       "    }\n",
       "\n",
       "    .dataframe thead th {\n",
       "        text-align: right;\n",
       "    }\n",
       "</style>\n",
       "<table border=\"1\" class=\"dataframe\">\n",
       "  <thead>\n",
       "    <tr style=\"text-align: right;\">\n",
       "      <th></th>\n",
       "      <th>Gender</th>\n",
       "      <th>Height</th>\n",
       "      <th>Weight</th>\n",
       "    </tr>\n",
       "  </thead>\n",
       "  <tbody>\n",
       "    <tr>\n",
       "      <th>5082</th>\n",
       "      <td>Female</td>\n",
       "      <td>63.584310</td>\n",
       "      <td>133.189404</td>\n",
       "    </tr>\n",
       "    <tr>\n",
       "      <th>8003</th>\n",
       "      <td>Female</td>\n",
       "      <td>56.105370</td>\n",
       "      <td>87.298869</td>\n",
       "    </tr>\n",
       "    <tr>\n",
       "      <th>3137</th>\n",
       "      <td>Male</td>\n",
       "      <td>69.923714</td>\n",
       "      <td>207.074913</td>\n",
       "    </tr>\n",
       "  </tbody>\n",
       "</table>\n",
       "</div>"
      ],
      "text/plain": [
       "      Gender     Height      Weight\n",
       "5082  Female  63.584310  133.189404\n",
       "8003  Female  56.105370   87.298869\n",
       "3137    Male  69.923714  207.074913"
      ]
     },
     "execution_count": 2,
     "metadata": {},
     "output_type": "execute_result"
    }
   ],
   "source": [
    "df = pd.read_csv(filepath_or_buffer=\"../input/weight-height/weight-height.csv\")\n",
    "df.sample(3)"
   ]
  },
  {
   "cell_type": "markdown",
   "metadata": {
    "papermill": {
     "duration": 0.013266,
     "end_time": "2021-05-16T11:41:52.395956",
     "exception": false,
     "start_time": "2021-05-16T11:41:52.382690",
     "status": "completed"
    },
    "tags": []
   },
   "source": [
    "#### Checking how many womens and mens. "
   ]
  },
  {
   "cell_type": "code",
   "execution_count": 3,
   "metadata": {
    "execution": {
     "iopub.execute_input": "2021-05-16T11:41:52.426366Z",
     "iopub.status.busy": "2021-05-16T11:41:52.425716Z",
     "iopub.status.idle": "2021-05-16T11:41:52.437497Z",
     "shell.execute_reply": "2021-05-16T11:41:52.436800Z"
    },
    "papermill": {
     "duration": 0.028274,
     "end_time": "2021-05-16T11:41:52.437650",
     "exception": false,
     "start_time": "2021-05-16T11:41:52.409376",
     "status": "completed"
    },
    "tags": []
   },
   "outputs": [
    {
     "data": {
      "text/plain": [
       "Female    5000\n",
       "Male      5000\n",
       "Name: Gender, dtype: int64"
      ]
     },
     "execution_count": 3,
     "metadata": {},
     "output_type": "execute_result"
    }
   ],
   "source": [
    "df.Gender.value_counts()"
   ]
  },
  {
   "cell_type": "markdown",
   "metadata": {
    "papermill": {
     "duration": 0.013666,
     "end_time": "2021-05-16T11:41:52.465562",
     "exception": false,
     "start_time": "2021-05-16T11:41:52.451896",
     "status": "completed"
    },
    "tags": []
   },
   "source": [
    "#### Change 'Weight' from pounds to kilograms."
   ]
  },
  {
   "cell_type": "code",
   "execution_count": 4,
   "metadata": {
    "execution": {
     "iopub.execute_input": "2021-05-16T11:41:52.498732Z",
     "iopub.status.busy": "2021-05-16T11:41:52.498035Z",
     "iopub.status.idle": "2021-05-16T11:41:52.517100Z",
     "shell.execute_reply": "2021-05-16T11:41:52.516438Z"
    },
    "papermill": {
     "duration": 0.03771,
     "end_time": "2021-05-16T11:41:52.517260",
     "exception": false,
     "start_time": "2021-05-16T11:41:52.479550",
     "status": "completed"
    },
    "tags": []
   },
   "outputs": [],
   "source": [
    "df.Weight /= 2.2046"
   ]
  },
  {
   "cell_type": "markdown",
   "metadata": {
    "papermill": {
     "duration": 0.013947,
     "end_time": "2021-05-16T11:41:52.546822",
     "exception": false,
     "start_time": "2021-05-16T11:41:52.532875",
     "status": "completed"
    },
    "tags": []
   },
   "source": [
    "#### Change 'Height' from inches to centimeters."
   ]
  },
  {
   "cell_type": "code",
   "execution_count": 5,
   "metadata": {
    "execution": {
     "iopub.execute_input": "2021-05-16T11:41:52.581015Z",
     "iopub.status.busy": "2021-05-16T11:41:52.580353Z",
     "iopub.status.idle": "2021-05-16T11:41:52.583516Z",
     "shell.execute_reply": "2021-05-16T11:41:52.582997Z"
    },
    "papermill": {
     "duration": 0.022721,
     "end_time": "2021-05-16T11:41:52.583660",
     "exception": false,
     "start_time": "2021-05-16T11:41:52.560939",
     "status": "completed"
    },
    "tags": []
   },
   "outputs": [],
   "source": [
    "df.Height *= 2.54"
   ]
  },
  {
   "cell_type": "markdown",
   "metadata": {
    "papermill": {
     "duration": 0.014285,
     "end_time": "2021-05-16T11:41:52.612426",
     "exception": false,
     "start_time": "2021-05-16T11:41:52.598141",
     "status": "completed"
    },
    "tags": []
   },
   "source": [
    "#### Change 'Gender' into binary."
   ]
  },
  {
   "cell_type": "code",
   "execution_count": 6,
   "metadata": {
    "execution": {
     "iopub.execute_input": "2021-05-16T11:41:52.649793Z",
     "iopub.status.busy": "2021-05-16T11:41:52.649066Z",
     "iopub.status.idle": "2021-05-16T11:41:52.652458Z",
     "shell.execute_reply": "2021-05-16T11:41:52.651903Z"
    },
    "papermill": {
     "duration": 0.025706,
     "end_time": "2021-05-16T11:41:52.652598",
     "exception": false,
     "start_time": "2021-05-16T11:41:52.626892",
     "status": "completed"
    },
    "tags": []
   },
   "outputs": [],
   "source": [
    "df.Gender = df.Gender.map({\"Female\" : 1, \"Male\" : 0})"
   ]
  },
  {
   "cell_type": "code",
   "execution_count": 7,
   "metadata": {
    "execution": {
     "iopub.execute_input": "2021-05-16T11:41:52.685625Z",
     "iopub.status.busy": "2021-05-16T11:41:52.684650Z",
     "iopub.status.idle": "2021-05-16T11:41:52.696348Z",
     "shell.execute_reply": "2021-05-16T11:41:52.696906Z"
    },
    "papermill": {
     "duration": 0.030068,
     "end_time": "2021-05-16T11:41:52.697085",
     "exception": false,
     "start_time": "2021-05-16T11:41:52.667017",
     "status": "completed"
    },
    "tags": []
   },
   "outputs": [
    {
     "data": {
      "text/html": [
       "<div>\n",
       "<style scoped>\n",
       "    .dataframe tbody tr th:only-of-type {\n",
       "        vertical-align: middle;\n",
       "    }\n",
       "\n",
       "    .dataframe tbody tr th {\n",
       "        vertical-align: top;\n",
       "    }\n",
       "\n",
       "    .dataframe thead th {\n",
       "        text-align: right;\n",
       "    }\n",
       "</style>\n",
       "<table border=\"1\" class=\"dataframe\">\n",
       "  <thead>\n",
       "    <tr style=\"text-align: right;\">\n",
       "      <th></th>\n",
       "      <th>Gender</th>\n",
       "      <th>Height</th>\n",
       "      <th>Weight</th>\n",
       "    </tr>\n",
       "  </thead>\n",
       "  <tbody>\n",
       "    <tr>\n",
       "      <th>7113</th>\n",
       "      <td>1</td>\n",
       "      <td>157.811642</td>\n",
       "      <td>56.828213</td>\n",
       "    </tr>\n",
       "    <tr>\n",
       "      <th>6833</th>\n",
       "      <td>1</td>\n",
       "      <td>152.202291</td>\n",
       "      <td>56.947831</td>\n",
       "    </tr>\n",
       "    <tr>\n",
       "      <th>2442</th>\n",
       "      <td>0</td>\n",
       "      <td>175.169492</td>\n",
       "      <td>82.344947</td>\n",
       "    </tr>\n",
       "    <tr>\n",
       "      <th>9689</th>\n",
       "      <td>1</td>\n",
       "      <td>167.230564</td>\n",
       "      <td>65.230242</td>\n",
       "    </tr>\n",
       "    <tr>\n",
       "      <th>8350</th>\n",
       "      <td>1</td>\n",
       "      <td>166.919088</td>\n",
       "      <td>71.528237</td>\n",
       "    </tr>\n",
       "    <tr>\n",
       "      <th>5788</th>\n",
       "      <td>1</td>\n",
       "      <td>163.395464</td>\n",
       "      <td>63.585806</td>\n",
       "    </tr>\n",
       "    <tr>\n",
       "      <th>86</th>\n",
       "      <td>0</td>\n",
       "      <td>169.154339</td>\n",
       "      <td>94.504987</td>\n",
       "    </tr>\n",
       "    <tr>\n",
       "      <th>3287</th>\n",
       "      <td>0</td>\n",
       "      <td>175.862111</td>\n",
       "      <td>89.612642</td>\n",
       "    </tr>\n",
       "    <tr>\n",
       "      <th>9584</th>\n",
       "      <td>1</td>\n",
       "      <td>156.407326</td>\n",
       "      <td>55.585470</td>\n",
       "    </tr>\n",
       "    <tr>\n",
       "      <th>3488</th>\n",
       "      <td>0</td>\n",
       "      <td>160.720784</td>\n",
       "      <td>74.641139</td>\n",
       "    </tr>\n",
       "  </tbody>\n",
       "</table>\n",
       "</div>"
      ],
      "text/plain": [
       "      Gender      Height     Weight\n",
       "7113       1  157.811642  56.828213\n",
       "6833       1  152.202291  56.947831\n",
       "2442       0  175.169492  82.344947\n",
       "9689       1  167.230564  65.230242\n",
       "8350       1  166.919088  71.528237\n",
       "5788       1  163.395464  63.585806\n",
       "86         0  169.154339  94.504987\n",
       "3287       0  175.862111  89.612642\n",
       "9584       1  156.407326  55.585470\n",
       "3488       0  160.720784  74.641139"
      ]
     },
     "execution_count": 7,
     "metadata": {},
     "output_type": "execute_result"
    }
   ],
   "source": [
    "df.sample(n=10)"
   ]
  },
  {
   "cell_type": "markdown",
   "metadata": {
    "papermill": {
     "duration": 0.014652,
     "end_time": "2021-05-16T11:41:52.726771",
     "exception": false,
     "start_time": "2021-05-16T11:41:52.712119",
     "status": "completed"
    },
    "tags": []
   },
   "source": [
    "### Normal distribution"
   ]
  },
  {
   "cell_type": "code",
   "execution_count": 8,
   "metadata": {
    "execution": {
     "iopub.execute_input": "2021-05-16T11:41:52.760651Z",
     "iopub.status.busy": "2021-05-16T11:41:52.759691Z",
     "iopub.status.idle": "2021-05-16T11:41:53.337723Z",
     "shell.execute_reply": "2021-05-16T11:41:53.336291Z"
    },
    "papermill": {
     "duration": 0.596074,
     "end_time": "2021-05-16T11:41:53.337873",
     "exception": false,
     "start_time": "2021-05-16T11:41:52.741799",
     "status": "completed"
    },
    "tags": []
   },
   "outputs": [
    {
     "data": {
      "image/png": "[encoded data removed]",
      "text/plain": [
       "<Figure size 1080x504 with 2 Axes>"
      ]
     },
     "metadata": {
      "needs_background": "light"
     },
     "output_type": "display_data"
    }
   ],
   "source": [
    "f, (ax1, ax2) = plt.subplots(1,2,figsize=(15,7))\n",
    "\n",
    "sns.histplot(df.query(\"Gender==1\").Weight, ax=ax1, color=\"orange\")\n",
    "\n",
    "sns.histplot(df.query(\"Gender==0\").Weight, ax=ax2, color=\"k\")\n",
    "ax1.set_title(\"Women\")\n",
    "ax2.set_title(\"Men\")\n",
    "ax1.grid()\n",
    "ax2.grid()\n",
    "plt.show()"
   ]
  },
  {
   "cell_type": "markdown",
   "metadata": {
    "papermill": {
     "duration": 0.015778,
     "end_time": "2021-05-16T11:41:53.369788",
     "exception": false,
     "start_time": "2021-05-16T11:41:53.354010",
     "status": "completed"
    },
    "tags": []
   },
   "source": [
    "# Best body height"
   ]
  },
  {
   "cell_type": "code",
   "execution_count": 9,
   "metadata": {
    "execution": {
     "iopub.execute_input": "2021-05-16T11:41:53.412931Z",
     "iopub.status.busy": "2021-05-16T11:41:53.412272Z",
     "iopub.status.idle": "2021-05-16T11:41:53.434399Z",
     "shell.execute_reply": "2021-05-16T11:41:53.433761Z"
    },
    "papermill": {
     "duration": 0.048785,
     "end_time": "2021-05-16T11:41:53.434565",
     "exception": false,
     "start_time": "2021-05-16T11:41:53.385780",
     "status": "completed"
    },
    "tags": []
   },
   "outputs": [
    {
     "data": {
      "text/plain": [
       "LinearRegression()"
      ]
     },
     "execution_count": 9,
     "metadata": {},
     "output_type": "execute_result"
    }
   ],
   "source": [
    "model_height = LinearRegression()\n",
    "X = df[ [\"Weight\", \"Gender\"] ]\n",
    "y = df[ [\"Height\"] ]\n",
    "model_height.fit(X, y)"
   ]
  },
  {
   "cell_type": "code",
   "execution_count": 10,
   "metadata": {
    "execution": {
     "iopub.execute_input": "2021-05-16T11:41:53.474269Z",
     "iopub.status.busy": "2021-05-16T11:41:53.473574Z",
     "iopub.status.idle": "2021-05-16T11:41:53.477732Z",
     "shell.execute_reply": "2021-05-16T11:41:53.477188Z"
    },
    "papermill": {
     "duration": 0.026307,
     "end_time": "2021-05-16T11:41:53.477870",
     "exception": false,
     "start_time": "2021-05-16T11:41:53.451563",
     "status": "completed"
    },
    "tags": []
   },
   "outputs": [
    {
     "name": "stdout",
     "output_type": "stream",
     "text": [
      "Your best height is 175 cm.\n"
     ]
    }
   ],
   "source": [
    "YOUR_WEIGHT = 85\n",
    "YOUR_GENDER = 0 # Put 0 for Man, 1 for Woman\n",
    "\n",
    "\n",
    "if 30 <= YOUR_WEIGHT <= 230 and YOUR_GENDER in [0,1]:\n",
    "    print(f\"Your best height is {model_height.predict([ [YOUR_WEIGHT, YOUR_GENDER] ] )[0][0]:.0f} cm.\")\n",
    "else:\n",
    "    print(\"Put correct values!\")"
   ]
  },
  {
   "cell_type": "markdown",
   "metadata": {
    "papermill": {
     "duration": 0.017006,
     "end_time": "2021-05-16T11:41:53.512113",
     "exception": false,
     "start_time": "2021-05-16T11:41:53.495107",
     "status": "completed"
    },
    "tags": []
   },
   "source": [
    "# Best body weight"
   ]
  },
  {
   "cell_type": "code",
   "execution_count": 11,
   "metadata": {
    "execution": {
     "iopub.execute_input": "2021-05-16T11:41:53.550195Z",
     "iopub.status.busy": "2021-05-16T11:41:53.549565Z",
     "iopub.status.idle": "2021-05-16T11:41:53.561792Z",
     "shell.execute_reply": "2021-05-16T11:41:53.562228Z"
    },
    "papermill": {
     "duration": 0.032944,
     "end_time": "2021-05-16T11:41:53.562400",
     "exception": false,
     "start_time": "2021-05-16T11:41:53.529456",
     "status": "completed"
    },
    "tags": []
   },
   "outputs": [
    {
     "data": {
      "text/plain": [
       "LinearRegression()"
      ]
     },
     "execution_count": 11,
     "metadata": {},
     "output_type": "execute_result"
    }
   ],
   "source": [
    "model_weight = LinearRegression()\n",
    "X = df[ [\"Height\", \"Gender\"] ]\n",
    "y = df[ [\"Weight\"] ]\n",
    "model_weight.fit(X, y)"
   ]
  },
  {
   "cell_type": "code",
   "execution_count": 12,
   "metadata": {
    "execution": {
     "iopub.execute_input": "2021-05-16T11:41:53.600797Z",
     "iopub.status.busy": "2021-05-16T11:41:53.600120Z",
     "iopub.status.idle": "2021-05-16T11:41:53.608218Z",
     "shell.execute_reply": "2021-05-16T11:41:53.606981Z"
    },
    "papermill": {
     "duration": 0.0285,
     "end_time": "2021-05-16T11:41:53.608459",
     "exception": false,
     "start_time": "2021-05-16T11:41:53.579959",
     "status": "completed"
    },
    "tags": []
   },
   "outputs": [
    {
     "name": "stdout",
     "output_type": "stream",
     "text": [
      "Your best weight is 47 kg.\n"
     ]
    }
   ],
   "source": [
    "YOUR_HEIGHT = 148\n",
    "YOUR_GENDER = 1 # Put 0 for Man, 1 for Woman\n",
    "\n",
    "if 50 <= YOUR_HEIGHT <= 240 and YOUR_GENDER in [0,1]:\n",
    "    print(f\"Your best weight is {model_weight.predict([ [YOUR_HEIGHT, YOUR_GENDER] ] )[0][0]:.0f} kg.\")\n",
    "else:\n",
    "    print(\"Put correct values!\")"
   ]
  },
  {
   "cell_type": "code",
   "execution_count": null,
   "metadata": {
    "papermill": {
     "duration": 0.018084,
     "end_time": "2021-05-16T11:41:53.645515",
     "exception": false,
     "start_time": "2021-05-16T11:41:53.627431",
     "status": "completed"
    },
    "tags": []
   },
   "outputs": [],
   "source": []
  }
 ],
 "metadata": {
  "kernelspec": {
   "display_name": "Python 3",
   "language": "python",
   "name": "python3"
  },
  "language_info": {
   "codemirror_mode": {
    "name": "ipython",
    "version": 3
   },
   "file_extension": ".py",
   "mimetype": "text/x-python",
   "name": "python",
   "nbconvert_exporter": "python",
   "pygments_lexer": "ipython3",
   "version": "3.8.5"
  },
  "papermill": {
   "default_parameters": {},
   "duration": 9.34577,
   "end_time": "2021-05-16T11:41:54.374852",
   "environment_variables": {},
   "exception": null,
   "input_path": "__notebook__.ipynb",
   "output_path": "__notebook__.ipynb",
   "parameters": {},
   "start_time": "2021-05-16T11:41:45.029082",
   "version": "2.3.2"
  }
 },
 "nbformat": 4,
 "nbformat_minor": 5
}
