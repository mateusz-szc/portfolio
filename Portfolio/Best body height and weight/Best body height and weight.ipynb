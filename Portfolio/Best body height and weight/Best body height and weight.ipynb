{
 "cells": [
  {
   "cell_type": "code",
   "execution_count": 1,
   "metadata": {},
   "outputs": [],
   "source": [
    "import pandas as pd\n",
    "import matplotlib.pyplot as plt\n",
    "import seaborn as sns\n",
    "from sklearn.linear_model import LinearRegression"
   ]
  },
  {
   "cell_type": "code",
   "execution_count": 2,
   "metadata": {},
   "outputs": [
    {
     "data": {
      "text/html": [
       "<div>\n",
       "<style scoped>\n",
       "    .dataframe tbody tr th:only-of-type {\n",
       "        vertical-align: middle;\n",
       "    }\n",
       "\n",
       "    .dataframe tbody tr th {\n",
       "        vertical-align: top;\n",
       "    }\n",
       "\n",
       "    .dataframe thead th {\n",
       "        text-align: right;\n",
       "    }\n",
       "</style>\n",
       "<table border=\"1\" class=\"dataframe\">\n",
       "  <thead>\n",
       "    <tr style=\"text-align: right;\">\n",
       "      <th></th>\n",
       "      <th>Gender</th>\n",
       "      <th>Height</th>\n",
       "      <th>Weight</th>\n",
       "    </tr>\n",
       "  </thead>\n",
       "  <tbody>\n",
       "    <tr>\n",
       "      <th>7394</th>\n",
       "      <td>Female</td>\n",
       "      <td>60.143322</td>\n",
       "      <td>118.797659</td>\n",
       "    </tr>\n",
       "    <tr>\n",
       "      <th>4820</th>\n",
       "      <td>Male</td>\n",
       "      <td>65.659505</td>\n",
       "      <td>151.627434</td>\n",
       "    </tr>\n",
       "    <tr>\n",
       "      <th>6801</th>\n",
       "      <td>Female</td>\n",
       "      <td>65.084167</td>\n",
       "      <td>137.168120</td>\n",
       "    </tr>\n",
       "  </tbody>\n",
       "</table>\n",
       "</div>"
      ],
      "text/plain": [
       "      Gender     Height      Weight\n",
       "7394  Female  60.143322  118.797659\n",
       "4820    Male  65.659505  151.627434\n",
       "6801  Female  65.084167  137.168120"
      ]
     },
     "execution_count": 2,
     "metadata": {},
     "output_type": "execute_result"
    }
   ],
   "source": [
    "df = pd.read_csv(filepath_or_buffer=\"weight-height.csv\")\n",
    "df.sample(3)"
   ]
  },
  {
   "cell_type": "markdown",
   "metadata": {},
   "source": [
    "#### Checking how many womens and mens."
   ]
  },
  {
   "cell_type": "code",
   "execution_count": 3,
   "metadata": {},
   "outputs": [
    {
     "data": {
      "text/plain": [
       "Male      5000\n",
       "Female    5000\n",
       "Name: Gender, dtype: int64"
      ]
     },
     "execution_count": 3,
     "metadata": {},
     "output_type": "execute_result"
    }
   ],
   "source": [
    "df.Gender.value_counts()"
   ]
  },
  {
   "cell_type": "markdown",
   "metadata": {},
   "source": [
    "#### Change 'Weight' from pounds to kilograms."
   ]
  },
  {
   "cell_type": "code",
   "execution_count": 4,
   "metadata": {},
   "outputs": [],
   "source": [
    "df.Weight /= 2.2046"
   ]
  },
  {
   "cell_type": "markdown",
   "metadata": {},
   "source": [
    "#### Change 'Height' from inches to centimeters."
   ]
  },
  {
   "cell_type": "code",
   "execution_count": 5,
   "metadata": {},
   "outputs": [],
   "source": [
    "df.Height *= 2.54"
   ]
  },
  {
   "cell_type": "markdown",
   "metadata": {},
   "source": [
    "#### Change 'Gender' into binary."
   ]
  },
  {
   "cell_type": "code",
   "execution_count": 6,
   "metadata": {},
   "outputs": [],
   "source": [
    "df.Gender = df.Gender.map({\"Female\" : 1, \"Male\" : 0})"
   ]
  },
  {
   "cell_type": "code",
   "execution_count": 7,
   "metadata": {},
   "outputs": [
    {
     "data": {
      "text/html": [
       "<div>\n",
       "<style scoped>\n",
       "    .dataframe tbody tr th:only-of-type {\n",
       "        vertical-align: middle;\n",
       "    }\n",
       "\n",
       "    .dataframe tbody tr th {\n",
       "        vertical-align: top;\n",
       "    }\n",
       "\n",
       "    .dataframe thead th {\n",
       "        text-align: right;\n",
       "    }\n",
       "</style>\n",
       "<table border=\"1\" class=\"dataframe\">\n",
       "  <thead>\n",
       "    <tr style=\"text-align: right;\">\n",
       "      <th></th>\n",
       "      <th>Gender</th>\n",
       "      <th>Height</th>\n",
       "      <th>Weight</th>\n",
       "    </tr>\n",
       "  </thead>\n",
       "  <tbody>\n",
       "    <tr>\n",
       "      <th>4646</th>\n",
       "      <td>0</td>\n",
       "      <td>175.675171</td>\n",
       "      <td>85.796453</td>\n",
       "    </tr>\n",
       "    <tr>\n",
       "      <th>1103</th>\n",
       "      <td>0</td>\n",
       "      <td>185.220273</td>\n",
       "      <td>97.035510</td>\n",
       "    </tr>\n",
       "    <tr>\n",
       "      <th>3687</th>\n",
       "      <td>0</td>\n",
       "      <td>184.240370</td>\n",
       "      <td>93.242216</td>\n",
       "    </tr>\n",
       "    <tr>\n",
       "      <th>7172</th>\n",
       "      <td>1</td>\n",
       "      <td>164.590460</td>\n",
       "      <td>66.241876</td>\n",
       "    </tr>\n",
       "    <tr>\n",
       "      <th>3835</th>\n",
       "      <td>0</td>\n",
       "      <td>168.731543</td>\n",
       "      <td>87.066356</td>\n",
       "    </tr>\n",
       "    <tr>\n",
       "      <th>7187</th>\n",
       "      <td>1</td>\n",
       "      <td>168.124052</td>\n",
       "      <td>67.849861</td>\n",
       "    </tr>\n",
       "    <tr>\n",
       "      <th>6451</th>\n",
       "      <td>1</td>\n",
       "      <td>161.164020</td>\n",
       "      <td>60.562230</td>\n",
       "    </tr>\n",
       "    <tr>\n",
       "      <th>8117</th>\n",
       "      <td>1</td>\n",
       "      <td>161.774429</td>\n",
       "      <td>55.172552</td>\n",
       "    </tr>\n",
       "    <tr>\n",
       "      <th>9021</th>\n",
       "      <td>1</td>\n",
       "      <td>164.132927</td>\n",
       "      <td>63.239069</td>\n",
       "    </tr>\n",
       "    <tr>\n",
       "      <th>5488</th>\n",
       "      <td>1</td>\n",
       "      <td>163.959136</td>\n",
       "      <td>60.469499</td>\n",
       "    </tr>\n",
       "  </tbody>\n",
       "</table>\n",
       "</div>"
      ],
      "text/plain": [
       "      Gender      Height     Weight\n",
       "4646       0  175.675171  85.796453\n",
       "1103       0  185.220273  97.035510\n",
       "3687       0  184.240370  93.242216\n",
       "7172       1  164.590460  66.241876\n",
       "3835       0  168.731543  87.066356\n",
       "7187       1  168.124052  67.849861\n",
       "6451       1  161.164020  60.562230\n",
       "8117       1  161.774429  55.172552\n",
       "9021       1  164.132927  63.239069\n",
       "5488       1  163.959136  60.469499"
      ]
     },
     "execution_count": 7,
     "metadata": {},
     "output_type": "execute_result"
    }
   ],
   "source": [
    "df.sample(n=10)"
   ]
  },
  {
   "cell_type": "markdown",
   "metadata": {},
   "source": [
    "### Normal distribution"
   ]
  },
  {
   "cell_type": "code",
   "execution_count": 8,
   "metadata": {},
   "outputs": [
    {
     "data": {
      "image/png": "[encoded data removed]",
      "text/plain": [
       "<Figure size 1080x504 with 2 Axes>"
      ]
     },
     "metadata": {
      "needs_background": "light"
     },
     "output_type": "display_data"
    }
   ],
   "source": [
    "f, (ax1, ax2) = plt.subplots(1,2,figsize=(15,7))\n",
    "\n",
    "sns.histplot(df.query(\"Gender==1\").Weight, ax=ax1, color=\"orange\")\n",
    "\n",
    "sns.histplot(df.query(\"Gender==0\").Weight, ax=ax2, color=\"k\")\n",
    "ax1.set_title(\"Women\")\n",
    "ax2.set_title(\"Men\")\n",
    "ax1.grid()\n",
    "ax2.grid()\n",
    "plt.show()"
   ]
  },
  {
   "cell_type": "markdown",
   "metadata": {},
   "source": [
    "# Best body height"
   ]
  },
  {
   "cell_type": "code",
   "execution_count": 9,
   "metadata": {},
   "outputs": [
    {
     "data": {
      "text/plain": [
       "LinearRegression()"
      ]
     },
     "execution_count": 9,
     "metadata": {},
     "output_type": "execute_result"
    }
   ],
   "source": [
    "model_height = LinearRegression()\n",
    "X = df[ [\"Weight\", \"Gender\"] ]\n",
    "y = df[ [\"Height\"] ]\n",
    "model_height.fit(X, y)"
   ]
  },
  {
   "cell_type": "code",
   "execution_count": 10,
   "metadata": {},
   "outputs": [
    {
     "name": "stdout",
     "output_type": "stream",
     "text": [
      "Your best height is 167 cm.\n"
     ]
    }
   ],
   "source": [
    "YOUR_WEIGHT = 72\n",
    "YOUR_GENDER = 0 # Put 0 for Man, 1 for Woman\n",
    "\n",
    "\n",
    "if 30 <= YOUR_WEIGHT <= 230 and YOUR_GENDER in [0,1]:\n",
    "    print(f\"Your best height is {model_height.predict([ [YOUR_WEIGHT, YOUR_GENDER] ] )[0][0]:.0f} cm.\")\n",
    "else:\n",
    "    print(\"Put correct values!\")"
   ]
  },
  {
   "cell_type": "markdown",
   "metadata": {},
   "source": [
    "# Best body weight"
   ]
  },
  {
   "cell_type": "code",
   "execution_count": 11,
   "metadata": {},
   "outputs": [
    {
     "data": {
      "text/plain": [
       "LinearRegression()"
      ]
     },
     "execution_count": 11,
     "metadata": {},
     "output_type": "execute_result"
    }
   ],
   "source": [
    "model_weight = LinearRegression()\n",
    "X = df[ [\"Height\", \"Gender\"] ]\n",
    "y = df[ [\"Weight\"] ]\n",
    "model_weight.fit(X, y)"
   ]
  },
  {
   "cell_type": "code",
   "execution_count": 12,
   "metadata": {},
   "outputs": [
    {
     "name": "stdout",
     "output_type": "stream",
     "text": [
      "Your best weight is 95 kg.\n"
     ]
    }
   ],
   "source": [
    "YOUR_HEIGHT = 185\n",
    "YOUR_GENDER = 0 # Put 0 for Man, 1 for Woman\n",
    "\n",
    "if 50 <= YOUR_HEIGHT <= 240 and YOUR_GENDER in [0,1]:\n",
    "    print(f\"Your best weight is {model_weight.predict([ [YOUR_HEIGHT, YOUR_GENDER] ] )[0][0]:.0f} kg.\")\n",
    "else:\n",
    "    print(\"Put correct values!\")"
   ]
  },
  {
   "cell_type": "code",
   "execution_count": null,
   "metadata": {},
   "outputs": [],
   "source": []
  }
 ],
 "metadata": {
  "kernelspec": {
   "display_name": "Python 3",
   "language": "python",
   "name": "python3"
  },
  "language_info": {
   "codemirror_mode": {
    "name": "ipython",
    "version": 3
   },
   "file_extension": ".py",
   "mimetype": "text/x-python",
   "name": "python",
   "nbconvert_exporter": "python",
   "pygments_lexer": "ipython3",
   "version": "3.8.5"
  }
 },
 "nbformat": 4,
 "nbformat_minor": 4
}
