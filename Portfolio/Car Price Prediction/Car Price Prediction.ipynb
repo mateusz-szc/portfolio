{
 "cells":  [
  {
   "cell_type": "markdown",
   "metadata": {},
   "source": [
    "<table align=\"left\">\n",
    "  <td>\n",
    "    <a target=\"_blank\" href=\"https://www.kaggle.com/mateuszszczepanek/car-price-prediction\"><img src=\"https://cdn.iconscout.com/icon/free/png-128/kaggle-3628869-3030009.png\" />Open in Kaggle</a>\n",
    "  </td>\n",
    "</table>"
   ]
  },
  {
   "cell_type": "code",
   "execution_count": 1,
   "metadata": {
    "execution": {
     "iopub.execute_input": "2021-05-16T11:35:39.465676Z",
     "iopub.status.busy": "2021-05-16T11:35:39.464978Z",
     "iopub.status.idle": "2021-05-16T11:35:40.593282Z",
     "shell.execute_reply": "2021-05-16T11:35:40.592648Z"
    },
    "papermill": {
     "duration": 1.164056,
     "end_time": "2021-05-16T11:35:40.593482",
     "exception": false,
     "start_time": "2021-05-16T11:35:39.429426",
     "status": "completed"
    },
    "tags": []
   },
   "outputs": [],
   "source": [
    "import numpy as np\n",
    "import pandas as pd\n",
    "import random\n",
    "import matplotlib.pyplot as plt\n",
    "import seaborn as sns\n",
    "\n",
    "from sklearn.model_selection import train_test_split\n",
    "from sklearn.linear_model import LinearRegression\n",
    "\n",
    "import warnings\n",
    "warnings.filterwarnings('ignore')"
   ]
  },
  {
   "cell_type": "markdown",
   "metadata": {
    "papermill": {
     "duration": 0.02349,
     "end_time": "2021-05-16T11:35:40.641773",
     "exception": false,
     "start_time": "2021-05-16T11:35:40.618283",
     "status": "completed"
    },
    "tags": []
   },
   "source": [
    "## Reading the Data"
   ]
  },
  {
   "cell_type": "code",
   "execution_count": 2,
   "metadata": {
    "execution": {
     "iopub.execute_input": "2021-05-16T11:35:40.694202Z",
     "iopub.status.busy": "2021-05-16T11:35:40.693569Z",
     "iopub.status.idle": "2021-05-16T11:35:40.751091Z",
     "shell.execute_reply": "2021-05-16T11:35:40.750148Z"
    },
    "papermill": {
     "duration": 0.085684,
     "end_time": "2021-05-16T11:35:40.751263",
     "exception": false,
     "start_time": "2021-05-16T11:35:40.665579",
     "status": "completed"
    },
    "tags": []
   },
   "outputs": [
    {
     "data": {
      "text/html": [
       "<div>\n",
       "<style scoped>\n",
       "    .dataframe tbody tr th:only-of-type {\n",
       "        vertical-align: middle;\n",
       "    }\n",
       "\n",
       "    .dataframe tbody tr th {\n",
       "        vertical-align: top;\n",
       "    }\n",
       "\n",
       "    .dataframe thead th {\n",
       "        text-align: right;\n",
       "    }\n",
       "</style>\n",
       "<table border=\"1\" class=\"dataframe\">\n",
       "  <thead>\n",
       "    <tr style=\"text-align: right;\">\n",
       "      <th></th>\n",
       "      <th>car_ID</th>\n",
       "      <th>symboling</th>\n",
       "      <th>CarName</th>\n",
       "      <th>fueltype</th>\n",
       "      <th>aspiration</th>\n",
       "      <th>doornumber</th>\n",
       "      <th>carbody</th>\n",
       "      <th>drivewheel</th>\n",
       "      <th>enginelocation</th>\n",
       "      <th>wheelbase</th>\n",
       "      <th>...</th>\n",
       "      <th>enginesize</th>\n",
       "      <th>fuelsystem</th>\n",
       "      <th>boreratio</th>\n",
       "      <th>stroke</th>\n",
       "      <th>compressionratio</th>\n",
       "      <th>horsepower</th>\n",
       "      <th>peakrpm</th>\n",
       "      <th>citympg</th>\n",
       "      <th>highwaympg</th>\n",
       "      <th>price</th>\n",
       "    </tr>\n",
       "  </thead>\n",
       "  <tbody>\n",
       "    <tr>\n",
       "      <th>0</th>\n",
       "      <td>1</td>\n",
       "      <td>3</td>\n",
       "      <td>alfa-romero giulia</td>\n",
       "      <td>gas</td>\n",
       "      <td>std</td>\n",
       "      <td>two</td>\n",
       "      <td>convertible</td>\n",
       "      <td>rwd</td>\n",
       "      <td>front</td>\n",
       "      <td>88.6</td>\n",
       "      <td>...</td>\n",
       "      <td>130</td>\n",
       "      <td>mpfi</td>\n",
       "      <td>3.47</td>\n",
       "      <td>2.68</td>\n",
       "      <td>9.0</td>\n",
       "      <td>111</td>\n",
       "      <td>5000</td>\n",
       "      <td>21</td>\n",
       "      <td>27</td>\n",
       "      <td>13495.0</td>\n",
       "    </tr>\n",
       "    <tr>\n",
       "      <th>1</th>\n",
       "      <td>2</td>\n",
       "      <td>3</td>\n",
       "      <td>alfa-romero stelvio</td>\n",
       "      <td>gas</td>\n",
       "      <td>std</td>\n",
       "      <td>two</td>\n",
       "      <td>convertible</td>\n",
       "      <td>rwd</td>\n",
       "      <td>front</td>\n",
       "      <td>88.6</td>\n",
       "      <td>...</td>\n",
       "      <td>130</td>\n",
       "      <td>mpfi</td>\n",
       "      <td>3.47</td>\n",
       "      <td>2.68</td>\n",
       "      <td>9.0</td>\n",
       "      <td>111</td>\n",
       "      <td>5000</td>\n",
       "      <td>21</td>\n",
       "      <td>27</td>\n",
       "      <td>16500.0</td>\n",
       "    </tr>\n",
       "    <tr>\n",
       "      <th>2</th>\n",
       "      <td>3</td>\n",
       "      <td>1</td>\n",
       "      <td>alfa-romero Quadrifoglio</td>\n",
       "      <td>gas</td>\n",
       "      <td>std</td>\n",
       "      <td>two</td>\n",
       "      <td>hatchback</td>\n",
       "      <td>rwd</td>\n",
       "      <td>front</td>\n",
       "      <td>94.5</td>\n",
       "      <td>...</td>\n",
       "      <td>152</td>\n",
       "      <td>mpfi</td>\n",
       "      <td>2.68</td>\n",
       "      <td>3.47</td>\n",
       "      <td>9.0</td>\n",
       "      <td>154</td>\n",
       "      <td>5000</td>\n",
       "      <td>19</td>\n",
       "      <td>26</td>\n",
       "      <td>16500.0</td>\n",
       "    </tr>\n",
       "  </tbody>\n",
       "</table>\n",
       "<p>3 rows × 26 columns</p>\n",
       "</div>"
      ],
      "text/plain": [
       "   car_ID  symboling                   CarName fueltype aspiration doornumber  \\\n",
       "0       1          3        alfa-romero giulia      gas        std        two   \n",
       "1       2          3       alfa-romero stelvio      gas        std        two   \n",
       "2       3          1  alfa-romero Quadrifoglio      gas        std        two   \n",
       "\n",
       "       carbody drivewheel enginelocation  wheelbase  ...  enginesize  \\\n",
       "0  convertible        rwd          front       88.6  ...         130   \n",
       "1  convertible        rwd          front       88.6  ...         130   \n",
       "2    hatchback        rwd          front       94.5  ...         152   \n",
       "\n",
       "   fuelsystem  boreratio  stroke compressionratio horsepower  peakrpm citympg  \\\n",
       "0        mpfi       3.47    2.68              9.0        111     5000      21   \n",
       "1        mpfi       3.47    2.68              9.0        111     5000      21   \n",
       "2        mpfi       2.68    3.47              9.0        154     5000      19   \n",
       "\n",
       "   highwaympg    price  \n",
       "0          27  13495.0  \n",
       "1          27  16500.0  \n",
       "2          26  16500.0  \n",
       "\n",
       "[3 rows x 26 columns]"
      ]
     },
     "execution_count": 2,
     "metadata": {},
     "output_type": "execute_result"
    }
   ],
   "source": [
    "df = pd.read_csv(\"../input/car-price-prediction/CarPrice_Assignment.csv\")\n",
    "df.head(3)"
   ]
  },
  {
   "cell_type": "code",
   "execution_count": 3,
   "metadata": {
    "execution": {
     "iopub.execute_input": "2021-05-16T11:35:40.805597Z",
     "iopub.status.busy": "2021-05-16T11:35:40.804966Z",
     "iopub.status.idle": "2021-05-16T11:35:40.808506Z",
     "shell.execute_reply": "2021-05-16T11:35:40.807882Z"
    },
    "papermill": {
     "duration": 0.032198,
     "end_time": "2021-05-16T11:35:40.808638",
     "exception": false,
     "start_time": "2021-05-16T11:35:40.776440",
     "status": "completed"
    },
    "tags": []
   },
   "outputs": [
    {
     "data": {
      "text/plain": [
       "(205, 26)"
      ]
     },
     "execution_count": 3,
     "metadata": {},
     "output_type": "execute_result"
    }
   ],
   "source": [
    "df.shape"
   ]
  },
  {
   "cell_type": "code",
   "execution_count": 4,
   "metadata": {
    "execution": {
     "iopub.execute_input": "2021-05-16T11:35:40.868273Z",
     "iopub.status.busy": "2021-05-16T11:35:40.867637Z",
     "iopub.status.idle": "2021-05-16T11:35:40.922058Z",
     "shell.execute_reply": "2021-05-16T11:35:40.921554Z"
    },
    "papermill": {
     "duration": 0.088357,
     "end_time": "2021-05-16T11:35:40.922235",
     "exception": false,
     "start_time": "2021-05-16T11:35:40.833878",
     "status": "completed"
    },
    "tags": []
   },
   "outputs": [
    {
     "data": {
      "text/html": [
       "<div>\n",
       "<style scoped>\n",
       "    .dataframe tbody tr th:only-of-type {\n",
       "        vertical-align: middle;\n",
       "    }\n",
       "\n",
       "    .dataframe tbody tr th {\n",
       "        vertical-align: top;\n",
       "    }\n",
       "\n",
       "    .dataframe thead th {\n",
       "        text-align: right;\n",
       "    }\n",
       "</style>\n",
       "<table border=\"1\" class=\"dataframe\">\n",
       "  <thead>\n",
       "    <tr style=\"text-align: right;\">\n",
       "      <th></th>\n",
       "      <th>car_ID</th>\n",
       "      <th>symboling</th>\n",
       "      <th>wheelbase</th>\n",
       "      <th>carlength</th>\n",
       "      <th>carwidth</th>\n",
       "      <th>carheight</th>\n",
       "      <th>curbweight</th>\n",
       "      <th>enginesize</th>\n",
       "      <th>boreratio</th>\n",
       "      <th>stroke</th>\n",
       "      <th>compressionratio</th>\n",
       "      <th>horsepower</th>\n",
       "      <th>peakrpm</th>\n",
       "      <th>citympg</th>\n",
       "      <th>highwaympg</th>\n",
       "      <th>price</th>\n",
       "    </tr>\n",
       "  </thead>\n",
       "  <tbody>\n",
       "    <tr>\n",
       "      <th>count</th>\n",
       "      <td>205.000000</td>\n",
       "      <td>205.000000</td>\n",
       "      <td>205.000000</td>\n",
       "      <td>205.000000</td>\n",
       "      <td>205.000000</td>\n",
       "      <td>205.000000</td>\n",
       "      <td>205.000000</td>\n",
       "      <td>205.000000</td>\n",
       "      <td>205.000000</td>\n",
       "      <td>205.000000</td>\n",
       "      <td>205.000000</td>\n",
       "      <td>205.000000</td>\n",
       "      <td>205.000000</td>\n",
       "      <td>205.000000</td>\n",
       "      <td>205.000000</td>\n",
       "      <td>205.000000</td>\n",
       "    </tr>\n",
       "    <tr>\n",
       "      <th>mean</th>\n",
       "      <td>103.000000</td>\n",
       "      <td>0.834146</td>\n",
       "      <td>98.756585</td>\n",
       "      <td>174.049268</td>\n",
       "      <td>65.907805</td>\n",
       "      <td>53.724878</td>\n",
       "      <td>2555.565854</td>\n",
       "      <td>126.907317</td>\n",
       "      <td>3.329756</td>\n",
       "      <td>3.255415</td>\n",
       "      <td>10.142537</td>\n",
       "      <td>104.117073</td>\n",
       "      <td>5125.121951</td>\n",
       "      <td>25.219512</td>\n",
       "      <td>30.751220</td>\n",
       "      <td>13276.710571</td>\n",
       "    </tr>\n",
       "    <tr>\n",
       "      <th>std</th>\n",
       "      <td>59.322565</td>\n",
       "      <td>1.245307</td>\n",
       "      <td>6.021776</td>\n",
       "      <td>12.337289</td>\n",
       "      <td>2.145204</td>\n",
       "      <td>2.443522</td>\n",
       "      <td>520.680204</td>\n",
       "      <td>41.642693</td>\n",
       "      <td>0.270844</td>\n",
       "      <td>0.313597</td>\n",
       "      <td>3.972040</td>\n",
       "      <td>39.544167</td>\n",
       "      <td>476.985643</td>\n",
       "      <td>6.542142</td>\n",
       "      <td>6.886443</td>\n",
       "      <td>7988.852332</td>\n",
       "    </tr>\n",
       "    <tr>\n",
       "      <th>min</th>\n",
       "      <td>1.000000</td>\n",
       "      <td>-2.000000</td>\n",
       "      <td>86.600000</td>\n",
       "      <td>141.100000</td>\n",
       "      <td>60.300000</td>\n",
       "      <td>47.800000</td>\n",
       "      <td>1488.000000</td>\n",
       "      <td>61.000000</td>\n",
       "      <td>2.540000</td>\n",
       "      <td>2.070000</td>\n",
       "      <td>7.000000</td>\n",
       "      <td>48.000000</td>\n",
       "      <td>4150.000000</td>\n",
       "      <td>13.000000</td>\n",
       "      <td>16.000000</td>\n",
       "      <td>5118.000000</td>\n",
       "    </tr>\n",
       "    <tr>\n",
       "      <th>25%</th>\n",
       "      <td>52.000000</td>\n",
       "      <td>0.000000</td>\n",
       "      <td>94.500000</td>\n",
       "      <td>166.300000</td>\n",
       "      <td>64.100000</td>\n",
       "      <td>52.000000</td>\n",
       "      <td>2145.000000</td>\n",
       "      <td>97.000000</td>\n",
       "      <td>3.150000</td>\n",
       "      <td>3.110000</td>\n",
       "      <td>8.600000</td>\n",
       "      <td>70.000000</td>\n",
       "      <td>4800.000000</td>\n",
       "      <td>19.000000</td>\n",
       "      <td>25.000000</td>\n",
       "      <td>7788.000000</td>\n",
       "    </tr>\n",
       "    <tr>\n",
       "      <th>50%</th>\n",
       "      <td>103.000000</td>\n",
       "      <td>1.000000</td>\n",
       "      <td>97.000000</td>\n",
       "      <td>173.200000</td>\n",
       "      <td>65.500000</td>\n",
       "      <td>54.100000</td>\n",
       "      <td>2414.000000</td>\n",
       "      <td>120.000000</td>\n",
       "      <td>3.310000</td>\n",
       "      <td>3.290000</td>\n",
       "      <td>9.000000</td>\n",
       "      <td>95.000000</td>\n",
       "      <td>5200.000000</td>\n",
       "      <td>24.000000</td>\n",
       "      <td>30.000000</td>\n",
       "      <td>10295.000000</td>\n",
       "    </tr>\n",
       "    <tr>\n",
       "      <th>75%</th>\n",
       "      <td>154.000000</td>\n",
       "      <td>2.000000</td>\n",
       "      <td>102.400000</td>\n",
       "      <td>183.100000</td>\n",
       "      <td>66.900000</td>\n",
       "      <td>55.500000</td>\n",
       "      <td>2935.000000</td>\n",
       "      <td>141.000000</td>\n",
       "      <td>3.580000</td>\n",
       "      <td>3.410000</td>\n",
       "      <td>9.400000</td>\n",
       "      <td>116.000000</td>\n",
       "      <td>5500.000000</td>\n",
       "      <td>30.000000</td>\n",
       "      <td>34.000000</td>\n",
       "      <td>16503.000000</td>\n",
       "    </tr>\n",
       "    <tr>\n",
       "      <th>max</th>\n",
       "      <td>205.000000</td>\n",
       "      <td>3.000000</td>\n",
       "      <td>120.900000</td>\n",
       "      <td>208.100000</td>\n",
       "      <td>72.300000</td>\n",
       "      <td>59.800000</td>\n",
       "      <td>4066.000000</td>\n",
       "      <td>326.000000</td>\n",
       "      <td>3.940000</td>\n",
       "      <td>4.170000</td>\n",
       "      <td>23.000000</td>\n",
       "      <td>288.000000</td>\n",
       "      <td>6600.000000</td>\n",
       "      <td>49.000000</td>\n",
       "      <td>54.000000</td>\n",
       "      <td>45400.000000</td>\n",
       "    </tr>\n",
       "  </tbody>\n",
       "</table>\n",
       "</div>"
      ],
      "text/plain": [
       "           car_ID   symboling   wheelbase   carlength    carwidth   carheight  \\\n",
       "count  205.000000  205.000000  205.000000  205.000000  205.000000  205.000000   \n",
       "mean   103.000000    0.834146   98.756585  174.049268   65.907805   53.724878   \n",
       "std     59.322565    1.245307    6.021776   12.337289    2.145204    2.443522   \n",
       "min      1.000000   -2.000000   86.600000  141.100000   60.300000   47.800000   \n",
       "25%     52.000000    0.000000   94.500000  166.300000   64.100000   52.000000   \n",
       "50%    103.000000    1.000000   97.000000  173.200000   65.500000   54.100000   \n",
       "75%    154.000000    2.000000  102.400000  183.100000   66.900000   55.500000   \n",
       "max    205.000000    3.000000  120.900000  208.100000   72.300000   59.800000   \n",
       "\n",
       "        curbweight  enginesize   boreratio      stroke  compressionratio  \\\n",
       "count   205.000000  205.000000  205.000000  205.000000        205.000000   \n",
       "mean   2555.565854  126.907317    3.329756    3.255415         10.142537   \n",
       "std     520.680204   41.642693    0.270844    0.313597          3.972040   \n",
       "min    1488.000000   61.000000    2.540000    2.070000          7.000000   \n",
       "25%    2145.000000   97.000000    3.150000    3.110000          8.600000   \n",
       "50%    2414.000000  120.000000    3.310000    3.290000          9.000000   \n",
       "75%    2935.000000  141.000000    3.580000    3.410000          9.400000   \n",
       "max    4066.000000  326.000000    3.940000    4.170000         23.000000   \n",
       "\n",
       "       horsepower      peakrpm     citympg  highwaympg         price  \n",
       "count  205.000000   205.000000  205.000000  205.000000    205.000000  \n",
       "mean   104.117073  5125.121951   25.219512   30.751220  13276.710571  \n",
       "std     39.544167   476.985643    6.542142    6.886443   7988.852332  \n",
       "min     48.000000  4150.000000   13.000000   16.000000   5118.000000  \n",
       "25%     70.000000  4800.000000   19.000000   25.000000   7788.000000  \n",
       "50%     95.000000  5200.000000   24.000000   30.000000  10295.000000  \n",
       "75%    116.000000  5500.000000   30.000000   34.000000  16503.000000  \n",
       "max    288.000000  6600.000000   49.000000   54.000000  45400.000000  "
      ]
     },
     "execution_count": 4,
     "metadata": {},
     "output_type": "execute_result"
    }
   ],
   "source": [
    "df.describe()"
   ]
  },
  {
   "cell_type": "markdown",
   "metadata": {
    "papermill": {
     "duration": 0.02565,
     "end_time": "2021-05-16T11:35:40.973818",
     "exception": false,
     "start_time": "2021-05-16T11:35:40.948168",
     "status": "completed"
    },
    "tags": []
   },
   "source": [
    " - Take only company name from **\"CarName\"** column"
   ]
  },
  {
   "cell_type": "code",
   "execution_count": 5,
   "metadata": {
    "execution": {
     "iopub.execute_input": "2021-05-16T11:35:41.035985Z",
     "iopub.status.busy": "2021-05-16T11:35:41.035333Z",
     "iopub.status.idle": "2021-05-16T11:35:41.056033Z",
     "shell.execute_reply": "2021-05-16T11:35:41.056498Z"
    },
    "papermill": {
     "duration": 0.056701,
     "end_time": "2021-05-16T11:35:41.056666",
     "exception": false,
     "start_time": "2021-05-16T11:35:40.999965",
     "status": "completed"
    },
    "tags": []
   },
   "outputs": [
    {
     "data": {
      "text/html": [
       "<div>\n",
       "<style scoped>\n",
       "    .dataframe tbody tr th:only-of-type {\n",
       "        vertical-align: middle;\n",
       "    }\n",
       "\n",
       "    .dataframe tbody tr th {\n",
       "        vertical-align: top;\n",
       "    }\n",
       "\n",
       "    .dataframe thead th {\n",
       "        text-align: right;\n",
       "    }\n",
       "</style>\n",
       "<table border=\"1\" class=\"dataframe\">\n",
       "  <thead>\n",
       "    <tr style=\"text-align: right;\">\n",
       "      <th></th>\n",
       "      <th>car_ID</th>\n",
       "      <th>symboling</th>\n",
       "      <th>Company</th>\n",
       "      <th>CarName</th>\n",
       "      <th>fueltype</th>\n",
       "      <th>aspiration</th>\n",
       "      <th>doornumber</th>\n",
       "      <th>carbody</th>\n",
       "      <th>drivewheel</th>\n",
       "      <th>enginelocation</th>\n",
       "      <th>...</th>\n",
       "      <th>enginesize</th>\n",
       "      <th>fuelsystem</th>\n",
       "      <th>boreratio</th>\n",
       "      <th>stroke</th>\n",
       "      <th>compressionratio</th>\n",
       "      <th>horsepower</th>\n",
       "      <th>peakrpm</th>\n",
       "      <th>citympg</th>\n",
       "      <th>highwaympg</th>\n",
       "      <th>price</th>\n",
       "    </tr>\n",
       "  </thead>\n",
       "  <tbody>\n",
       "    <tr>\n",
       "      <th>0</th>\n",
       "      <td>1</td>\n",
       "      <td>3</td>\n",
       "      <td>alfa-romero</td>\n",
       "      <td>alfa-romero giulia</td>\n",
       "      <td>gas</td>\n",
       "      <td>std</td>\n",
       "      <td>two</td>\n",
       "      <td>convertible</td>\n",
       "      <td>rwd</td>\n",
       "      <td>front</td>\n",
       "      <td>...</td>\n",
       "      <td>130</td>\n",
       "      <td>mpfi</td>\n",
       "      <td>3.47</td>\n",
       "      <td>2.68</td>\n",
       "      <td>9.0</td>\n",
       "      <td>111</td>\n",
       "      <td>5000</td>\n",
       "      <td>21</td>\n",
       "      <td>27</td>\n",
       "      <td>13495.0</td>\n",
       "    </tr>\n",
       "    <tr>\n",
       "      <th>1</th>\n",
       "      <td>2</td>\n",
       "      <td>3</td>\n",
       "      <td>alfa-romero</td>\n",
       "      <td>alfa-romero stelvio</td>\n",
       "      <td>gas</td>\n",
       "      <td>std</td>\n",
       "      <td>two</td>\n",
       "      <td>convertible</td>\n",
       "      <td>rwd</td>\n",
       "      <td>front</td>\n",
       "      <td>...</td>\n",
       "      <td>130</td>\n",
       "      <td>mpfi</td>\n",
       "      <td>3.47</td>\n",
       "      <td>2.68</td>\n",
       "      <td>9.0</td>\n",
       "      <td>111</td>\n",
       "      <td>5000</td>\n",
       "      <td>21</td>\n",
       "      <td>27</td>\n",
       "      <td>16500.0</td>\n",
       "    </tr>\n",
       "    <tr>\n",
       "      <th>2</th>\n",
       "      <td>3</td>\n",
       "      <td>1</td>\n",
       "      <td>alfa-romero</td>\n",
       "      <td>alfa-romero Quadrifoglio</td>\n",
       "      <td>gas</td>\n",
       "      <td>std</td>\n",
       "      <td>two</td>\n",
       "      <td>hatchback</td>\n",
       "      <td>rwd</td>\n",
       "      <td>front</td>\n",
       "      <td>...</td>\n",
       "      <td>152</td>\n",
       "      <td>mpfi</td>\n",
       "      <td>2.68</td>\n",
       "      <td>3.47</td>\n",
       "      <td>9.0</td>\n",
       "      <td>154</td>\n",
       "      <td>5000</td>\n",
       "      <td>19</td>\n",
       "      <td>26</td>\n",
       "      <td>16500.0</td>\n",
       "    </tr>\n",
       "  </tbody>\n",
       "</table>\n",
       "<p>3 rows × 27 columns</p>\n",
       "</div>"
      ],
      "text/plain": [
       "   car_ID  symboling      Company                   CarName fueltype  \\\n",
       "0       1          3  alfa-romero        alfa-romero giulia      gas   \n",
       "1       2          3  alfa-romero       alfa-romero stelvio      gas   \n",
       "2       3          1  alfa-romero  alfa-romero Quadrifoglio      gas   \n",
       "\n",
       "  aspiration doornumber      carbody drivewheel enginelocation  ...  \\\n",
       "0        std        two  convertible        rwd          front  ...   \n",
       "1        std        two  convertible        rwd          front  ...   \n",
       "2        std        two    hatchback        rwd          front  ...   \n",
       "\n",
       "   enginesize  fuelsystem  boreratio  stroke  compressionratio horsepower  \\\n",
       "0         130        mpfi       3.47    2.68               9.0        111   \n",
       "1         130        mpfi       3.47    2.68               9.0        111   \n",
       "2         152        mpfi       2.68    3.47               9.0        154   \n",
       "\n",
       "  peakrpm  citympg highwaympg    price  \n",
       "0    5000       21         27  13495.0  \n",
       "1    5000       21         27  16500.0  \n",
       "2    5000       19         26  16500.0  \n",
       "\n",
       "[3 rows x 27 columns]"
      ]
     },
     "execution_count": 5,
     "metadata": {},
     "output_type": "execute_result"
    }
   ],
   "source": [
    "Company = df['CarName'].apply(lambda x : x.split(\" \")[0])\n",
    "df.insert(2,\"Company\",Company)\n",
    "df.head(3)"
   ]
  },
  {
   "cell_type": "markdown",
   "metadata": {
    "papermill": {
     "duration": 0.026195,
     "end_time": "2021-05-16T11:35:41.109192",
     "exception": false,
     "start_time": "2021-05-16T11:35:41.082997",
     "status": "completed"
    },
    "tags": []
   },
   "source": [
    "- Remove **\"CarName\", \"car_ID\", \"symboling\"** columns"
   ]
  },
  {
   "cell_type": "code",
   "execution_count": 6,
   "metadata": {
    "execution": {
     "iopub.execute_input": "2021-05-16T11:35:41.172075Z",
     "iopub.status.busy": "2021-05-16T11:35:41.171444Z",
     "iopub.status.idle": "2021-05-16T11:35:41.191566Z",
     "shell.execute_reply": "2021-05-16T11:35:41.192140Z"
    },
    "papermill": {
     "duration": 0.056195,
     "end_time": "2021-05-16T11:35:41.192314",
     "exception": false,
     "start_time": "2021-05-16T11:35:41.136119",
     "status": "completed"
    },
    "tags": []
   },
   "outputs": [
    {
     "data": {
      "text/html": [
       "<div>\n",
       "<style scoped>\n",
       "    .dataframe tbody tr th:only-of-type {\n",
       "        vertical-align: middle;\n",
       "    }\n",
       "\n",
       "    .dataframe tbody tr th {\n",
       "        vertical-align: top;\n",
       "    }\n",
       "\n",
       "    .dataframe thead th {\n",
       "        text-align: right;\n",
       "    }\n",
       "</style>\n",
       "<table border=\"1\" class=\"dataframe\">\n",
       "  <thead>\n",
       "    <tr style=\"text-align: right;\">\n",
       "      <th></th>\n",
       "      <th>Company</th>\n",
       "      <th>fueltype</th>\n",
       "      <th>aspiration</th>\n",
       "      <th>doornumber</th>\n",
       "      <th>carbody</th>\n",
       "      <th>drivewheel</th>\n",
       "      <th>enginelocation</th>\n",
       "      <th>wheelbase</th>\n",
       "      <th>carlength</th>\n",
       "      <th>carwidth</th>\n",
       "      <th>...</th>\n",
       "      <th>enginesize</th>\n",
       "      <th>fuelsystem</th>\n",
       "      <th>boreratio</th>\n",
       "      <th>stroke</th>\n",
       "      <th>compressionratio</th>\n",
       "      <th>horsepower</th>\n",
       "      <th>peakrpm</th>\n",
       "      <th>citympg</th>\n",
       "      <th>highwaympg</th>\n",
       "      <th>price</th>\n",
       "    </tr>\n",
       "  </thead>\n",
       "  <tbody>\n",
       "    <tr>\n",
       "      <th>0</th>\n",
       "      <td>alfa-romero</td>\n",
       "      <td>gas</td>\n",
       "      <td>std</td>\n",
       "      <td>two</td>\n",
       "      <td>convertible</td>\n",
       "      <td>rwd</td>\n",
       "      <td>front</td>\n",
       "      <td>88.6</td>\n",
       "      <td>168.8</td>\n",
       "      <td>64.1</td>\n",
       "      <td>...</td>\n",
       "      <td>130</td>\n",
       "      <td>mpfi</td>\n",
       "      <td>3.47</td>\n",
       "      <td>2.68</td>\n",
       "      <td>9.0</td>\n",
       "      <td>111</td>\n",
       "      <td>5000</td>\n",
       "      <td>21</td>\n",
       "      <td>27</td>\n",
       "      <td>13495.0</td>\n",
       "    </tr>\n",
       "    <tr>\n",
       "      <th>1</th>\n",
       "      <td>alfa-romero</td>\n",
       "      <td>gas</td>\n",
       "      <td>std</td>\n",
       "      <td>two</td>\n",
       "      <td>convertible</td>\n",
       "      <td>rwd</td>\n",
       "      <td>front</td>\n",
       "      <td>88.6</td>\n",
       "      <td>168.8</td>\n",
       "      <td>64.1</td>\n",
       "      <td>...</td>\n",
       "      <td>130</td>\n",
       "      <td>mpfi</td>\n",
       "      <td>3.47</td>\n",
       "      <td>2.68</td>\n",
       "      <td>9.0</td>\n",
       "      <td>111</td>\n",
       "      <td>5000</td>\n",
       "      <td>21</td>\n",
       "      <td>27</td>\n",
       "      <td>16500.0</td>\n",
       "    </tr>\n",
       "    <tr>\n",
       "      <th>2</th>\n",
       "      <td>alfa-romero</td>\n",
       "      <td>gas</td>\n",
       "      <td>std</td>\n",
       "      <td>two</td>\n",
       "      <td>hatchback</td>\n",
       "      <td>rwd</td>\n",
       "      <td>front</td>\n",
       "      <td>94.5</td>\n",
       "      <td>171.2</td>\n",
       "      <td>65.5</td>\n",
       "      <td>...</td>\n",
       "      <td>152</td>\n",
       "      <td>mpfi</td>\n",
       "      <td>2.68</td>\n",
       "      <td>3.47</td>\n",
       "      <td>9.0</td>\n",
       "      <td>154</td>\n",
       "      <td>5000</td>\n",
       "      <td>19</td>\n",
       "      <td>26</td>\n",
       "      <td>16500.0</td>\n",
       "    </tr>\n",
       "  </tbody>\n",
       "</table>\n",
       "<p>3 rows × 24 columns</p>\n",
       "</div>"
      ],
      "text/plain": [
       "       Company fueltype aspiration doornumber      carbody drivewheel  \\\n",
       "0  alfa-romero      gas        std        two  convertible        rwd   \n",
       "1  alfa-romero      gas        std        two  convertible        rwd   \n",
       "2  alfa-romero      gas        std        two    hatchback        rwd   \n",
       "\n",
       "  enginelocation  wheelbase  carlength  carwidth  ...  enginesize  fuelsystem  \\\n",
       "0          front       88.6      168.8      64.1  ...         130        mpfi   \n",
       "1          front       88.6      168.8      64.1  ...         130        mpfi   \n",
       "2          front       94.5      171.2      65.5  ...         152        mpfi   \n",
       "\n",
       "  boreratio stroke  compressionratio horsepower  peakrpm  citympg  highwaympg  \\\n",
       "0      3.47   2.68               9.0        111     5000       21          27   \n",
       "1      3.47   2.68               9.0        111     5000       21          27   \n",
       "2      2.68   3.47               9.0        154     5000       19          26   \n",
       "\n",
       "     price  \n",
       "0  13495.0  \n",
       "1  16500.0  \n",
       "2  16500.0  \n",
       "\n",
       "[3 rows x 24 columns]"
      ]
     },
     "execution_count": 6,
     "metadata": {},
     "output_type": "execute_result"
    }
   ],
   "source": [
    "df.drop([\"CarName\", \"car_ID\", \"symboling\"], axis=1, inplace=True)\n",
    "df.head(3)"
   ]
  },
  {
   "cell_type": "code",
   "execution_count": 7,
   "metadata": {
    "execution": {
     "iopub.execute_input": "2021-05-16T11:35:41.249429Z",
     "iopub.status.busy": "2021-05-16T11:35:41.248853Z",
     "iopub.status.idle": "2021-05-16T11:35:41.273360Z",
     "shell.execute_reply": "2021-05-16T11:35:41.273930Z"
    },
    "papermill": {
     "duration": 0.054605,
     "end_time": "2021-05-16T11:35:41.274090",
     "exception": false,
     "start_time": "2021-05-16T11:35:41.219485",
     "status": "completed"
    },
    "tags": []
   },
   "outputs": [
    {
     "data": {
      "text/html": [
       "<div>\n",
       "<style scoped>\n",
       "    .dataframe tbody tr th:only-of-type {\n",
       "        vertical-align: middle;\n",
       "    }\n",
       "\n",
       "    .dataframe tbody tr th {\n",
       "        vertical-align: top;\n",
       "    }\n",
       "\n",
       "    .dataframe thead th {\n",
       "        text-align: right;\n",
       "    }\n",
       "</style>\n",
       "<table border=\"1\" class=\"dataframe\">\n",
       "  <thead>\n",
       "    <tr style=\"text-align: right;\">\n",
       "      <th></th>\n",
       "      <th>Company</th>\n",
       "      <th>fueltype</th>\n",
       "      <th>aspiration</th>\n",
       "      <th>doornumber</th>\n",
       "      <th>carbody</th>\n",
       "      <th>drivewheel</th>\n",
       "      <th>enginelocation</th>\n",
       "      <th>wheelbase</th>\n",
       "      <th>carlength</th>\n",
       "      <th>carwidth</th>\n",
       "      <th>...</th>\n",
       "      <th>enginesize</th>\n",
       "      <th>fuelsystem</th>\n",
       "      <th>boreratio</th>\n",
       "      <th>stroke</th>\n",
       "      <th>compressionratio</th>\n",
       "      <th>horsepower</th>\n",
       "      <th>peakrpm</th>\n",
       "      <th>citympg</th>\n",
       "      <th>highwaympg</th>\n",
       "      <th>price</th>\n",
       "    </tr>\n",
       "  </thead>\n",
       "  <tbody>\n",
       "    <tr>\n",
       "      <th>0</th>\n",
       "      <td>alfa-romero</td>\n",
       "      <td>gas</td>\n",
       "      <td>std</td>\n",
       "      <td>two</td>\n",
       "      <td>convertible</td>\n",
       "      <td>rwd</td>\n",
       "      <td>front</td>\n",
       "      <td>88.6</td>\n",
       "      <td>168.8</td>\n",
       "      <td>64.1</td>\n",
       "      <td>...</td>\n",
       "      <td>130</td>\n",
       "      <td>mpfi</td>\n",
       "      <td>3.47</td>\n",
       "      <td>2.68</td>\n",
       "      <td>9.0</td>\n",
       "      <td>111</td>\n",
       "      <td>5000</td>\n",
       "      <td>21</td>\n",
       "      <td>27</td>\n",
       "      <td>13495.0</td>\n",
       "    </tr>\n",
       "    <tr>\n",
       "      <th>1</th>\n",
       "      <td>alfa-romero</td>\n",
       "      <td>gas</td>\n",
       "      <td>std</td>\n",
       "      <td>two</td>\n",
       "      <td>convertible</td>\n",
       "      <td>rwd</td>\n",
       "      <td>front</td>\n",
       "      <td>88.6</td>\n",
       "      <td>168.8</td>\n",
       "      <td>64.1</td>\n",
       "      <td>...</td>\n",
       "      <td>130</td>\n",
       "      <td>mpfi</td>\n",
       "      <td>3.47</td>\n",
       "      <td>2.68</td>\n",
       "      <td>9.0</td>\n",
       "      <td>111</td>\n",
       "      <td>5000</td>\n",
       "      <td>21</td>\n",
       "      <td>27</td>\n",
       "      <td>16500.0</td>\n",
       "    </tr>\n",
       "    <tr>\n",
       "      <th>2</th>\n",
       "      <td>alfa-romero</td>\n",
       "      <td>gas</td>\n",
       "      <td>std</td>\n",
       "      <td>two</td>\n",
       "      <td>hatchback</td>\n",
       "      <td>rwd</td>\n",
       "      <td>front</td>\n",
       "      <td>94.5</td>\n",
       "      <td>171.2</td>\n",
       "      <td>65.5</td>\n",
       "      <td>...</td>\n",
       "      <td>152</td>\n",
       "      <td>mpfi</td>\n",
       "      <td>2.68</td>\n",
       "      <td>3.47</td>\n",
       "      <td>9.0</td>\n",
       "      <td>154</td>\n",
       "      <td>5000</td>\n",
       "      <td>19</td>\n",
       "      <td>26</td>\n",
       "      <td>16500.0</td>\n",
       "    </tr>\n",
       "  </tbody>\n",
       "</table>\n",
       "<p>3 rows × 24 columns</p>\n",
       "</div>"
      ],
      "text/plain": [
       "       Company fueltype aspiration doornumber      carbody drivewheel  \\\n",
       "0  alfa-romero      gas        std        two  convertible        rwd   \n",
       "1  alfa-romero      gas        std        two  convertible        rwd   \n",
       "2  alfa-romero      gas        std        two    hatchback        rwd   \n",
       "\n",
       "  enginelocation  wheelbase  carlength  carwidth  ...  enginesize  fuelsystem  \\\n",
       "0          front       88.6      168.8      64.1  ...         130        mpfi   \n",
       "1          front       88.6      168.8      64.1  ...         130        mpfi   \n",
       "2          front       94.5      171.2      65.5  ...         152        mpfi   \n",
       "\n",
       "  boreratio stroke  compressionratio horsepower  peakrpm  citympg  highwaympg  \\\n",
       "0      3.47   2.68               9.0        111     5000       21          27   \n",
       "1      3.47   2.68               9.0        111     5000       21          27   \n",
       "2      2.68   3.47               9.0        154     5000       19          26   \n",
       "\n",
       "     price  \n",
       "0  13495.0  \n",
       "1  16500.0  \n",
       "2  16500.0  \n",
       "\n",
       "[3 rows x 24 columns]"
      ]
     },
     "execution_count": 7,
     "metadata": {},
     "output_type": "execute_result"
    }
   ],
   "source": [
    "df.head(3)"
   ]
  },
  {
   "cell_type": "markdown",
   "metadata": {
    "papermill": {
     "duration": 0.027459,
     "end_time": "2021-05-16T11:35:41.329631",
     "exception": false,
     "start_time": "2021-05-16T11:35:41.302172",
     "status": "completed"
    },
    "tags": []
   },
   "source": [
    " - Renaming incorrect companies names in **\"Company\"** column"
   ]
  },
  {
   "cell_type": "code",
   "execution_count": 8,
   "metadata": {
    "execution": {
     "iopub.execute_input": "2021-05-16T11:35:41.388345Z",
     "iopub.status.busy": "2021-05-16T11:35:41.387714Z",
     "iopub.status.idle": "2021-05-16T11:35:41.400335Z",
     "shell.execute_reply": "2021-05-16T11:35:41.400953Z"
    },
    "papermill": {
     "duration": 0.043968,
     "end_time": "2021-05-16T11:35:41.401182",
     "exception": false,
     "start_time": "2021-05-16T11:35:41.357214",
     "status": "completed"
    },
    "tags": []
   },
   "outputs": [
    {
     "name": "stdout",
     "output_type": "stream",
     "text": [
      "Unique companies names 27\n"
     ]
    },
    {
     "data": {
      "text/plain": [
       "toyota         31\n",
       "nissan         18\n",
       "mazda          15\n",
       "honda          13\n",
       "mitsubishi     13\n",
       "subaru         12\n",
       "peugeot        11\n",
       "volvo          11\n",
       "volkswagen      9\n",
       "dodge           9\n",
       "buick           8\n",
       "bmw             8\n",
       "plymouth        7\n",
       "audi            7\n",
       "saab            6\n",
       "porsche         4\n",
       "isuzu           4\n",
       "alfa-romero     3\n",
       "chevrolet       3\n",
       "jaguar          3\n",
       "maxda           2\n",
       "vw              2\n",
       "renault         2\n",
       "vokswagen       1\n",
       "mercury         1\n",
       "porcshce        1\n",
       "toyouta         1\n",
       "Name: Company, dtype: int64"
      ]
     },
     "execution_count": 8,
     "metadata": {},
     "output_type": "execute_result"
    }
   ],
   "source": [
    "print(f\"Unique companies names {len(df.Company.str.lower().value_counts())}\")\n",
    "df.Company.str.lower().value_counts()"
   ]
  },
  {
   "cell_type": "code",
   "execution_count": 9,
   "metadata": {
    "execution": {
     "iopub.execute_input": "2021-05-16T11:35:41.466581Z",
     "iopub.status.busy": "2021-05-16T11:35:41.465949Z",
     "iopub.status.idle": "2021-05-16T11:35:41.469072Z",
     "shell.execute_reply": "2021-05-16T11:35:41.468494Z"
    },
    "papermill": {
     "duration": 0.038835,
     "end_time": "2021-05-16T11:35:41.469210",
     "exception": false,
     "start_time": "2021-05-16T11:35:41.430375",
     "status": "completed"
    },
    "tags": []
   },
   "outputs": [],
   "source": [
    "df.Company = df.Company.str.lower()\n",
    "df.Company.replace(\n",
    "    {\n",
    "        \"alfa-romero\":\"alfa romeo\",\n",
    "        \"maxda\":\"mazda\",\n",
    "        \"vw\": \"volkswagen\",\n",
    "        \"vokswagen\":\"volkswagen\",\n",
    "        \"porcshce\": \"porsche\",\n",
    "        \"toyouta\":\"toyota\",        \n",
    "    },\n",
    "    inplace=True\n",
    ")"
   ]
  },
  {
   "cell_type": "code",
   "execution_count": 10,
   "metadata": {
    "execution": {
     "iopub.execute_input": "2021-05-16T11:35:41.544586Z",
     "iopub.status.busy": "2021-05-16T11:35:41.540811Z",
     "iopub.status.idle": "2021-05-16T11:35:41.554982Z",
     "shell.execute_reply": "2021-05-16T11:35:41.554480Z"
    },
    "papermill": {
     "duration": 0.052365,
     "end_time": "2021-05-16T11:35:41.555120",
     "exception": false,
     "start_time": "2021-05-16T11:35:41.502755",
     "status": "completed"
    },
    "tags": []
   },
   "outputs": [
    {
     "name": "stdout",
     "output_type": "stream",
     "text": [
      "Unique companies names 22\n"
     ]
    },
    {
     "data": {
      "text/plain": [
       "toyota        32\n",
       "nissan        18\n",
       "mazda         17\n",
       "mitsubishi    13\n",
       "honda         13\n",
       "volkswagen    12\n",
       "subaru        12\n",
       "peugeot       11\n",
       "volvo         11\n",
       "dodge          9\n",
       "buick          8\n",
       "bmw            8\n",
       "audi           7\n",
       "plymouth       7\n",
       "saab           6\n",
       "porsche        5\n",
       "isuzu          4\n",
       "jaguar         3\n",
       "alfa romeo     3\n",
       "chevrolet      3\n",
       "renault        2\n",
       "mercury        1\n",
       "Name: Company, dtype: int64"
      ]
     },
     "execution_count": 10,
     "metadata": {},
     "output_type": "execute_result"
    }
   ],
   "source": [
    "print(f\"Unique companies names {len(df.Company.str.lower().value_counts())}\")\n",
    "df.Company.str.lower().value_counts()"
   ]
  },
  {
   "cell_type": "markdown",
   "metadata": {
    "papermill": {
     "duration": 0.031703,
     "end_time": "2021-05-16T11:35:41.622386",
     "exception": false,
     "start_time": "2021-05-16T11:35:41.590683",
     "status": "completed"
    },
    "tags": []
   },
   "source": [
    "### Data visualization"
   ]
  },
  {
   "cell_type": "code",
   "execution_count": 11,
   "metadata": {
    "execution": {
     "iopub.execute_input": "2021-05-16T11:35:41.701782Z",
     "iopub.status.busy": "2021-05-16T11:35:41.701065Z",
     "iopub.status.idle": "2021-05-16T11:35:42.041281Z",
     "shell.execute_reply": "2021-05-16T11:35:42.040675Z"
    },
    "papermill": {
     "duration": 0.389686,
     "end_time": "2021-05-16T11:35:42.041432",
     "exception": false,
     "start_time": "2021-05-16T11:35:41.651746",
     "status": "completed"
    },
    "tags": []
   },
   "outputs": [
    {
     "data": {
      "image/png": "[encoded data removed]",
      "text/plain": [
       "<Figure size 1080x504 with 2 Axes>"
      ]
     },
     "metadata": {
      "needs_background": "light"
     },
     "output_type": "display_data"
    }
   ],
   "source": [
    "plt.figure(figsize=(15, 7))\n",
    "\n",
    "plt.subplot(1,2,1)\n",
    "plt.title('Distribution of car prices')\n",
    "sns.distplot(df.price, color=\"g\")\n",
    "\n",
    "plt.subplot(1,2,2)\n",
    "plt.title('Spread of car prices')\n",
    "sns.boxplot(y=df.price, color=\"g\")\n",
    "\n",
    "plt.show()"
   ]
  },
  {
   "cell_type": "code",
   "execution_count": 12,
   "metadata": {
    "execution": {
     "iopub.execute_input": "2021-05-16T11:35:42.107343Z",
     "iopub.status.busy": "2021-05-16T11:35:42.106680Z",
     "iopub.status.idle": "2021-05-16T11:35:42.113187Z",
     "shell.execute_reply": "2021-05-16T11:35:42.113706Z"
    },
    "papermill": {
     "duration": 0.041087,
     "end_time": "2021-05-16T11:35:42.113876",
     "exception": false,
     "start_time": "2021-05-16T11:35:42.072789",
     "status": "completed"
    },
    "tags": []
   },
   "outputs": [
    {
     "data": {
      "text/plain": [
       "toyota        32\n",
       "nissan        18\n",
       "mazda         17\n",
       "mitsubishi    13\n",
       "honda         13\n",
       "volkswagen    12\n",
       "subaru        12\n",
       "peugeot       11\n",
       "volvo         11\n",
       "dodge          9\n",
       "buick          8\n",
       "bmw            8\n",
       "audi           7\n",
       "plymouth       7\n",
       "saab           6\n",
       "porsche        5\n",
       "isuzu          4\n",
       "jaguar         3\n",
       "alfa romeo     3\n",
       "chevrolet      3\n",
       "renault        2\n",
       "mercury        1\n",
       "Name: Company, dtype: int64"
      ]
     },
     "execution_count": 12,
     "metadata": {},
     "output_type": "execute_result"
    }
   ],
   "source": [
    "df.Company.value_counts()"
   ]
  },
  {
   "cell_type": "code",
   "execution_count": 13,
   "metadata": {
    "execution": {
     "iopub.execute_input": "2021-05-16T11:35:42.180808Z",
     "iopub.status.busy": "2021-05-16T11:35:42.180193Z",
     "iopub.status.idle": "2021-05-16T11:35:42.185513Z",
     "shell.execute_reply": "2021-05-16T11:35:42.184842Z"
    },
    "papermill": {
     "duration": 0.039793,
     "end_time": "2021-05-16T11:35:42.185668",
     "exception": false,
     "start_time": "2021-05-16T11:35:42.145875",
     "status": "completed"
    },
    "tags": []
   },
   "outputs": [],
   "source": [
    "colors = []\n",
    "for x in range(40):\n",
    "    r = random.random()\n",
    "    b = random.random()\n",
    "    g = random.random()\n",
    "    color = (r, g, b)\n",
    "    colors.append(color)"
   ]
  },
  {
   "cell_type": "code",
   "execution_count": 14,
   "metadata": {
    "execution": {
     "iopub.execute_input": "2021-05-16T11:35:42.257550Z",
     "iopub.status.busy": "2021-05-16T11:35:42.256772Z",
     "iopub.status.idle": "2021-05-16T11:35:42.679486Z",
     "shell.execute_reply": "2021-05-16T11:35:42.679986Z"
    },
    "papermill": {
     "duration": 0.462787,
     "end_time": "2021-05-16T11:35:42.680150",
     "exception": false,
     "start_time": "2021-05-16T11:35:42.217363",
     "status": "completed"
    },
    "tags": []
   },
   "outputs": [
    {
     "data": {
      "image/png": "[encoded data removed]",
      "text/plain": [
       "<Figure size 1584x720 with 1 Axes>"
      ]
     },
     "metadata": {
      "needs_background": "light"
     },
     "output_type": "display_data"
    }
   ],
   "source": [
    "plt.figure(figsize=(22, 10))\n",
    "plt.rcParams.update({'font.size': 15})\n",
    "plt1 = df.Company.value_counts().plot(kind='bar', color=colors)\n",
    "plt.title('Companies')\n",
    "plt.xlabel(\"Company\")\n",
    "plt.xticks(rotation=90)\n",
    "plt.ylabel(\"Frequency\")\n",
    "\n",
    "plt.show()"
   ]
  },
  {
   "cell_type": "code",
   "execution_count": 15,
   "metadata": {
    "execution": {
     "iopub.execute_input": "2021-05-16T11:35:42.767498Z",
     "iopub.status.busy": "2021-05-16T11:35:42.761058Z",
     "iopub.status.idle": "2021-05-16T11:35:43.046431Z",
     "shell.execute_reply": "2021-05-16T11:35:43.045758Z"
    },
    "papermill": {
     "duration": 0.33355,
     "end_time": "2021-05-16T11:35:43.046571",
     "exception": false,
     "start_time": "2021-05-16T11:35:42.713021",
     "status": "completed"
    },
    "tags": []
   },
   "outputs": [
    {
     "data": {
      "image/png": "[encoded data removed]",
      "text/plain": [
       "<Figure size 432x288 with 2 Axes>"
      ]
     },
     "metadata": {
      "needs_background": "light"
     },
     "output_type": "display_data"
    }
   ],
   "source": [
    "plt.subplot(1, 2, 1)\n",
    "plt1 = df.fueltype.value_counts().plot(kind='bar', color=colors)\n",
    "plt.title('Fuel Type')\n",
    "plt1.set(xlabel = 'Type', ylabel='Frequency')\n",
    "\n",
    "plt.subplot(1, 2, 2)\n",
    "plt1 = df.carbody.value_counts().plot(kind='bar', color=colors)\n",
    "plt.title('Car Type')\n",
    "plt1.set(xlabel = 'Type', ylabel='Frequency')\n",
    "\n",
    "plt.tight_layout()\n",
    "plt.show()"
   ]
  },
  {
   "cell_type": "code",
   "execution_count": 16,
   "metadata": {
    "execution": {
     "iopub.execute_input": "2021-05-16T11:35:43.146739Z",
     "iopub.status.busy": "2021-05-16T11:35:43.126806Z",
     "iopub.status.idle": "2021-05-16T11:35:43.246445Z",
     "shell.execute_reply": "2021-05-16T11:35:43.245908Z"
    },
    "papermill": {
     "duration": 0.165936,
     "end_time": "2021-05-16T11:35:43.246588",
     "exception": false,
     "start_time": "2021-05-16T11:35:43.080652",
     "status": "completed"
    },
    "tags": []
   },
   "outputs": [
    {
     "data": {
      "image/png": "[encoded data removed]",
      "text/plain": [
       "<Figure size 432x288 with 1 Axes>"
      ]
     },
     "metadata": {
      "needs_background": "light"
     },
     "output_type": "display_data"
    }
   ],
   "source": [
    "sns.boxplot(x=df.doornumber, y=df.price, palette=('flare'))\n",
    "\n",
    "plt.show()"
   ]
  },
  {
   "cell_type": "code",
   "execution_count": 17,
   "metadata": {
    "execution": {
     "iopub.execute_input": "2021-05-16T11:35:43.324513Z",
     "iopub.status.busy": "2021-05-16T11:35:43.322674Z",
     "iopub.status.idle": "2021-05-16T11:35:43.533562Z",
     "shell.execute_reply": "2021-05-16T11:35:43.532922Z"
    },
    "papermill": {
     "duration": 0.252261,
     "end_time": "2021-05-16T11:35:43.533698",
     "exception": false,
     "start_time": "2021-05-16T11:35:43.281437",
     "status": "completed"
    },
    "tags": []
   },
   "outputs": [
    {
     "data": {
      "image/png": "[encoded data removed]",
      "text/plain": [
       "<Figure size 432x288 with 1 Axes>"
      ]
     },
     "metadata": {
      "needs_background": "light"
     },
     "output_type": "display_data"
    }
   ],
   "source": [
    "sns.boxplot(x=df.enginetype, y=df.price, palette=('viridis'))\n",
    "\n",
    "plt.show()"
   ]
  },
  {
   "cell_type": "code",
   "execution_count": 18,
   "metadata": {
    "execution": {
     "iopub.execute_input": "2021-05-16T11:35:43.641225Z",
     "iopub.status.busy": "2021-05-16T11:35:43.638644Z",
     "iopub.status.idle": "2021-05-16T11:35:43.883098Z",
     "shell.execute_reply": "2021-05-16T11:35:43.882482Z"
    },
    "papermill": {
     "duration": 0.31339,
     "end_time": "2021-05-16T11:35:43.883243",
     "exception": false,
     "start_time": "2021-05-16T11:35:43.569853",
     "status": "completed"
    },
    "tags": []
   },
   "outputs": [
    {
     "data": {
      "image/png": "[encoded data removed]",
      "text/plain": [
       "<Figure size 432x288 with 1 Axes>"
      ]
     },
     "metadata": {
      "needs_background": "light"
     },
     "output_type": "display_data"
    }
   ],
   "source": [
    "pd.DataFrame(df.groupby(['Company'])['price'].mean(). \\\n",
    "             sort_values(ascending = False)).plot.bar(color=random.choice(colors))\n",
    "plt.title('Comparing: Company to average price')\n",
    "\n",
    "plt.show()"
   ]
  },
  {
   "cell_type": "code",
   "execution_count": 19,
   "metadata": {
    "execution": {
     "iopub.execute_input": "2021-05-16T11:35:43.989744Z",
     "iopub.status.busy": "2021-05-16T11:35:43.988019Z",
     "iopub.status.idle": "2021-05-16T11:35:44.116618Z",
     "shell.execute_reply": "2021-05-16T11:35:44.115610Z"
    },
    "papermill": {
     "duration": 0.195957,
     "end_time": "2021-05-16T11:35:44.116757",
     "exception": false,
     "start_time": "2021-05-16T11:35:43.920800",
     "status": "completed"
    },
    "tags": []
   },
   "outputs": [
    {
     "data": {
      "image/png": "[encoded data removed]",
      "text/plain": [
       "<Figure size 432x288 with 1 Axes>"
      ]
     },
     "metadata": {
      "needs_background": "light"
     },
     "output_type": "display_data"
    }
   ],
   "source": [
    "pd.DataFrame(df.groupby(['carbody'])['price'].mean(). \\\n",
    "             sort_values(ascending = False)).plot.bar(color=random.choice(colors))\n",
    "plt.title('Comparing: Carbody to average price')\n",
    "\n",
    "plt.show()"
   ]
  },
  {
   "cell_type": "code",
   "execution_count": 20,
   "metadata": {
    "execution": {
     "iopub.execute_input": "2021-05-16T11:35:44.229841Z",
     "iopub.status.busy": "2021-05-16T11:35:44.203749Z",
     "iopub.status.idle": "2021-05-16T11:35:44.343229Z",
     "shell.execute_reply": "2021-05-16T11:35:44.343735Z"
    },
    "papermill": {
     "duration": 0.188646,
     "end_time": "2021-05-16T11:35:44.343905",
     "exception": false,
     "start_time": "2021-05-16T11:35:44.155259",
     "status": "completed"
    },
    "tags": []
   },
   "outputs": [
    {
     "data": {
      "image/png": "[encoded data removed]",
      "text/plain": [
       "<Figure size 432x288 with 1 Axes>"
      ]
     },
     "metadata": {
      "needs_background": "light"
     },
     "output_type": "display_data"
    }
   ],
   "source": [
    "pd.DataFrame(df.groupby(['fueltype'])['price'].mean(). \\\n",
    "             sort_values(ascending = False)).plot.bar(color=random.choice(colors))\n",
    "plt.title('Comparing: Fuel type to average price')\n",
    "\n",
    "plt.show()"
   ]
  },
  {
   "cell_type": "code",
   "execution_count": 21,
   "metadata": {
    "execution": {
     "iopub.execute_input": "2021-05-16T11:35:44.457402Z",
     "iopub.status.busy": "2021-05-16T11:35:44.456741Z",
     "iopub.status.idle": "2021-05-16T11:35:46.154088Z",
     "shell.execute_reply": "2021-05-16T11:35:46.154594Z"
    },
    "papermill": {
     "duration": 1.771943,
     "end_time": "2021-05-16T11:35:46.154768",
     "exception": false,
     "start_time": "2021-05-16T11:35:44.382825",
     "status": "completed"
    },
    "tags": []
   },
   "outputs": [
    {
     "data": {
      "image/png": "[encoded data removed]",
      "text/plain": [
       "<Figure size 1440x1800 with 8 Axes>"
      ]
     },
     "metadata": {
      "needs_background": "light"
     },
     "output_type": "display_data"
    }
   ],
   "source": [
    "COLOR = \"RdYlBu\"\n",
    "\n",
    "def plot_count(feature, fig):\n",
    "    plt.subplot(4, 2, fig)\n",
    "    plt.title(feature +' Histogram')\n",
    "    sns.countplot(df[feature],palette=(COLOR))\n",
    "    plt.subplot(4,2,(fig+1))\n",
    "    plt.title(f'Comparing: {feature} to price')\n",
    "    sns.boxplot(x=df[feature], y=df.price, palette=(COLOR))\n",
    "    \n",
    "plt.figure(figsize=(20,25))\n",
    "\n",
    "plot_count('enginelocation', 1)\n",
    "plot_count('cylindernumber', 3)\n",
    "plot_count('fuelsystem', 5)\n",
    "plot_count('drivewheel', 7)\n",
    "\n",
    "plt.tight_layout()\n"
   ]
  },
  {
   "cell_type": "markdown",
   "metadata": {
    "papermill": {
     "duration": 0.041933,
     "end_time": "2021-05-16T11:35:46.239289",
     "exception": false,
     "start_time": "2021-05-16T11:35:46.197356",
     "status": "completed"
    },
    "tags": []
   },
   "source": [
    "## Correlation"
   ]
  },
  {
   "cell_type": "code",
   "execution_count": 22,
   "metadata": {
    "execution": {
     "iopub.execute_input": "2021-05-16T11:35:46.329143Z",
     "iopub.status.busy": "2021-05-16T11:35:46.328527Z",
     "iopub.status.idle": "2021-05-16T11:35:46.565337Z",
     "shell.execute_reply": "2021-05-16T11:35:46.565799Z"
    },
    "papermill": {
     "duration": 0.284592,
     "end_time": "2021-05-16T11:35:46.565983",
     "exception": false,
     "start_time": "2021-05-16T11:35:46.281391",
     "status": "completed"
    },
    "tags": []
   },
   "outputs": [
    {
     "data": {
      "text/plain": [
       "<AxesSubplot:>"
      ]
     },
     "execution_count": 22,
     "metadata": {},
     "output_type": "execute_result"
    },
    {
     "data": {
      "image/png": "[encoded data removed]",
      "text/plain": [
       "<Figure size 432x288 with 2 Axes>"
      ]
     },
     "metadata": {
      "needs_background": "light"
     },
     "output_type": "display_data"
    }
   ],
   "source": [
    "sns.heatmap(df.corr().sort_values(by=\"price\", ascending=False).iloc[1:11,-1:], cmap=\"jet\", annot=True)"
   ]
  },
  {
   "cell_type": "code",
   "execution_count": 23,
   "metadata": {
    "execution": {
     "iopub.execute_input": "2021-05-16T11:35:46.657772Z",
     "iopub.status.busy": "2021-05-16T11:35:46.657088Z",
     "iopub.status.idle": "2021-05-16T11:35:46.663865Z",
     "shell.execute_reply": "2021-05-16T11:35:46.664387Z"
    },
    "papermill": {
     "duration": 0.053861,
     "end_time": "2021-05-16T11:35:46.664548",
     "exception": false,
     "start_time": "2021-05-16T11:35:46.610687",
     "status": "completed"
    },
    "tags": []
   },
   "outputs": [
    {
     "data": {
      "text/plain": [
       "Index(['price', 'enginesize', 'curbweight', 'horsepower', 'carwidth',\n",
       "       'carlength', 'wheelbase', 'boreratio', 'carheight', 'stroke',\n",
       "       'compressionratio'],\n",
       "      dtype='object')"
      ]
     },
     "execution_count": 23,
     "metadata": {},
     "output_type": "execute_result"
    }
   ],
   "source": [
    "strongest_features = df.corr().sort_values(by=\"price\", ascending=False).iloc[:11,:].index\n",
    "strongest_features"
   ]
  },
  {
   "cell_type": "code",
   "execution_count": 24,
   "metadata": {
    "execution": {
     "iopub.execute_input": "2021-05-16T11:35:46.756507Z",
     "iopub.status.busy": "2021-05-16T11:35:46.755876Z",
     "iopub.status.idle": "2021-05-16T11:35:46.781023Z",
     "shell.execute_reply": "2021-05-16T11:35:46.781551Z"
    },
    "papermill": {
     "duration": 0.072497,
     "end_time": "2021-05-16T11:35:46.781717",
     "exception": false,
     "start_time": "2021-05-16T11:35:46.709220",
     "status": "completed"
    },
    "tags": []
   },
   "outputs": [
    {
     "data": {
      "text/html": [
       "<div>\n",
       "<style scoped>\n",
       "    .dataframe tbody tr th:only-of-type {\n",
       "        vertical-align: middle;\n",
       "    }\n",
       "\n",
       "    .dataframe tbody tr th {\n",
       "        vertical-align: top;\n",
       "    }\n",
       "\n",
       "    .dataframe thead th {\n",
       "        text-align: right;\n",
       "    }\n",
       "</style>\n",
       "<table border=\"1\" class=\"dataframe\">\n",
       "  <thead>\n",
       "    <tr style=\"text-align: right;\">\n",
       "      <th></th>\n",
       "      <th>price</th>\n",
       "      <th>enginesize</th>\n",
       "      <th>curbweight</th>\n",
       "      <th>horsepower</th>\n",
       "      <th>carwidth</th>\n",
       "      <th>carlength</th>\n",
       "      <th>wheelbase</th>\n",
       "      <th>boreratio</th>\n",
       "      <th>carheight</th>\n",
       "      <th>stroke</th>\n",
       "      <th>compressionratio</th>\n",
       "    </tr>\n",
       "  </thead>\n",
       "  <tbody>\n",
       "    <tr>\n",
       "      <th>0</th>\n",
       "      <td>13495.0</td>\n",
       "      <td>130</td>\n",
       "      <td>2548</td>\n",
       "      <td>111</td>\n",
       "      <td>64.1</td>\n",
       "      <td>168.8</td>\n",
       "      <td>88.6</td>\n",
       "      <td>3.47</td>\n",
       "      <td>48.8</td>\n",
       "      <td>2.68</td>\n",
       "      <td>9.0</td>\n",
       "    </tr>\n",
       "    <tr>\n",
       "      <th>1</th>\n",
       "      <td>16500.0</td>\n",
       "      <td>130</td>\n",
       "      <td>2548</td>\n",
       "      <td>111</td>\n",
       "      <td>64.1</td>\n",
       "      <td>168.8</td>\n",
       "      <td>88.6</td>\n",
       "      <td>3.47</td>\n",
       "      <td>48.8</td>\n",
       "      <td>2.68</td>\n",
       "      <td>9.0</td>\n",
       "    </tr>\n",
       "    <tr>\n",
       "      <th>2</th>\n",
       "      <td>16500.0</td>\n",
       "      <td>152</td>\n",
       "      <td>2823</td>\n",
       "      <td>154</td>\n",
       "      <td>65.5</td>\n",
       "      <td>171.2</td>\n",
       "      <td>94.5</td>\n",
       "      <td>2.68</td>\n",
       "      <td>52.4</td>\n",
       "      <td>3.47</td>\n",
       "      <td>9.0</td>\n",
       "    </tr>\n",
       "    <tr>\n",
       "      <th>3</th>\n",
       "      <td>13950.0</td>\n",
       "      <td>109</td>\n",
       "      <td>2337</td>\n",
       "      <td>102</td>\n",
       "      <td>66.2</td>\n",
       "      <td>176.6</td>\n",
       "      <td>99.8</td>\n",
       "      <td>3.19</td>\n",
       "      <td>54.3</td>\n",
       "      <td>3.40</td>\n",
       "      <td>10.0</td>\n",
       "    </tr>\n",
       "    <tr>\n",
       "      <th>4</th>\n",
       "      <td>17450.0</td>\n",
       "      <td>136</td>\n",
       "      <td>2824</td>\n",
       "      <td>115</td>\n",
       "      <td>66.4</td>\n",
       "      <td>176.6</td>\n",
       "      <td>99.4</td>\n",
       "      <td>3.19</td>\n",
       "      <td>54.3</td>\n",
       "      <td>3.40</td>\n",
       "      <td>8.0</td>\n",
       "    </tr>\n",
       "    <tr>\n",
       "      <th>...</th>\n",
       "      <td>...</td>\n",
       "      <td>...</td>\n",
       "      <td>...</td>\n",
       "      <td>...</td>\n",
       "      <td>...</td>\n",
       "      <td>...</td>\n",
       "      <td>...</td>\n",
       "      <td>...</td>\n",
       "      <td>...</td>\n",
       "      <td>...</td>\n",
       "      <td>...</td>\n",
       "    </tr>\n",
       "    <tr>\n",
       "      <th>200</th>\n",
       "      <td>16845.0</td>\n",
       "      <td>141</td>\n",
       "      <td>2952</td>\n",
       "      <td>114</td>\n",
       "      <td>68.9</td>\n",
       "      <td>188.8</td>\n",
       "      <td>109.1</td>\n",
       "      <td>3.78</td>\n",
       "      <td>55.5</td>\n",
       "      <td>3.15</td>\n",
       "      <td>9.5</td>\n",
       "    </tr>\n",
       "    <tr>\n",
       "      <th>201</th>\n",
       "      <td>19045.0</td>\n",
       "      <td>141</td>\n",
       "      <td>3049</td>\n",
       "      <td>160</td>\n",
       "      <td>68.8</td>\n",
       "      <td>188.8</td>\n",
       "      <td>109.1</td>\n",
       "      <td>3.78</td>\n",
       "      <td>55.5</td>\n",
       "      <td>3.15</td>\n",
       "      <td>8.7</td>\n",
       "    </tr>\n",
       "    <tr>\n",
       "      <th>202</th>\n",
       "      <td>21485.0</td>\n",
       "      <td>173</td>\n",
       "      <td>3012</td>\n",
       "      <td>134</td>\n",
       "      <td>68.9</td>\n",
       "      <td>188.8</td>\n",
       "      <td>109.1</td>\n",
       "      <td>3.58</td>\n",
       "      <td>55.5</td>\n",
       "      <td>2.87</td>\n",
       "      <td>8.8</td>\n",
       "    </tr>\n",
       "    <tr>\n",
       "      <th>203</th>\n",
       "      <td>22470.0</td>\n",
       "      <td>145</td>\n",
       "      <td>3217</td>\n",
       "      <td>106</td>\n",
       "      <td>68.9</td>\n",
       "      <td>188.8</td>\n",
       "      <td>109.1</td>\n",
       "      <td>3.01</td>\n",
       "      <td>55.5</td>\n",
       "      <td>3.40</td>\n",
       "      <td>23.0</td>\n",
       "    </tr>\n",
       "    <tr>\n",
       "      <th>204</th>\n",
       "      <td>22625.0</td>\n",
       "      <td>141</td>\n",
       "      <td>3062</td>\n",
       "      <td>114</td>\n",
       "      <td>68.9</td>\n",
       "      <td>188.8</td>\n",
       "      <td>109.1</td>\n",
       "      <td>3.78</td>\n",
       "      <td>55.5</td>\n",
       "      <td>3.15</td>\n",
       "      <td>9.5</td>\n",
       "    </tr>\n",
       "  </tbody>\n",
       "</table>\n",
       "<p>205 rows × 11 columns</p>\n",
       "</div>"
      ],
      "text/plain": [
       "       price  enginesize  curbweight  horsepower  carwidth  carlength  \\\n",
       "0    13495.0         130        2548         111      64.1      168.8   \n",
       "1    16500.0         130        2548         111      64.1      168.8   \n",
       "2    16500.0         152        2823         154      65.5      171.2   \n",
       "3    13950.0         109        2337         102      66.2      176.6   \n",
       "4    17450.0         136        2824         115      66.4      176.6   \n",
       "..       ...         ...         ...         ...       ...        ...   \n",
       "200  16845.0         141        2952         114      68.9      188.8   \n",
       "201  19045.0         141        3049         160      68.8      188.8   \n",
       "202  21485.0         173        3012         134      68.9      188.8   \n",
       "203  22470.0         145        3217         106      68.9      188.8   \n",
       "204  22625.0         141        3062         114      68.9      188.8   \n",
       "\n",
       "     wheelbase  boreratio  carheight  stroke  compressionratio  \n",
       "0         88.6       3.47       48.8    2.68               9.0  \n",
       "1         88.6       3.47       48.8    2.68               9.0  \n",
       "2         94.5       2.68       52.4    3.47               9.0  \n",
       "3         99.8       3.19       54.3    3.40              10.0  \n",
       "4         99.4       3.19       54.3    3.40               8.0  \n",
       "..         ...        ...        ...     ...               ...  \n",
       "200      109.1       3.78       55.5    3.15               9.5  \n",
       "201      109.1       3.78       55.5    3.15               8.7  \n",
       "202      109.1       3.58       55.5    2.87               8.8  \n",
       "203      109.1       3.01       55.5    3.40              23.0  \n",
       "204      109.1       3.78       55.5    3.15               9.5  \n",
       "\n",
       "[205 rows x 11 columns]"
      ]
     },
     "execution_count": 24,
     "metadata": {},
     "output_type": "execute_result"
    }
   ],
   "source": [
    "df_for_model = df[strongest_features]\n",
    "df_for_model"
   ]
  },
  {
   "cell_type": "code",
   "execution_count": 25,
   "metadata": {
    "execution": {
     "iopub.execute_input": "2021-05-16T11:35:46.879325Z",
     "iopub.status.busy": "2021-05-16T11:35:46.878632Z",
     "iopub.status.idle": "2021-05-16T11:35:46.885194Z",
     "shell.execute_reply": "2021-05-16T11:35:46.885777Z"
    },
    "papermill": {
     "duration": 0.059036,
     "end_time": "2021-05-16T11:35:46.885947",
     "exception": false,
     "start_time": "2021-05-16T11:35:46.826911",
     "status": "completed"
    },
    "tags": []
   },
   "outputs": [],
   "source": [
    "X = df_for_model.iloc[:,1:]\n",
    "y = df_for_model.price\n",
    "\n",
    "np.random.seed(0)\n",
    "\n",
    "X_train, X_test, y_train, y_test = train_test_split(X, y, test_size=0.2, random_state=76)"
   ]
  },
  {
   "cell_type": "code",
   "execution_count": 26,
   "metadata": {
    "execution": {
     "iopub.execute_input": "2021-05-16T11:35:46.987621Z",
     "iopub.status.busy": "2021-05-16T11:35:46.986998Z",
     "iopub.status.idle": "2021-05-16T11:35:47.005622Z",
     "shell.execute_reply": "2021-05-16T11:35:47.006124Z"
    },
    "papermill": {
     "duration": 0.069691,
     "end_time": "2021-05-16T11:35:47.006331",
     "exception": false,
     "start_time": "2021-05-16T11:35:46.936640",
     "status": "completed"
    },
    "tags": []
   },
   "outputs": [
    {
     "data": {
      "text/html": [
       "<div>\n",
       "<style scoped>\n",
       "    .dataframe tbody tr th:only-of-type {\n",
       "        vertical-align: middle;\n",
       "    }\n",
       "\n",
       "    .dataframe tbody tr th {\n",
       "        vertical-align: top;\n",
       "    }\n",
       "\n",
       "    .dataframe thead th {\n",
       "        text-align: right;\n",
       "    }\n",
       "</style>\n",
       "<table border=\"1\" class=\"dataframe\">\n",
       "  <thead>\n",
       "    <tr style=\"text-align: right;\">\n",
       "      <th></th>\n",
       "      <th>enginesize</th>\n",
       "      <th>curbweight</th>\n",
       "      <th>horsepower</th>\n",
       "      <th>carwidth</th>\n",
       "      <th>carlength</th>\n",
       "      <th>wheelbase</th>\n",
       "      <th>boreratio</th>\n",
       "      <th>carheight</th>\n",
       "      <th>stroke</th>\n",
       "      <th>compressionratio</th>\n",
       "    </tr>\n",
       "  </thead>\n",
       "  <tbody>\n",
       "    <tr>\n",
       "      <th>17</th>\n",
       "      <td>209</td>\n",
       "      <td>3505</td>\n",
       "      <td>182</td>\n",
       "      <td>70.9</td>\n",
       "      <td>197.0</td>\n",
       "      <td>110.0</td>\n",
       "      <td>3.62</td>\n",
       "      <td>56.3</td>\n",
       "      <td>3.39</td>\n",
       "      <td>8.0</td>\n",
       "    </tr>\n",
       "  </tbody>\n",
       "</table>\n",
       "</div>"
      ],
      "text/plain": [
       "    enginesize  curbweight  horsepower  carwidth  carlength  wheelbase  \\\n",
       "17         209        3505         182      70.9      197.0      110.0   \n",
       "\n",
       "    boreratio  carheight  stroke  compressionratio  \n",
       "17       3.62       56.3    3.39               8.0  "
      ]
     },
     "execution_count": 26,
     "metadata": {},
     "output_type": "execute_result"
    }
   ],
   "source": [
    "sample = X_train.sample().index[0]\n",
    "X_train.loc[[sample]]"
   ]
  },
  {
   "cell_type": "code",
   "execution_count": 27,
   "metadata": {
    "execution": {
     "iopub.execute_input": "2021-05-16T11:35:47.113409Z",
     "iopub.status.busy": "2021-05-16T11:35:47.112505Z",
     "iopub.status.idle": "2021-05-16T11:35:47.116116Z",
     "shell.execute_reply": "2021-05-16T11:35:47.116720Z"
    },
    "papermill": {
     "duration": 0.061411,
     "end_time": "2021-05-16T11:35:47.116884",
     "exception": false,
     "start_time": "2021-05-16T11:35:47.055473",
     "status": "completed"
    },
    "tags": []
   },
   "outputs": [
    {
     "data": {
      "text/html": [
       "<div>\n",
       "<style scoped>\n",
       "    .dataframe tbody tr th:only-of-type {\n",
       "        vertical-align: middle;\n",
       "    }\n",
       "\n",
       "    .dataframe tbody tr th {\n",
       "        vertical-align: top;\n",
       "    }\n",
       "\n",
       "    .dataframe thead th {\n",
       "        text-align: right;\n",
       "    }\n",
       "</style>\n",
       "<table border=\"1\" class=\"dataframe\">\n",
       "  <thead>\n",
       "    <tr style=\"text-align: right;\">\n",
       "      <th></th>\n",
       "      <th>price</th>\n",
       "    </tr>\n",
       "  </thead>\n",
       "  <tbody>\n",
       "    <tr>\n",
       "      <th>17</th>\n",
       "      <td>36880.0</td>\n",
       "    </tr>\n",
       "  </tbody>\n",
       "</table>\n",
       "</div>"
      ],
      "text/plain": [
       "      price\n",
       "17  36880.0"
      ]
     },
     "execution_count": 27,
     "metadata": {},
     "output_type": "execute_result"
    }
   ],
   "source": [
    "y_train.loc[[sample]].to_frame()"
   ]
  },
  {
   "cell_type": "code",
   "execution_count": 28,
   "metadata": {
    "execution": {
     "iopub.execute_input": "2021-05-16T11:35:47.215154Z",
     "iopub.status.busy": "2021-05-16T11:35:47.214146Z",
     "iopub.status.idle": "2021-05-16T11:35:47.232567Z",
     "shell.execute_reply": "2021-05-16T11:35:47.233028Z"
    },
    "papermill": {
     "duration": 0.068355,
     "end_time": "2021-05-16T11:35:47.233204",
     "exception": false,
     "start_time": "2021-05-16T11:35:47.164849",
     "status": "completed"
    },
    "tags": []
   },
   "outputs": [
    {
     "data": {
      "text/plain": [
       "LinearRegression()"
      ]
     },
     "execution_count": 28,
     "metadata": {},
     "output_type": "execute_result"
    }
   ],
   "source": [
    "model = LinearRegression()\n",
    "model.fit(X_train, y_train)"
   ]
  },
  {
   "cell_type": "code",
   "execution_count": 29,
   "metadata": {
    "execution": {
     "iopub.execute_input": "2021-05-16T11:35:47.331468Z",
     "iopub.status.busy": "2021-05-16T11:35:47.330537Z",
     "iopub.status.idle": "2021-05-16T11:35:47.340174Z",
     "shell.execute_reply": "2021-05-16T11:35:47.340670Z"
    },
    "papermill": {
     "duration": 0.060254,
     "end_time": "2021-05-16T11:35:47.340829",
     "exception": false,
     "start_time": "2021-05-16T11:35:47.280575",
     "status": "completed"
    },
    "tags": []
   },
   "outputs": [
    {
     "data": {
      "text/html": [
       "<div>\n",
       "<style scoped>\n",
       "    .dataframe tbody tr th:only-of-type {\n",
       "        vertical-align: middle;\n",
       "    }\n",
       "\n",
       "    .dataframe tbody tr th {\n",
       "        vertical-align: top;\n",
       "    }\n",
       "\n",
       "    .dataframe thead th {\n",
       "        text-align: right;\n",
       "    }\n",
       "</style>\n",
       "<table border=\"1\" class=\"dataframe\">\n",
       "  <thead>\n",
       "    <tr style=\"text-align: right;\">\n",
       "      <th></th>\n",
       "      <th>Factor</th>\n",
       "    </tr>\n",
       "  </thead>\n",
       "  <tbody>\n",
       "    <tr>\n",
       "      <th>enginesize</th>\n",
       "      <td>86.685629</td>\n",
       "    </tr>\n",
       "    <tr>\n",
       "      <th>curbweight</th>\n",
       "      <td>1.526044</td>\n",
       "    </tr>\n",
       "    <tr>\n",
       "      <th>horsepower</th>\n",
       "      <td>76.900213</td>\n",
       "    </tr>\n",
       "    <tr>\n",
       "      <th>carwidth</th>\n",
       "      <td>532.896824</td>\n",
       "    </tr>\n",
       "    <tr>\n",
       "      <th>carlength</th>\n",
       "      <td>-61.157249</td>\n",
       "    </tr>\n",
       "    <tr>\n",
       "      <th>wheelbase</th>\n",
       "      <td>124.421904</td>\n",
       "    </tr>\n",
       "    <tr>\n",
       "      <th>boreratio</th>\n",
       "      <td>-2231.508354</td>\n",
       "    </tr>\n",
       "    <tr>\n",
       "      <th>carheight</th>\n",
       "      <td>107.168501</td>\n",
       "    </tr>\n",
       "    <tr>\n",
       "      <th>stroke</th>\n",
       "      <td>-3077.517756</td>\n",
       "    </tr>\n",
       "    <tr>\n",
       "      <th>compressionratio</th>\n",
       "      <td>190.143147</td>\n",
       "    </tr>\n",
       "  </tbody>\n",
       "</table>\n",
       "</div>"
      ],
      "text/plain": [
       "                       Factor\n",
       "enginesize          86.685629\n",
       "curbweight           1.526044\n",
       "horsepower          76.900213\n",
       "carwidth           532.896824\n",
       "carlength          -61.157249\n",
       "wheelbase          124.421904\n",
       "boreratio        -2231.508354\n",
       "carheight          107.168501\n",
       "stroke           -3077.517756\n",
       "compressionratio   190.143147"
      ]
     },
     "execution_count": 29,
     "metadata": {},
     "output_type": "execute_result"
    }
   ],
   "source": [
    "pd.DataFrame(model.coef_, index= X.columns, columns=[\"Factor\"])\n",
    "\n",
    "# That means if enginesize + 1 then price + 86.68"
   ]
  },
  {
   "cell_type": "code",
   "execution_count": 30,
   "metadata": {
    "execution": {
     "iopub.execute_input": "2021-05-16T11:35:47.439789Z",
     "iopub.status.busy": "2021-05-16T11:35:47.438835Z",
     "iopub.status.idle": "2021-05-16T11:35:47.444840Z",
     "shell.execute_reply": "2021-05-16T11:35:47.445271Z"
    },
    "papermill": {
     "duration": 0.057215,
     "end_time": "2021-05-16T11:35:47.445460",
     "exception": false,
     "start_time": "2021-05-16T11:35:47.388245",
     "status": "completed"
    },
    "tags": []
   },
   "outputs": [],
   "source": [
    "y_pred = model.predict(X_test)"
   ]
  },
  {
   "cell_type": "code",
   "execution_count": 31,
   "metadata": {
    "execution": {
     "iopub.execute_input": "2021-05-16T11:35:47.546816Z",
     "iopub.status.busy": "2021-05-16T11:35:47.545876Z",
     "iopub.status.idle": "2021-05-16T11:35:47.554967Z",
     "shell.execute_reply": "2021-05-16T11:35:47.554442Z"
    },
    "papermill": {
     "duration": 0.061207,
     "end_time": "2021-05-16T11:35:47.555105",
     "exception": false,
     "start_time": "2021-05-16T11:35:47.493898",
     "status": "completed"
    },
    "tags": []
   },
   "outputs": [
    {
     "data": {
      "text/plain": [
       "0.928356622572586"
      ]
     },
     "execution_count": 31,
     "metadata": {},
     "output_type": "execute_result"
    }
   ],
   "source": [
    "model.score(X_test, y_test)"
   ]
  },
  {
   "cell_type": "code",
   "execution_count": 32,
   "metadata": {
    "execution": {
     "iopub.execute_input": "2021-05-16T11:35:47.698326Z",
     "iopub.status.busy": "2021-05-16T11:35:47.696837Z",
     "iopub.status.idle": "2021-05-16T11:35:47.804540Z",
     "shell.execute_reply": "2021-05-16T11:35:47.804027Z"
    },
    "papermill": {
     "duration": 0.200875,
     "end_time": "2021-05-16T11:35:47.804691",
     "exception": false,
     "start_time": "2021-05-16T11:35:47.603816",
     "status": "completed"
    },
    "tags": []
   },
   "outputs": [
    {
     "data": {
      "image/png": "[encoded data removed]",
      "text/plain": [
       "<Figure size 432x288 with 1 Axes>"
      ]
     },
     "metadata": {
      "needs_background": "light"
     },
     "output_type": "display_data"
    }
   ],
   "source": [
    "\n",
    "plt.scatter(y_test,y_pred)\n",
    "plt.title(\"Comparing: \\nX_test and y_pred\", fontsize=20)\n",
    "\n",
    "plt.xlabel('y_test', fontsize=15)\n",
    "plt.ylabel('y_pred', fontsize=15)\n",
    "\n",
    "plt.grid()\n",
    "plt.show()"
   ]
  }
 ],
 "metadata": {
  "kernelspec": {
   "display_name": "Python 3",
   "language": "python",
   "name": "python3"
  },
  "language_info": {
   "codemirror_mode": {
    "name": "ipython",
    "version": 3
   },
   "file_extension": ".py",
   "mimetype": "text/x-python",
   "name": "python",
   "nbconvert_exporter": "python",
   "pygments_lexer": "ipython3",
   "version": "3.8.5"
  },
  "papermill": {
   "default_parameters": {},
   "duration": 17.885456,
   "end_time": "2021-05-16T11:35:49.436141",
   "environment_variables": {},
   "exception": null,
   "input_path": "__notebook__.ipynb",
   "output_path": "__notebook__.ipynb",
   "parameters": {},
   "start_time": "2021-05-16T11:35:31.550685",
   "version": "2.3.3"
  }
 },
 "nbformat": 4,
 "nbformat_minor": 5
}
