{
 "cells":  [
  {
   "cell_type": "markdown",
   "metadata": {},
   "source": [
    "<table align=\"left\">\n",
    "  <td>\n",
    "    <a target=\"_blank\" href=\"https://www.kaggle.com/mateuszszczepanek/prediction-diabetes\"><img src=\"https://cdn.iconscout.com/icon/free/png-128/kaggle-3628869-3030009.png\" />Open in Kaggle</a>\n",
    "  </td>\n",
    "</table>"
   ]
  },
  {
   "cell_type": "code",
   "execution_count": 1,
   "metadata": {
    "execution": {
     "iopub.execute_input": "2021-05-16T11:11:16.890251Z",
     "iopub.status.busy": "2021-05-16T11:11:16.889039Z",
     "iopub.status.idle": "2021-05-16T11:11:18.082841Z",
     "shell.execute_reply": "2021-05-16T11:11:18.083374Z"
    },
    "papermill": {
     "duration": 1.215074,
     "end_time": "2021-05-16T11:11:18.083713",
     "exception": false,
     "start_time": "2021-05-16T11:11:16.868639",
     "status": "completed"
    },
    "tags": []
   },
   "outputs": [],
   "source": [
    "import numpy as np\n",
    "import pandas as pd\n",
    "import matplotlib.pyplot as plt\n",
    "import seaborn as sns\n",
    "from sklearn.linear_model import LogisticRegression\n",
    "from sklearn.model_selection import train_test_split\n",
    "from sklearn.metrics import confusion_matrix \n",
    "\n",
    "import warnings\n",
    "warnings.filterwarnings('ignore')"
   ]
  },
  {
   "cell_type": "code",
   "execution_count": 2,
   "metadata": {
    "execution": {
     "iopub.execute_input": "2021-05-16T11:11:18.116163Z",
     "iopub.status.busy": "2021-05-16T11:11:18.115456Z",
     "iopub.status.idle": "2021-05-16T11:11:18.166298Z",
     "shell.execute_reply": "2021-05-16T11:11:18.166766Z"
    },
    "papermill": {
     "duration": 0.068858,
     "end_time": "2021-05-16T11:11:18.166973",
     "exception": false,
     "start_time": "2021-05-16T11:11:18.098115",
     "status": "completed"
    },
    "tags": []
   },
   "outputs": [
    {
     "data": {
      "text/html": [
       "<div>\n",
       "<style scoped>\n",
       "    .dataframe tbody tr th:only-of-type {\n",
       "        vertical-align: middle;\n",
       "    }\n",
       "\n",
       "    .dataframe tbody tr th {\n",
       "        vertical-align: top;\n",
       "    }\n",
       "\n",
       "    .dataframe thead th {\n",
       "        text-align: right;\n",
       "    }\n",
       "</style>\n",
       "<table border=\"1\" class=\"dataframe\">\n",
       "  <thead>\n",
       "    <tr style=\"text-align: right;\">\n",
       "      <th></th>\n",
       "      <th>Pregnancies</th>\n",
       "      <th>Glucose</th>\n",
       "      <th>BloodPressure</th>\n",
       "      <th>SkinThickness</th>\n",
       "      <th>Insulin</th>\n",
       "      <th>BMI</th>\n",
       "      <th>DiabetesPedigreeFunction</th>\n",
       "      <th>Age</th>\n",
       "      <th>Outcome</th>\n",
       "    </tr>\n",
       "  </thead>\n",
       "  <tbody>\n",
       "    <tr>\n",
       "      <th>0</th>\n",
       "      <td>2</td>\n",
       "      <td>138</td>\n",
       "      <td>62</td>\n",
       "      <td>35</td>\n",
       "      <td>0</td>\n",
       "      <td>33.6</td>\n",
       "      <td>0.127</td>\n",
       "      <td>47</td>\n",
       "      <td>1</td>\n",
       "    </tr>\n",
       "    <tr>\n",
       "      <th>1</th>\n",
       "      <td>0</td>\n",
       "      <td>84</td>\n",
       "      <td>82</td>\n",
       "      <td>31</td>\n",
       "      <td>125</td>\n",
       "      <td>38.2</td>\n",
       "      <td>0.233</td>\n",
       "      <td>23</td>\n",
       "      <td>0</td>\n",
       "    </tr>\n",
       "    <tr>\n",
       "      <th>2</th>\n",
       "      <td>0</td>\n",
       "      <td>145</td>\n",
       "      <td>0</td>\n",
       "      <td>0</td>\n",
       "      <td>0</td>\n",
       "      <td>44.2</td>\n",
       "      <td>0.630</td>\n",
       "      <td>31</td>\n",
       "      <td>1</td>\n",
       "    </tr>\n",
       "    <tr>\n",
       "      <th>3</th>\n",
       "      <td>0</td>\n",
       "      <td>135</td>\n",
       "      <td>68</td>\n",
       "      <td>42</td>\n",
       "      <td>250</td>\n",
       "      <td>42.3</td>\n",
       "      <td>0.365</td>\n",
       "      <td>24</td>\n",
       "      <td>1</td>\n",
       "    </tr>\n",
       "  </tbody>\n",
       "</table>\n",
       "</div>"
      ],
      "text/plain": [
       "   Pregnancies  Glucose  BloodPressure  SkinThickness  Insulin   BMI  \\\n",
       "0            2      138             62             35        0  33.6   \n",
       "1            0       84             82             31      125  38.2   \n",
       "2            0      145              0              0        0  44.2   \n",
       "3            0      135             68             42      250  42.3   \n",
       "\n",
       "   DiabetesPedigreeFunction  Age  Outcome  \n",
       "0                     0.127   47        1  \n",
       "1                     0.233   23        0  \n",
       "2                     0.630   31        1  \n",
       "3                     0.365   24        1  "
      ]
     },
     "execution_count": 2,
     "metadata": {},
     "output_type": "execute_result"
    }
   ],
   "source": [
    "file = \"../input/diabetes/diabetes.csv\"\n",
    "df = pd.read_csv(file)\n",
    "df.head(4)"
   ]
  },
  {
   "cell_type": "markdown",
   "metadata": {
    "papermill": {
     "duration": 0.014102,
     "end_time": "2021-05-16T11:11:18.196096",
     "exception": false,
     "start_time": "2021-05-16T11:11:18.181994",
     "status": "completed"
    },
    "tags": []
   },
   "source": [
    "### Checking for missing values."
   ]
  },
  {
   "cell_type": "code",
   "execution_count": 3,
   "metadata": {
    "execution": {
     "iopub.execute_input": "2021-05-16T11:11:18.230545Z",
     "iopub.status.busy": "2021-05-16T11:11:18.229901Z",
     "iopub.status.idle": "2021-05-16T11:11:18.238506Z",
     "shell.execute_reply": "2021-05-16T11:11:18.238985Z"
    },
    "papermill": {
     "duration": 0.027704,
     "end_time": "2021-05-16T11:11:18.239175",
     "exception": false,
     "start_time": "2021-05-16T11:11:18.211471",
     "status": "completed"
    },
    "tags": []
   },
   "outputs": [
    {
     "data": {
      "text/plain": [
       "Pregnancies                 0\n",
       "Glucose                     0\n",
       "BloodPressure               0\n",
       "SkinThickness               0\n",
       "Insulin                     0\n",
       "BMI                         0\n",
       "DiabetesPedigreeFunction    0\n",
       "Age                         0\n",
       "Outcome                     0\n",
       "dtype: int64"
      ]
     },
     "execution_count": 3,
     "metadata": {},
     "output_type": "execute_result"
    }
   ],
   "source": [
    "df.isna().sum()"
   ]
  },
  {
   "cell_type": "markdown",
   "metadata": {
    "papermill": {
     "duration": 0.014654,
     "end_time": "2021-05-16T11:11:18.269298",
     "exception": false,
     "start_time": "2021-05-16T11:11:18.254644",
     "status": "completed"
    },
    "tags": []
   },
   "source": [
    "### Description of the entire DataFrame."
   ]
  },
  {
   "cell_type": "code",
   "execution_count": 4,
   "metadata": {
    "execution": {
     "iopub.execute_input": "2021-05-16T11:11:18.303165Z",
     "iopub.status.busy": "2021-05-16T11:11:18.302510Z",
     "iopub.status.idle": "2021-05-16T11:11:18.350377Z",
     "shell.execute_reply": "2021-05-16T11:11:18.349641Z"
    },
    "papermill": {
     "duration": 0.066042,
     "end_time": "2021-05-16T11:11:18.350542",
     "exception": false,
     "start_time": "2021-05-16T11:11:18.284500",
     "status": "completed"
    },
    "tags": []
   },
   "outputs": [
    {
     "data": {
      "text/html": [
       "<div>\n",
       "<style scoped>\n",
       "    .dataframe tbody tr th:only-of-type {\n",
       "        vertical-align: middle;\n",
       "    }\n",
       "\n",
       "    .dataframe tbody tr th {\n",
       "        vertical-align: top;\n",
       "    }\n",
       "\n",
       "    .dataframe thead th {\n",
       "        text-align: right;\n",
       "    }\n",
       "</style>\n",
       "<table border=\"1\" class=\"dataframe\">\n",
       "  <thead>\n",
       "    <tr style=\"text-align: right;\">\n",
       "      <th></th>\n",
       "      <th>Pregnancies</th>\n",
       "      <th>Glucose</th>\n",
       "      <th>BloodPressure</th>\n",
       "      <th>SkinThickness</th>\n",
       "      <th>Insulin</th>\n",
       "      <th>BMI</th>\n",
       "      <th>DiabetesPedigreeFunction</th>\n",
       "      <th>Age</th>\n",
       "      <th>Outcome</th>\n",
       "    </tr>\n",
       "  </thead>\n",
       "  <tbody>\n",
       "    <tr>\n",
       "      <th>count</th>\n",
       "      <td>2000.000000</td>\n",
       "      <td>2000.000000</td>\n",
       "      <td>2000.000000</td>\n",
       "      <td>2000.000000</td>\n",
       "      <td>2000.000000</td>\n",
       "      <td>2000.000000</td>\n",
       "      <td>2000.000000</td>\n",
       "      <td>2000.000000</td>\n",
       "      <td>2000.000000</td>\n",
       "    </tr>\n",
       "    <tr>\n",
       "      <th>mean</th>\n",
       "      <td>3.703500</td>\n",
       "      <td>121.182500</td>\n",
       "      <td>69.145500</td>\n",
       "      <td>20.935000</td>\n",
       "      <td>80.254000</td>\n",
       "      <td>32.193000</td>\n",
       "      <td>0.470930</td>\n",
       "      <td>33.090500</td>\n",
       "      <td>0.342000</td>\n",
       "    </tr>\n",
       "    <tr>\n",
       "      <th>std</th>\n",
       "      <td>3.306063</td>\n",
       "      <td>32.068636</td>\n",
       "      <td>19.188315</td>\n",
       "      <td>16.103243</td>\n",
       "      <td>111.180534</td>\n",
       "      <td>8.149901</td>\n",
       "      <td>0.323553</td>\n",
       "      <td>11.786423</td>\n",
       "      <td>0.474498</td>\n",
       "    </tr>\n",
       "    <tr>\n",
       "      <th>min</th>\n",
       "      <td>0.000000</td>\n",
       "      <td>0.000000</td>\n",
       "      <td>0.000000</td>\n",
       "      <td>0.000000</td>\n",
       "      <td>0.000000</td>\n",
       "      <td>0.000000</td>\n",
       "      <td>0.078000</td>\n",
       "      <td>21.000000</td>\n",
       "      <td>0.000000</td>\n",
       "    </tr>\n",
       "    <tr>\n",
       "      <th>25%</th>\n",
       "      <td>1.000000</td>\n",
       "      <td>99.000000</td>\n",
       "      <td>63.500000</td>\n",
       "      <td>0.000000</td>\n",
       "      <td>0.000000</td>\n",
       "      <td>27.375000</td>\n",
       "      <td>0.244000</td>\n",
       "      <td>24.000000</td>\n",
       "      <td>0.000000</td>\n",
       "    </tr>\n",
       "    <tr>\n",
       "      <th>50%</th>\n",
       "      <td>3.000000</td>\n",
       "      <td>117.000000</td>\n",
       "      <td>72.000000</td>\n",
       "      <td>23.000000</td>\n",
       "      <td>40.000000</td>\n",
       "      <td>32.300000</td>\n",
       "      <td>0.376000</td>\n",
       "      <td>29.000000</td>\n",
       "      <td>0.000000</td>\n",
       "    </tr>\n",
       "    <tr>\n",
       "      <th>75%</th>\n",
       "      <td>6.000000</td>\n",
       "      <td>141.000000</td>\n",
       "      <td>80.000000</td>\n",
       "      <td>32.000000</td>\n",
       "      <td>130.000000</td>\n",
       "      <td>36.800000</td>\n",
       "      <td>0.624000</td>\n",
       "      <td>40.000000</td>\n",
       "      <td>1.000000</td>\n",
       "    </tr>\n",
       "    <tr>\n",
       "      <th>max</th>\n",
       "      <td>17.000000</td>\n",
       "      <td>199.000000</td>\n",
       "      <td>122.000000</td>\n",
       "      <td>110.000000</td>\n",
       "      <td>744.000000</td>\n",
       "      <td>80.600000</td>\n",
       "      <td>2.420000</td>\n",
       "      <td>81.000000</td>\n",
       "      <td>1.000000</td>\n",
       "    </tr>\n",
       "  </tbody>\n",
       "</table>\n",
       "</div>"
      ],
      "text/plain": [
       "       Pregnancies      Glucose  BloodPressure  SkinThickness      Insulin  \\\n",
       "count  2000.000000  2000.000000    2000.000000    2000.000000  2000.000000   \n",
       "mean      3.703500   121.182500      69.145500      20.935000    80.254000   \n",
       "std       3.306063    32.068636      19.188315      16.103243   111.180534   \n",
       "min       0.000000     0.000000       0.000000       0.000000     0.000000   \n",
       "25%       1.000000    99.000000      63.500000       0.000000     0.000000   \n",
       "50%       3.000000   117.000000      72.000000      23.000000    40.000000   \n",
       "75%       6.000000   141.000000      80.000000      32.000000   130.000000   \n",
       "max      17.000000   199.000000     122.000000     110.000000   744.000000   \n",
       "\n",
       "               BMI  DiabetesPedigreeFunction          Age      Outcome  \n",
       "count  2000.000000               2000.000000  2000.000000  2000.000000  \n",
       "mean     32.193000                  0.470930    33.090500     0.342000  \n",
       "std       8.149901                  0.323553    11.786423     0.474498  \n",
       "min       0.000000                  0.078000    21.000000     0.000000  \n",
       "25%      27.375000                  0.244000    24.000000     0.000000  \n",
       "50%      32.300000                  0.376000    29.000000     0.000000  \n",
       "75%      36.800000                  0.624000    40.000000     1.000000  \n",
       "max      80.600000                  2.420000    81.000000     1.000000  "
      ]
     },
     "execution_count": 4,
     "metadata": {},
     "output_type": "execute_result"
    }
   ],
   "source": [
    "df.describe()"
   ]
  },
  {
   "cell_type": "markdown",
   "metadata": {
    "papermill": {
     "duration": 0.015742,
     "end_time": "2021-05-16T11:11:18.383317",
     "exception": false,
     "start_time": "2021-05-16T11:11:18.367575",
     "status": "completed"
    },
    "tags": []
   },
   "source": [
    "### Checking how many people there are with diabetes."
   ]
  },
  {
   "cell_type": "code",
   "execution_count": 5,
   "metadata": {
    "execution": {
     "iopub.execute_input": "2021-05-16T11:11:18.428420Z",
     "iopub.status.busy": "2021-05-16T11:11:18.427737Z",
     "iopub.status.idle": "2021-05-16T11:11:18.432350Z",
     "shell.execute_reply": "2021-05-16T11:11:18.431677Z"
    },
    "papermill": {
     "duration": 0.032824,
     "end_time": "2021-05-16T11:11:18.432508",
     "exception": false,
     "start_time": "2021-05-16T11:11:18.399684",
     "status": "completed"
    },
    "tags": []
   },
   "outputs": [
    {
     "data": {
      "text/html": [
       "<div>\n",
       "<style scoped>\n",
       "    .dataframe tbody tr th:only-of-type {\n",
       "        vertical-align: middle;\n",
       "    }\n",
       "\n",
       "    .dataframe tbody tr th {\n",
       "        vertical-align: top;\n",
       "    }\n",
       "\n",
       "    .dataframe thead th {\n",
       "        text-align: right;\n",
       "    }\n",
       "</style>\n",
       "<table border=\"1\" class=\"dataframe\">\n",
       "  <thead>\n",
       "    <tr style=\"text-align: right;\">\n",
       "      <th></th>\n",
       "      <th>Outcome</th>\n",
       "    </tr>\n",
       "  </thead>\n",
       "  <tbody>\n",
       "    <tr>\n",
       "      <th>0</th>\n",
       "      <td>1316</td>\n",
       "    </tr>\n",
       "    <tr>\n",
       "      <th>1</th>\n",
       "      <td>684</td>\n",
       "    </tr>\n",
       "  </tbody>\n",
       "</table>\n",
       "</div>"
      ],
      "text/plain": [
       "   Outcome\n",
       "0     1316\n",
       "1      684"
      ]
     },
     "execution_count": 5,
     "metadata": {},
     "output_type": "execute_result"
    }
   ],
   "source": [
    "df[\"Outcome\"].value_counts().to_frame()"
   ]
  },
  {
   "cell_type": "markdown",
   "metadata": {
    "papermill": {
     "duration": 0.016,
     "end_time": "2021-05-16T11:11:18.465016",
     "exception": false,
     "start_time": "2021-05-16T11:11:18.449016",
     "status": "completed"
    },
    "tags": []
   },
   "source": [
    "### Check which feature has the greatest impact on the final result."
   ]
  },
  {
   "cell_type": "code",
   "execution_count": 6,
   "metadata": {
    "execution": {
     "iopub.execute_input": "2021-05-16T11:11:18.508334Z",
     "iopub.status.busy": "2021-05-16T11:11:18.506427Z",
     "iopub.status.idle": "2021-05-16T11:11:18.859081Z",
     "shell.execute_reply": "2021-05-16T11:11:18.858438Z"
    },
    "papermill": {
     "duration": 0.377961,
     "end_time": "2021-05-16T11:11:18.859230",
     "exception": false,
     "start_time": "2021-05-16T11:11:18.481269",
     "status": "completed"
    },
    "tags": []
   },
   "outputs": [
    {
     "data": {
      "image/png": "[encoded data removed]",
      "text/plain": [
       "<Figure size 864x576 with 2 Axes>"
      ]
     },
     "metadata": {},
     "output_type": "display_data"
    }
   ],
   "source": [
    "cor = df.corr().iloc[ : , -1].sort_values(ascending=False)[1:].to_frame()\n",
    "sns.set(font_scale=1.6)\n",
    "plt.figure(figsize=(12, 8))\n",
    "sns.heatmap(data= cor, cmap=\"jet\",center=0.1, annot=True, vmax=.5, linewidths=0.1,annot_kws={\"size\": 16})\n",
    "plt.show()"
   ]
  },
  {
   "cell_type": "markdown",
   "metadata": {
    "papermill": {
     "duration": 0.017561,
     "end_time": "2021-05-16T11:11:18.894934",
     "exception": false,
     "start_time": "2021-05-16T11:11:18.877373",
     "status": "completed"
    },
    "tags": []
   },
   "source": [
    "### Division of a data set into a dependent variable and an independent variable."
   ]
  },
  {
   "cell_type": "code",
   "execution_count": 7,
   "metadata": {
    "execution": {
     "iopub.execute_input": "2021-05-16T11:11:18.940557Z",
     "iopub.status.busy": "2021-05-16T11:11:18.939875Z",
     "iopub.status.idle": "2021-05-16T11:11:18.943078Z",
     "shell.execute_reply": "2021-05-16T11:11:18.942496Z"
    },
    "papermill": {
     "duration": 0.029259,
     "end_time": "2021-05-16T11:11:18.943235",
     "exception": false,
     "start_time": "2021-05-16T11:11:18.913976",
     "status": "completed"
    },
    "tags": []
   },
   "outputs": [],
   "source": [
    "# independent variable\n",
    "X = df.iloc[ : , : -1]\n",
    "\n",
    "# dependent variable\n",
    "y = df.Outcome"
   ]
  },
  {
   "cell_type": "markdown",
   "metadata": {
    "papermill": {
     "duration": 0.019259,
     "end_time": "2021-05-16T11:11:18.980989",
     "exception": false,
     "start_time": "2021-05-16T11:11:18.961730",
     "status": "completed"
    },
    "tags": []
   },
   "source": [
    "### The division of values into a training set and a test set."
   ]
  },
  {
   "cell_type": "code",
   "execution_count": 8,
   "metadata": {
    "execution": {
     "iopub.execute_input": "2021-05-16T11:11:19.026854Z",
     "iopub.status.busy": "2021-05-16T11:11:19.025873Z",
     "iopub.status.idle": "2021-05-16T11:11:19.033221Z",
     "shell.execute_reply": "2021-05-16T11:11:19.032619Z"
    },
    "papermill": {
     "duration": 0.033864,
     "end_time": "2021-05-16T11:11:19.033393",
     "exception": false,
     "start_time": "2021-05-16T11:11:18.999529",
     "status": "completed"
    },
    "tags": []
   },
   "outputs": [],
   "source": [
    "X_train, X_test, y_train, y_test = train_test_split(X, y, test_size=0.2, random_state=321)"
   ]
  },
  {
   "cell_type": "markdown",
   "metadata": {
    "papermill": {
     "duration": 0.018455,
     "end_time": "2021-05-16T11:11:19.070899",
     "exception": false,
     "start_time": "2021-05-16T11:11:19.052444",
     "status": "completed"
    },
    "tags": []
   },
   "source": [
    "### Creating an estimator model and training it."
   ]
  },
  {
   "cell_type": "code",
   "execution_count": 9,
   "metadata": {
    "execution": {
     "iopub.execute_input": "2021-05-16T11:11:19.119954Z",
     "iopub.status.busy": "2021-05-16T11:11:19.117548Z",
     "iopub.status.idle": "2021-05-16T11:11:19.239384Z",
     "shell.execute_reply": "2021-05-16T11:11:19.240370Z"
    },
    "papermill": {
     "duration": 0.151184,
     "end_time": "2021-05-16T11:11:19.240747",
     "exception": false,
     "start_time": "2021-05-16T11:11:19.089563",
     "status": "completed"
    },
    "tags": []
   },
   "outputs": [
    {
     "name": "stdout",
     "output_type": "stream",
     "text": [
      "The model correctly classifies with 83.00% accuracy.\n"
     ]
    },
    {
     "data": {
      "text/html": [
       "<div>\n",
       "<style scoped>\n",
       "    .dataframe tbody tr th:only-of-type {\n",
       "        vertical-align: middle;\n",
       "    }\n",
       "\n",
       "    .dataframe tbody tr th {\n",
       "        vertical-align: top;\n",
       "    }\n",
       "\n",
       "    .dataframe thead th {\n",
       "        text-align: right;\n",
       "    }\n",
       "</style>\n",
       "<table border=\"1\" class=\"dataframe\">\n",
       "  <thead>\n",
       "    <tr style=\"text-align: right;\">\n",
       "      <th></th>\n",
       "      <th>0</th>\n",
       "      <th>1</th>\n",
       "    </tr>\n",
       "  </thead>\n",
       "  <tbody>\n",
       "    <tr>\n",
       "      <th>0</th>\n",
       "      <td>245</td>\n",
       "      <td>21</td>\n",
       "    </tr>\n",
       "    <tr>\n",
       "      <th>1</th>\n",
       "      <td>47</td>\n",
       "      <td>87</td>\n",
       "    </tr>\n",
       "  </tbody>\n",
       "</table>\n",
       "</div>"
      ],
      "text/plain": [
       "     0   1\n",
       "0  245  21\n",
       "1   47  87"
      ]
     },
     "execution_count": 9,
     "metadata": {},
     "output_type": "execute_result"
    }
   ],
   "source": [
    "model = LogisticRegression(max_iter=125)\n",
    "model.fit(X_train, y_train)\n",
    "score = model.score(X_test, y_test)\n",
    "\n",
    "print(f\"The model correctly classifies with {score*100:.2f}% accuracy.\")\n",
    "\n",
    "y_pred = model.predict(X_test)\n",
    "cm = pd.DataFrame(confusion_matrix(y_test, y_pred))\n",
    "cm"
   ]
  },
  {
   "cell_type": "code",
   "execution_count": 10,
   "metadata": {
    "execution": {
     "iopub.execute_input": "2021-05-16T11:11:19.321407Z",
     "iopub.status.busy": "2021-05-16T11:11:19.320298Z",
     "iopub.status.idle": "2021-05-16T11:11:19.325984Z",
     "shell.execute_reply": "2021-05-16T11:11:19.326907Z"
    },
    "papermill": {
     "duration": 0.052595,
     "end_time": "2021-05-16T11:11:19.327225",
     "exception": false,
     "start_time": "2021-05-16T11:11:19.274630",
     "status": "completed"
    },
    "tags": []
   },
   "outputs": [
    {
     "name": "stdout",
     "output_type": "stream",
     "text": [
      "The model predicts disease with the following accuracy:\n",
      "\n",
      "Healthy people - classified as\n",
      "\tNo disease = 245/266\n",
      "\tDisease = 21/266\n",
      "\n",
      "Sick people - diabetic - classified as\n",
      "\tNo disease = 47/134\n",
      "\tDisease = 87/134\n"
     ]
    }
   ],
   "source": [
    "print(f\"The model predicts disease with the following accuracy:\\n\\n\\\n",
    "Healthy people - classified as\\n\\t\\\n",
    "No disease = {cm[0][0]}/{cm.loc[0].sum()}\\n\\tDisease = {cm[1][0]}/{cm.loc[0].sum()}\\n\\n\\\n",
    "\\\n",
    "Sick people - diabetic - classified as\\n\\t\\\n",
    "No disease = {cm[0][1]}/{cm.loc[1].sum()}\\n\\tDisease = {cm[1][1]}/{cm.loc[1].sum()}\")"
   ]
  },
  {
   "cell_type": "markdown",
   "metadata": {
    "papermill": {
     "duration": 0.020617,
     "end_time": "2021-05-16T11:11:19.370704",
     "exception": false,
     "start_time": "2021-05-16T11:11:19.350087",
     "status": "completed"
    },
    "tags": []
   },
   "source": [
    "### Check the predictions as you may have diabetes or not."
   ]
  },
  {
   "cell_type": "code",
   "execution_count": 11,
   "metadata": {
    "execution": {
     "iopub.execute_input": "2021-05-16T11:11:19.417936Z",
     "iopub.status.busy": "2021-05-16T11:11:19.417204Z",
     "iopub.status.idle": "2021-05-16T11:11:19.421273Z",
     "shell.execute_reply": "2021-05-16T11:11:19.421851Z"
    },
    "papermill": {
     "duration": 0.031329,
     "end_time": "2021-05-16T11:11:19.422062",
     "exception": false,
     "start_time": "2021-05-16T11:11:19.390733",
     "status": "completed"
    },
    "tags": []
   },
   "outputs": [],
   "source": [
    "# Pregnancies: Number of times pregnant\n",
    "PREGNANCIES = int(df.Pregnancies.mean())\n",
    "\n",
    "# Plasma glucose concentration over 2 hours in an oral glucose tolerance test \n",
    "GLUCOSE = int(df.Glucose.mean())\n",
    "\n",
    "# Diastolic blood pressure (mm Hg)\n",
    "BLOODPRESSURE = int(df.BloodPressure.mean())\n",
    "\n",
    "# Triceps skin fold thickness (mm)\n",
    "SKINTHICKNESS = int(df.SkinThickness.mean())\n",
    "\n",
    "# 2-Hour serum insulin (mu U/ml)\n",
    "INSULIN = int(df.Insulin.mean())\n",
    "\n",
    "# Body mass index (weight in kg/(height in m)2)\n",
    "BMI = df.BMI.mean()\n",
    "\n",
    "# DiabetesPedigreeFunction: Diabetes pedigree function (a function which scores likelihood of diabetes based on family history)\n",
    "DIABETESPEDIGREEFUNCTION = df.DiabetesPedigreeFunction.mean()\n",
    "\n",
    "# Age (years)\n",
    "AGE = int(df.Age.mean())"
   ]
  },
  {
   "cell_type": "code",
   "execution_count": 12,
   "metadata": {
    "execution": {
     "iopub.execute_input": "2021-05-16T11:11:19.466367Z",
     "iopub.status.busy": "2021-05-16T11:11:19.465625Z",
     "iopub.status.idle": "2021-05-16T11:11:19.469719Z",
     "shell.execute_reply": "2021-05-16T11:11:19.470338Z"
    },
    "papermill": {
     "duration": 0.028214,
     "end_time": "2021-05-16T11:11:19.470543",
     "exception": false,
     "start_time": "2021-05-16T11:11:19.442329",
     "status": "completed"
    },
    "tags": []
   },
   "outputs": [],
   "source": [
    "sample = {\n",
    "    'Pregnancies': PREGNANCIES, \n",
    "    'Glucose': GLUCOSE, \n",
    "    'Bloodpressure': BLOODPRESSURE, \n",
    "    'Skinthickness': SKINTHICKNESS, \n",
    "    'Insulin': INSULIN,\n",
    "    'Bmi': BMI, \n",
    "    'Diabetespedigreefunction': DIABETESPEDIGREEFUNCTION, \n",
    "    'Age':AGE,\n",
    "}"
   ]
  },
  {
   "cell_type": "code",
   "execution_count": 13,
   "metadata": {
    "execution": {
     "iopub.execute_input": "2021-05-16T11:11:19.516035Z",
     "iopub.status.busy": "2021-05-16T11:11:19.515348Z",
     "iopub.status.idle": "2021-05-16T11:11:19.528993Z",
     "shell.execute_reply": "2021-05-16T11:11:19.528438Z"
    },
    "papermill": {
     "duration": 0.038219,
     "end_time": "2021-05-16T11:11:19.529165",
     "exception": false,
     "start_time": "2021-05-16T11:11:19.490946",
     "status": "completed"
    },
    "tags": []
   },
   "outputs": [
    {
     "name": "stdout",
     "output_type": "stream",
     "text": [
      "Outcome: 0 - (0 if non-diabetic, 1 if diabetic)\n",
      "The probability of no disease 72.33%\n",
      "The probability of disease 27.67%\n"
     ]
    }
   ],
   "source": [
    "if None in sample.values():\n",
    "    print(\"Please do not leave any variable with the 'None' value.\")\n",
    "else:\n",
    "    trial = pd.DataFrame.from_dict(data=sample, orient='index').T\n",
    "    print(f\"Outcome: {model.predict(trial)[0]} - (0 if non-diabetic, 1 if diabetic)\")\n",
    "    print(f\"The probability of no disease {model.predict_proba(trial)[0][0]*100:.2f}%\\nThe probability of disease {model.predict_proba(trial)[0][1]*100:.2f}%\")"
   ]
  },
  {
   "cell_type": "code",
   "execution_count": null,
   "metadata": {
    "papermill": {
     "duration": 0.020645,
     "end_time": "2021-05-16T11:11:19.571092",
     "exception": false,
     "start_time": "2021-05-16T11:11:19.550447",
     "status": "completed"
    },
    "tags": []
   },
   "outputs": [],
   "source": []
  }
 ],
 "metadata": {
  "kernelspec": {
   "display_name": "Python 3",
   "language": "python",
   "name": "python3"
  },
  "language_info": {
   "codemirror_mode": {
    "name": "ipython",
    "version": 3
   },
   "file_extension": ".py",
   "mimetype": "text/x-python",
   "name": "python",
   "nbconvert_exporter": "python",
   "pygments_lexer": "ipython3",
   "version": "3.8.5"
  },
  "papermill": {
   "default_parameters": {},
   "duration": 12.648757,
   "end_time": "2021-05-16T11:11:20.503517",
   "environment_variables": {},
   "exception": null,
   "input_path": "__notebook__.ipynb",
   "output_path": "__notebook__.ipynb",
   "parameters": {},
   "start_time": "2021-05-16T11:11:07.854760",
   "version": "2.3.3"
  }
 },
 "nbformat": 4,
 "nbformat_minor": 5
}
