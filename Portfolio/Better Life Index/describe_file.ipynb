{
 "cells": [
  {
   "cell_type": "code",
   "execution_count": 25,
   "metadata": {},
   "outputs": [],
   "source": [
    "descr = [\n",
    "    \"This indicator is defined in terms of the expected earnings loss, measured \\nas the percentage of the previous earnings, associated with unemployment.\",\n",
    "    \"This indicator refers to the percentage of the population living in \\na dwelling without indoor flushing toilet for the sole use of their households.\",\n",
    "    \"This indicator considers the expenditure of households in housing \\nand maintenance of the house (housing, water, electricity, gas and other fuels, \\nfurnishings,households’ equipment and routine maintenance of the house).\",\n",
    "    'The indicator is based on the question: \\n\"Do you feel safe walking alone at night in the city or area where you live?\" \\nand it shows people declaring they feel safe.',\n",
    "    \"It's the maximum amount that a household can afford to consume \\nwithout having to reduce its assets or to increase its liabilities.\",\n",
    "    \"It considers the total wealth: financial and non-financial assets, net of \\nliabilities, held by private households resident in the country. \\nNon-financial assets include the principal residence, other real \\nestate properties, vehicles, valuables and other non-financial assets.\",\n",
    "    \"It is the number of employed persons aged 15 to 64 over the population of the same age. \\nEmployed people are those aged 15 or more who report that they have worked in gainful \\nemployment for at least one hour in the previous week.\",\n",
    "    \"This indicator refers to the number of persons who have been unemployed \\nfor one year or more. Unemployed persons are defined as those who are \\ncurrently not working but are willing to do so and actively searching for work.\",\n",
    "    \"This indicator refers to the average annual wages per full-time equivalent dependent employee. \\nIt considers the employees’ gross remuneration.\",\n",
    "    \"It's a measure of perceived social network support. The indicator is based on the question: \\n“If you were in trouble, do you have relatives or friends you can count on to help you whenever you need them, or not?” \\nand it considers the respondents who respond positively.\",\n",
    "    \"Educational attainment considers the number of adults aged 25 to 64 holding at least \\nan upper secondary degree over the population of the same age\",\n",
    "    \"Students’ average score in reading, mathematics and science \\nas assessed by the OECD’s Programme for International Student Assessment (PISA).\",\n",
    "    \"This indicator is the average duration of education.\",\n",
    "    \"The indicator is the population weighted average of annual concentrations \\nof particulate matters less than 2.5 microns in diameter (PM2.5) in the air.\",\n",
    "    \"The indicator captures people's subjective appreciation of the environment \\nwhere they live, in particular the quality of the water. It is based on the question: \\n'In the city or area where you live, are you satisfied or dissatisfied with the quality of water?' \\nand it considers people who responded they are satisfied.\",\n",
    "    \"Voter turnout is here defined as the ratio between the number of individuals \\nthat cast a ballot during an election (whether this vote is valid or not) \\nto the population registered to vote.\",\n",
    "    \"Life expectancy measures how long on average people could expect \\nto live based on the age-specific death rates currently prevailing.\",\n",
    "    \"This indicator refers to the percentage of the population \\naged 15 years old and over who report “good” or better health.\",\n",
    "    \"The indicator considers people's evaluation of their life as a whole.\",\n",
    "    \"This indicator is measured as the number of homicide deaths per 100,000 people.\",\n",
    "    \"This indicator measures the proportion of dependent employed whose \\nusual hours of work per week are 50 hours or more.\",\n",
    "    \"This indicator measures the amount of hours per day that, on average, \\nfull-time employed people spend on leisure and on personal care activities.\"\n",
    "]"
   ]
  },
  {
   "cell_type": "code",
   "execution_count": 26,
   "metadata": {},
   "outputs": [
    {
     "name": "stdout",
     "output_type": "stream",
     "text": [
      "Stored 'descr' (list)\n"
     ]
    }
   ],
   "source": [
    "%store descr"
   ]
  },
  {
   "cell_type": "code",
   "execution_count": null,
   "metadata": {},
   "outputs": [],
   "source": [
    "Labour market insecurity\"This indicator is defined in terms of t\n",
    "Dwellings without basic facilities\"This indicator refers to the percentage\n",
    "Housing expenditure \"This indicator considers the expenditure \n",
    "Feeling safe walking alone at night'The indicator is based on the question: \n",
    "Household net adjusted disposable income \"It's the maximum amount that a househol\n",
    "Household net wealth\"It considers the total wealth: financia\n",
    "Employment rate\"It is the number of employed persons aged\n",
    "Long-term unemployment rate\"This indicator refers to the number of persons\n",
    "Personal earnings\"This indicator refers to th\n",
    "Quality of support network\"It's a measure of perceived social network suppor\n",
    "Educational attainment\"Educational attainment considers th\n",
    "Student skills\"Students’ average score i\n",
    "Years in education\"This indicator is the averag\n",
    "Air pollution \"The indicator is the populat\n",
    "Water quality\"The indicator captures people\n",
    "Voter turnout\"Voter turnout is here defined as t\n",
    "Life expectancy\"Life expectancy measures how long on average\n",
    "Self-reported health \"This indicator refers to the percentag\n",
    "Life satisfaction\"The indicator consi\n",
    "Homicide rate\"Homicide rate \n",
    "Employees working very long hours\n",
    "Time devoted to leisure and personal care"
   ]
  }
 ],
 "metadata": {
  "kernelspec": {
   "display_name": "Python 3",
   "language": "python",
   "name": "python3"
  },
  "language_info": {
   "codemirror_mode": {
    "name": "ipython",
    "version": 3
   },
   "file_extension": ".py",
   "mimetype": "text/x-python",
   "name": "python",
   "nbconvert_exporter": "python",
   "pygments_lexer": "ipython3",
   "version": "3.8.5"
  }
 },
 "nbformat": 4,
 "nbformat_minor": 4
}
