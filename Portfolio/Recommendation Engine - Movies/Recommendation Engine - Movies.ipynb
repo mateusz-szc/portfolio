{
 "cells":  [
  {
   "cell_type": "markdown",
   "metadata": {},
   "source": [
    "<table align=\"left\">\n",
    "  <td>\n",
    "    <a target=\"_blank\" href=\"https://www.kaggle.com/mateuszszczepanek/recommendation-engine-movies\"><img src=\"https://cdn.iconscout.com/icon/free/png-128/kaggle-3628869-3030009.png\" />Open in Kaggle</a>\n",
    "  </td>\n",
    "</table>"
   ]
  },
  {
   "cell_type": "markdown",
   "metadata": {
    "papermill": {
     "duration": 0.011675,
     "end_time": "2021-05-31T16:53:30.737279",
     "exception": false,
     "start_time": "2021-05-31T16:53:30.725604",
     "status": "completed"
    },
    "tags": []
   },
   "source": [
    "### Importing **modules**"
   ]
  },
  {
   "cell_type": "code",
   "execution_count": 1,
   "metadata": {
    "_cell_guid": "b1076dfc-b9ad-4769-8c92-a6c4dae69d19",
    "_uuid": "8f2839f25d086af736a60e9eeb907d3b93b6e0e5",
    "execution": {
     "iopub.execute_input": "2021-05-31T16:53:30.764707Z",
     "iopub.status.busy": "2021-05-31T16:53:30.763694Z",
     "iopub.status.idle": "2021-05-31T16:53:31.734409Z",
     "shell.execute_reply": "2021-05-31T16:53:31.733615Z",
     "shell.execute_reply.started": "2021-05-31T16:47:53.390755Z"
    },
    "papermill": {
     "duration": 0.986538,
     "end_time": "2021-05-31T16:53:31.734580",
     "exception": false,
     "start_time": "2021-05-31T16:53:30.748042",
     "status": "completed"
    },
    "tags": []
   },
   "outputs": [],
   "source": [
    "import pandas as pd\n",
    "import ast\n",
    "from sklearn.feature_extraction.text import CountVectorizer\n",
    "from sklearn.metrics.pairwise import cosine_similarity\n",
    "\n",
    "import warnings\n",
    "warnings.filterwarnings(\"ignore\")"
   ]
  },
  {
   "cell_type": "markdown",
   "metadata": {
    "papermill": {
     "duration": 0.010495,
     "end_time": "2021-05-31T16:53:31.756529",
     "exception": false,
     "start_time": "2021-05-31T16:53:31.746034",
     "status": "completed"
    },
    "tags": []
   },
   "source": [
    "### Loading **data**"
   ]
  },
  {
   "cell_type": "code",
   "execution_count": 2,
   "metadata": {
    "execution": {
     "iopub.execute_input": "2021-05-31T16:53:31.784671Z",
     "iopub.status.busy": "2021-05-31T16:53:31.783999Z",
     "iopub.status.idle": "2021-05-31T16:53:32.366005Z",
     "shell.execute_reply": "2021-05-31T16:53:32.366484Z",
     "shell.execute_reply.started": "2021-05-31T16:47:53.442335Z"
    },
    "papermill": {
     "duration": 0.597829,
     "end_time": "2021-05-31T16:53:32.366669",
     "exception": false,
     "start_time": "2021-05-31T16:53:31.768840",
     "status": "completed"
    },
    "tags": []
   },
   "outputs": [
    {
     "name": "stdout",
     "output_type": "stream",
     "text": [
      "(4803, 24)\n"
     ]
    },
    {
     "data": {
      "text/html": [
       "<div>\n",
       "<style scoped>\n",
       "    .dataframe tbody tr th:only-of-type {\n",
       "        vertical-align: middle;\n",
       "    }\n",
       "\n",
       "    .dataframe tbody tr th {\n",
       "        vertical-align: top;\n",
       "    }\n",
       "\n",
       "    .dataframe thead th {\n",
       "        text-align: right;\n",
       "    }\n",
       "</style>\n",
       "<table border=\"1\" class=\"dataframe\">\n",
       "  <thead>\n",
       "    <tr style=\"text-align: right;\">\n",
       "      <th></th>\n",
       "      <th>index</th>\n",
       "      <th>budget</th>\n",
       "      <th>genres</th>\n",
       "      <th>homepage</th>\n",
       "      <th>id</th>\n",
       "      <th>keywords</th>\n",
       "      <th>original_language</th>\n",
       "      <th>original_title</th>\n",
       "      <th>overview</th>\n",
       "      <th>popularity</th>\n",
       "      <th>...</th>\n",
       "      <th>runtime</th>\n",
       "      <th>spoken_languages</th>\n",
       "      <th>status</th>\n",
       "      <th>tagline</th>\n",
       "      <th>title</th>\n",
       "      <th>vote_average</th>\n",
       "      <th>vote_count</th>\n",
       "      <th>cast</th>\n",
       "      <th>crew</th>\n",
       "      <th>director</th>\n",
       "    </tr>\n",
       "  </thead>\n",
       "  <tbody>\n",
       "    <tr>\n",
       "      <th>4454</th>\n",
       "      <td>4454</td>\n",
       "      <td>0</td>\n",
       "      <td>Comedy Drama</td>\n",
       "      <td>NaN</td>\n",
       "      <td>11446</td>\n",
       "      <td>parents kids relationship sister sister relati...</td>\n",
       "      <td>en</td>\n",
       "      <td>Welcome to the Dollhouse</td>\n",
       "      <td>An unattractive 7th grader struggles to cope w...</td>\n",
       "      <td>5.870319</td>\n",
       "      <td>...</td>\n",
       "      <td>88.0</td>\n",
       "      <td>[{\"iso_639_1\": \"en\", \"name\": \"English\"}]</td>\n",
       "      <td>Released</td>\n",
       "      <td>Not all girls want to play with dolls.</td>\n",
       "      <td>Welcome to the Dollhouse</td>\n",
       "      <td>6.9</td>\n",
       "      <td>103</td>\n",
       "      <td>Heather Matarazzo Victoria Davis Christina Bru...</td>\n",
       "      <td>[{'name': 'Alan Oxman', 'gender': 2, 'departme...</td>\n",
       "      <td>Todd Solondz</td>\n",
       "    </tr>\n",
       "    <tr>\n",
       "      <th>2313</th>\n",
       "      <td>2313</td>\n",
       "      <td>23000000</td>\n",
       "      <td>Romance Comedy Crime Fantasy</td>\n",
       "      <td>NaN</td>\n",
       "      <td>854</td>\n",
       "      <td>dual identity bank mockery green balloon</td>\n",
       "      <td>en</td>\n",
       "      <td>The Mask</td>\n",
       "      <td>When timid bank clerk Stanley Ipkiss discovers...</td>\n",
       "      <td>85.303180</td>\n",
       "      <td>...</td>\n",
       "      <td>101.0</td>\n",
       "      <td>[{\"iso_639_1\": \"sv\", \"name\": \"svenska\"}, {\"iso...</td>\n",
       "      <td>Released</td>\n",
       "      <td>From zero to hero.</td>\n",
       "      <td>The Mask</td>\n",
       "      <td>6.6</td>\n",
       "      <td>2472</td>\n",
       "      <td>Jim Carrey Cameron Diaz Nancy Fish Tim Bagley ...</td>\n",
       "      <td>[{'name': 'Arthur Coburn', 'gender': 2, 'depar...</td>\n",
       "      <td>Chuck Russell</td>\n",
       "    </tr>\n",
       "    <tr>\n",
       "      <th>2975</th>\n",
       "      <td>2975</td>\n",
       "      <td>10000000</td>\n",
       "      <td>Drama</td>\n",
       "      <td>http://www.miramax.com/movie/good-will-hunting</td>\n",
       "      <td>489</td>\n",
       "      <td>baseball boston professor m.i.t. harvard unive...</td>\n",
       "      <td>en</td>\n",
       "      <td>Good Will Hunting</td>\n",
       "      <td>Will Hunting has a genius-level IQ but chooses...</td>\n",
       "      <td>43.734886</td>\n",
       "      <td>...</td>\n",
       "      <td>126.0</td>\n",
       "      <td>[{\"iso_639_1\": \"en\", \"name\": \"English\"}]</td>\n",
       "      <td>Released</td>\n",
       "      <td>Some people can never believe in themselves, u...</td>\n",
       "      <td>Good Will Hunting</td>\n",
       "      <td>7.9</td>\n",
       "      <td>2811</td>\n",
       "      <td>Robin Williams Matt Damon Ben Affleck Stellan ...</td>\n",
       "      <td>[{'name': 'Lawrence Bender', 'gender': 2, 'dep...</td>\n",
       "      <td>Gus Van Sant</td>\n",
       "    </tr>\n",
       "  </tbody>\n",
       "</table>\n",
       "<p>3 rows × 24 columns</p>\n",
       "</div>"
      ],
      "text/plain": [
       "      index    budget                        genres  \\\n",
       "4454   4454         0                  Comedy Drama   \n",
       "2313   2313  23000000  Romance Comedy Crime Fantasy   \n",
       "2975   2975  10000000                         Drama   \n",
       "\n",
       "                                            homepage     id  \\\n",
       "4454                                             NaN  11446   \n",
       "2313                                             NaN    854   \n",
       "2975  http://www.miramax.com/movie/good-will-hunting    489   \n",
       "\n",
       "                                               keywords original_language  \\\n",
       "4454  parents kids relationship sister sister relati...                en   \n",
       "2313           dual identity bank mockery green balloon                en   \n",
       "2975  baseball boston professor m.i.t. harvard unive...                en   \n",
       "\n",
       "                original_title  \\\n",
       "4454  Welcome to the Dollhouse   \n",
       "2313                  The Mask   \n",
       "2975         Good Will Hunting   \n",
       "\n",
       "                                               overview  popularity  ...  \\\n",
       "4454  An unattractive 7th grader struggles to cope w...    5.870319  ...   \n",
       "2313  When timid bank clerk Stanley Ipkiss discovers...   85.303180  ...   \n",
       "2975  Will Hunting has a genius-level IQ but chooses...   43.734886  ...   \n",
       "\n",
       "     runtime                                   spoken_languages    status  \\\n",
       "4454    88.0           [{\"iso_639_1\": \"en\", \"name\": \"English\"}]  Released   \n",
       "2313   101.0  [{\"iso_639_1\": \"sv\", \"name\": \"svenska\"}, {\"iso...  Released   \n",
       "2975   126.0           [{\"iso_639_1\": \"en\", \"name\": \"English\"}]  Released   \n",
       "\n",
       "                                                tagline  \\\n",
       "4454             Not all girls want to play with dolls.   \n",
       "2313                                 From zero to hero.   \n",
       "2975  Some people can never believe in themselves, u...   \n",
       "\n",
       "                         title vote_average vote_count  \\\n",
       "4454  Welcome to the Dollhouse          6.9        103   \n",
       "2313                  The Mask          6.6       2472   \n",
       "2975         Good Will Hunting          7.9       2811   \n",
       "\n",
       "                                                   cast  \\\n",
       "4454  Heather Matarazzo Victoria Davis Christina Bru...   \n",
       "2313  Jim Carrey Cameron Diaz Nancy Fish Tim Bagley ...   \n",
       "2975  Robin Williams Matt Damon Ben Affleck Stellan ...   \n",
       "\n",
       "                                                   crew       director  \n",
       "4454  [{'name': 'Alan Oxman', 'gender': 2, 'departme...   Todd Solondz  \n",
       "2313  [{'name': 'Arthur Coburn', 'gender': 2, 'depar...  Chuck Russell  \n",
       "2975  [{'name': 'Lawrence Bender', 'gender': 2, 'dep...   Gus Van Sant  \n",
       "\n",
       "[3 rows x 24 columns]"
      ]
     },
     "execution_count": 2,
     "metadata": {},
     "output_type": "execute_result"
    }
   ],
   "source": [
    "movies_dataset = pd.read_csv(\"../input/movie-dataset/movie_dataset.csv\")\n",
    "print(movies_dataset.shape)\n",
    "movies_dataset.sample(3)"
   ]
  },
  {
   "cell_type": "markdown",
   "metadata": {
    "papermill": {
     "duration": 0.010879,
     "end_time": "2021-05-31T16:53:32.388935",
     "exception": false,
     "start_time": "2021-05-31T16:53:32.378056",
     "status": "completed"
    },
    "tags": []
   },
   "source": [
    "### Taking only **needed features**"
   ]
  },
  {
   "cell_type": "code",
   "execution_count": 3,
   "metadata": {
    "execution": {
     "iopub.execute_input": "2021-05-31T16:53:32.424609Z",
     "iopub.status.busy": "2021-05-31T16:53:32.423780Z",
     "iopub.status.idle": "2021-05-31T16:53:32.428151Z",
     "shell.execute_reply": "2021-05-31T16:53:32.427705Z",
     "shell.execute_reply.started": "2021-05-31T16:47:54.262923Z"
    },
    "papermill": {
     "duration": 0.028208,
     "end_time": "2021-05-31T16:53:32.428284",
     "exception": false,
     "start_time": "2021-05-31T16:53:32.400076",
     "status": "completed"
    },
    "tags": []
   },
   "outputs": [
    {
     "data": {
      "text/html": [
       "<div>\n",
       "<style scoped>\n",
       "    .dataframe tbody tr th:only-of-type {\n",
       "        vertical-align: middle;\n",
       "    }\n",
       "\n",
       "    .dataframe tbody tr th {\n",
       "        vertical-align: top;\n",
       "    }\n",
       "\n",
       "    .dataframe thead th {\n",
       "        text-align: right;\n",
       "    }\n",
       "</style>\n",
       "<table border=\"1\" class=\"dataframe\">\n",
       "  <thead>\n",
       "    <tr style=\"text-align: right;\">\n",
       "      <th></th>\n",
       "      <th>419</th>\n",
       "    </tr>\n",
       "  </thead>\n",
       "  <tbody>\n",
       "    <tr>\n",
       "      <th>index</th>\n",
       "      <td>419</td>\n",
       "    </tr>\n",
       "    <tr>\n",
       "      <th>budget</th>\n",
       "      <td>85000000</td>\n",
       "    </tr>\n",
       "    <tr>\n",
       "      <th>genres</th>\n",
       "      <td>Adventure Fantasy Science Fiction</td>\n",
       "    </tr>\n",
       "    <tr>\n",
       "      <th>homepage</th>\n",
       "      <td>http://www.fox.co.uk/jumper</td>\n",
       "    </tr>\n",
       "    <tr>\n",
       "      <th>id</th>\n",
       "      <td>8247</td>\n",
       "    </tr>\n",
       "    <tr>\n",
       "      <th>keywords</th>\n",
       "      <td>adolescence based on novel loss of child fight...</td>\n",
       "    </tr>\n",
       "    <tr>\n",
       "      <th>original_language</th>\n",
       "      <td>en</td>\n",
       "    </tr>\n",
       "    <tr>\n",
       "      <th>original_title</th>\n",
       "      <td>Jumper</td>\n",
       "    </tr>\n",
       "    <tr>\n",
       "      <th>overview</th>\n",
       "      <td>David Rice is a man who knows no boundaries, a...</td>\n",
       "    </tr>\n",
       "    <tr>\n",
       "      <th>popularity</th>\n",
       "      <td>21.218</td>\n",
       "    </tr>\n",
       "    <tr>\n",
       "      <th>production_companies</th>\n",
       "      <td>[{\"name\": \"Dune Entertainment\", \"id\": 444}, {\"...</td>\n",
       "    </tr>\n",
       "    <tr>\n",
       "      <th>production_countries</th>\n",
       "      <td>[{\"iso_3166_1\": \"CA\", \"name\": \"Canada\"}, {\"iso...</td>\n",
       "    </tr>\n",
       "    <tr>\n",
       "      <th>release_date</th>\n",
       "      <td>2008-02-10</td>\n",
       "    </tr>\n",
       "    <tr>\n",
       "      <th>revenue</th>\n",
       "      <td>222231186</td>\n",
       "    </tr>\n",
       "    <tr>\n",
       "      <th>runtime</th>\n",
       "      <td>88.0</td>\n",
       "    </tr>\n",
       "    <tr>\n",
       "      <th>spoken_languages</th>\n",
       "      <td>[{\"iso_639_1\": \"fr\", \"name\": \"Fran\\u00e7ais\"}]</td>\n",
       "    </tr>\n",
       "    <tr>\n",
       "      <th>status</th>\n",
       "      <td>Released</td>\n",
       "    </tr>\n",
       "    <tr>\n",
       "      <th>tagline</th>\n",
       "      <td>anywhere is possible.</td>\n",
       "    </tr>\n",
       "    <tr>\n",
       "      <th>title</th>\n",
       "      <td>Jumper</td>\n",
       "    </tr>\n",
       "    <tr>\n",
       "      <th>vote_average</th>\n",
       "      <td>5.9</td>\n",
       "    </tr>\n",
       "    <tr>\n",
       "      <th>vote_count</th>\n",
       "      <td>1799</td>\n",
       "    </tr>\n",
       "    <tr>\n",
       "      <th>cast</th>\n",
       "      <td>Hayden Christensen Jamie Bell Samuel L. Jackso...</td>\n",
       "    </tr>\n",
       "    <tr>\n",
       "      <th>crew</th>\n",
       "      <td>[{'name': 'Arnon Milchan', 'gender': 2, 'depar...</td>\n",
       "    </tr>\n",
       "    <tr>\n",
       "      <th>director</th>\n",
       "      <td>Doug Liman</td>\n",
       "    </tr>\n",
       "  </tbody>\n",
       "</table>\n",
       "</div>"
      ],
      "text/plain": [
       "                                                                    419\n",
       "index                                                               419\n",
       "budget                                                         85000000\n",
       "genres                                Adventure Fantasy Science Fiction\n",
       "homepage                                    http://www.fox.co.uk/jumper\n",
       "id                                                                 8247\n",
       "keywords              adolescence based on novel loss of child fight...\n",
       "original_language                                                    en\n",
       "original_title                                                   Jumper\n",
       "overview              David Rice is a man who knows no boundaries, a...\n",
       "popularity                                                       21.218\n",
       "production_companies  [{\"name\": \"Dune Entertainment\", \"id\": 444}, {\"...\n",
       "production_countries  [{\"iso_3166_1\": \"CA\", \"name\": \"Canada\"}, {\"iso...\n",
       "release_date                                                 2008-02-10\n",
       "revenue                                                       222231186\n",
       "runtime                                                            88.0\n",
       "spoken_languages         [{\"iso_639_1\": \"fr\", \"name\": \"Fran\\u00e7ais\"}]\n",
       "status                                                         Released\n",
       "tagline                                           anywhere is possible.\n",
       "title                                                            Jumper\n",
       "vote_average                                                        5.9\n",
       "vote_count                                                         1799\n",
       "cast                  Hayden Christensen Jamie Bell Samuel L. Jackso...\n",
       "crew                  [{'name': 'Arnon Milchan', 'gender': 2, 'depar...\n",
       "director                                                     Doug Liman"
      ]
     },
     "execution_count": 3,
     "metadata": {},
     "output_type": "execute_result"
    }
   ],
   "source": [
    "movies_dataset.sample(1).T"
   ]
  },
  {
   "cell_type": "code",
   "execution_count": 4,
   "metadata": {
    "execution": {
     "iopub.execute_input": "2021-05-31T16:53:32.462226Z",
     "iopub.status.busy": "2021-05-31T16:53:32.461173Z",
     "iopub.status.idle": "2021-05-31T16:53:32.473902Z",
     "shell.execute_reply": "2021-05-31T16:53:32.473409Z",
     "shell.execute_reply.started": "2021-05-31T16:47:54.283940Z"
    },
    "papermill": {
     "duration": 0.034149,
     "end_time": "2021-05-31T16:53:32.474030",
     "exception": false,
     "start_time": "2021-05-31T16:53:32.439881",
     "status": "completed"
    },
    "tags": []
   },
   "outputs": [
    {
     "data": {
      "text/html": [
       "<div>\n",
       "<style scoped>\n",
       "    .dataframe tbody tr th:only-of-type {\n",
       "        vertical-align: middle;\n",
       "    }\n",
       "\n",
       "    .dataframe tbody tr th {\n",
       "        vertical-align: top;\n",
       "    }\n",
       "\n",
       "    .dataframe thead th {\n",
       "        text-align: right;\n",
       "    }\n",
       "</style>\n",
       "<table border=\"1\" class=\"dataframe\">\n",
       "  <thead>\n",
       "    <tr style=\"text-align: right;\">\n",
       "      <th></th>\n",
       "      <th>genres</th>\n",
       "      <th>keywords</th>\n",
       "      <th>production_companies</th>\n",
       "      <th>title</th>\n",
       "      <th>cast</th>\n",
       "      <th>crew</th>\n",
       "      <th>director</th>\n",
       "    </tr>\n",
       "  </thead>\n",
       "  <tbody>\n",
       "    <tr>\n",
       "      <th>0</th>\n",
       "      <td>Action Adventure Fantasy Science Fiction</td>\n",
       "      <td>culture clash future space war space colony so...</td>\n",
       "      <td>[{\"name\": \"Ingenious Film Partners\", \"id\": 289...</td>\n",
       "      <td>Avatar</td>\n",
       "      <td>Sam Worthington Zoe Saldana Sigourney Weaver S...</td>\n",
       "      <td>[{'name': 'Stephen E. Rivkin', 'gender': 0, 'd...</td>\n",
       "      <td>James Cameron</td>\n",
       "    </tr>\n",
       "    <tr>\n",
       "      <th>1</th>\n",
       "      <td>Adventure Fantasy Action</td>\n",
       "      <td>ocean drug abuse exotic island east india trad...</td>\n",
       "      <td>[{\"name\": \"Walt Disney Pictures\", \"id\": 2}, {\"...</td>\n",
       "      <td>Pirates of the Caribbean: At World's End</td>\n",
       "      <td>Johnny Depp Orlando Bloom Keira Knightley Stel...</td>\n",
       "      <td>[{'name': 'Dariusz Wolski', 'gender': 2, 'depa...</td>\n",
       "      <td>Gore Verbinski</td>\n",
       "    </tr>\n",
       "    <tr>\n",
       "      <th>2</th>\n",
       "      <td>Action Adventure Crime</td>\n",
       "      <td>spy based on novel secret agent sequel mi6</td>\n",
       "      <td>[{\"name\": \"Columbia Pictures\", \"id\": 5}, {\"nam...</td>\n",
       "      <td>Spectre</td>\n",
       "      <td>Daniel Craig Christoph Waltz L\\u00e9a Seydoux ...</td>\n",
       "      <td>[{'name': 'Thomas Newman', 'gender': 2, 'depar...</td>\n",
       "      <td>Sam Mendes</td>\n",
       "    </tr>\n",
       "    <tr>\n",
       "      <th>3</th>\n",
       "      <td>Action Crime Drama Thriller</td>\n",
       "      <td>dc comics crime fighter terrorist secret ident...</td>\n",
       "      <td>[{\"name\": \"Legendary Pictures\", \"id\": 923}, {\"...</td>\n",
       "      <td>The Dark Knight Rises</td>\n",
       "      <td>Christian Bale Michael Caine Gary Oldman Anne ...</td>\n",
       "      <td>[{'name': 'Hans Zimmer', 'gender': 2, 'departm...</td>\n",
       "      <td>Christopher Nolan</td>\n",
       "    </tr>\n",
       "  </tbody>\n",
       "</table>\n",
       "</div>"
      ],
      "text/plain": [
       "                                     genres  \\\n",
       "0  Action Adventure Fantasy Science Fiction   \n",
       "1                  Adventure Fantasy Action   \n",
       "2                    Action Adventure Crime   \n",
       "3               Action Crime Drama Thriller   \n",
       "\n",
       "                                            keywords  \\\n",
       "0  culture clash future space war space colony so...   \n",
       "1  ocean drug abuse exotic island east india trad...   \n",
       "2         spy based on novel secret agent sequel mi6   \n",
       "3  dc comics crime fighter terrorist secret ident...   \n",
       "\n",
       "                                production_companies  \\\n",
       "0  [{\"name\": \"Ingenious Film Partners\", \"id\": 289...   \n",
       "1  [{\"name\": \"Walt Disney Pictures\", \"id\": 2}, {\"...   \n",
       "2  [{\"name\": \"Columbia Pictures\", \"id\": 5}, {\"nam...   \n",
       "3  [{\"name\": \"Legendary Pictures\", \"id\": 923}, {\"...   \n",
       "\n",
       "                                      title  \\\n",
       "0                                    Avatar   \n",
       "1  Pirates of the Caribbean: At World's End   \n",
       "2                                   Spectre   \n",
       "3                     The Dark Knight Rises   \n",
       "\n",
       "                                                cast  \\\n",
       "0  Sam Worthington Zoe Saldana Sigourney Weaver S...   \n",
       "1  Johnny Depp Orlando Bloom Keira Knightley Stel...   \n",
       "2  Daniel Craig Christoph Waltz L\\u00e9a Seydoux ...   \n",
       "3  Christian Bale Michael Caine Gary Oldman Anne ...   \n",
       "\n",
       "                                                crew           director  \n",
       "0  [{'name': 'Stephen E. Rivkin', 'gender': 0, 'd...      James Cameron  \n",
       "1  [{'name': 'Dariusz Wolski', 'gender': 2, 'depa...     Gore Verbinski  \n",
       "2  [{'name': 'Thomas Newman', 'gender': 2, 'depar...         Sam Mendes  \n",
       "3  [{'name': 'Hans Zimmer', 'gender': 2, 'departm...  Christopher Nolan  "
      ]
     },
     "execution_count": 4,
     "metadata": {},
     "output_type": "execute_result"
    }
   ],
   "source": [
    "movies_dataset = movies_dataset[[\"genres\", \"keywords\", \"production_companies\",  \"title\", \"cast\", \"crew\", \"director\"]]\n",
    "movies_dataset.head(4)"
   ]
  },
  {
   "cell_type": "code",
   "execution_count": 5,
   "metadata": {
    "execution": {
     "iopub.execute_input": "2021-05-31T16:53:32.506499Z",
     "iopub.status.busy": "2021-05-31T16:53:32.501759Z",
     "iopub.status.idle": "2021-05-31T16:53:32.510912Z",
     "shell.execute_reply": "2021-05-31T16:53:32.510445Z",
     "shell.execute_reply.started": "2021-05-31T16:47:54.307268Z"
    },
    "papermill": {
     "duration": 0.024857,
     "end_time": "2021-05-31T16:53:32.511037",
     "exception": false,
     "start_time": "2021-05-31T16:53:32.486180",
     "status": "completed"
    },
    "tags": []
   },
   "outputs": [
    {
     "data": {
      "text/plain": [
       "(4803, 7)"
      ]
     },
     "execution_count": 5,
     "metadata": {},
     "output_type": "execute_result"
    }
   ],
   "source": [
    "df = movies_dataset.copy()\n",
    "df.fillna(\"\", inplace=True)\n",
    "df.shape"
   ]
  },
  {
   "cell_type": "markdown",
   "metadata": {
    "papermill": {
     "duration": 0.012525,
     "end_time": "2021-05-31T16:53:32.536118",
     "exception": false,
     "start_time": "2021-05-31T16:53:32.523593",
     "status": "completed"
    },
    "tags": []
   },
   "source": [
    "### Preparing **final dataframe**"
   ]
  },
  {
   "cell_type": "code",
   "execution_count": 6,
   "metadata": {
    "execution": {
     "iopub.execute_input": "2021-05-31T16:53:32.568694Z",
     "iopub.status.busy": "2021-05-31T16:53:32.567893Z",
     "iopub.status.idle": "2021-05-31T16:53:32.699123Z",
     "shell.execute_reply": "2021-05-31T16:53:32.698468Z",
     "shell.execute_reply.started": "2021-05-31T16:47:54.323236Z"
    },
    "papermill": {
     "duration": 0.151002,
     "end_time": "2021-05-31T16:53:32.699256",
     "exception": false,
     "start_time": "2021-05-31T16:53:32.548254",
     "status": "completed"
    },
    "tags": []
   },
   "outputs": [],
   "source": [
    "# Creating a list of indexes of untitled movies and removing them\n",
    "no_title = [n for n, b in enumerate(df.title.isna()) if b]\n",
    "df.drop(no_title, inplace=True)\n",
    "\n",
    "# Removing movies with insufficient information\n",
    "# ( with empty columns: \"genres\", \"cast\", \"keyword\")\n",
    "index_to_drop = [n for n in range(df.shape[0]) if len(df.genres[n] + df.cast[n] + df.keywords[n]) == 6]\n",
    "df.drop(index=index_to_drop, inplace=True)"
   ]
  },
  {
   "cell_type": "markdown",
   "metadata": {
    "papermill": {
     "duration": 0.012219,
     "end_time": "2021-05-31T16:53:32.723555",
     "exception": false,
     "start_time": "2021-05-31T16:53:32.711336",
     "status": "completed"
    },
    "tags": []
   },
   "source": [
    "### *Before changing* (selected movie - **\"Tangled\"**)"
   ]
  },
  {
   "cell_type": "markdown",
   "metadata": {
    "papermill": {
     "duration": 0.012365,
     "end_time": "2021-05-31T16:53:32.748258",
     "exception": false,
     "start_time": "2021-05-31T16:53:32.735893",
     "status": "completed"
    },
    "tags": []
   },
   "source": [
    "<table align=\"center\">\n",
    "  <td>\n",
    "    <a href=\"https://www.google.com/search?q=tangled&rlz=1C1PNBB_enPL948PL948&sxsrf=ALeKk02ogGb6JvWLCYM93OTV1kmAIuscpQ%3A1622478148580&ei=RA21YPL5IuyhrgTf3rX4Cg&oq=tangled&gs_lcp=Cgdnd3Mtd2l6EAMyBAgjECcyBAgjECcyAgguMgQILhBDMgIIADIECAAQQzICCAAyBAgAEEMyAggAMgIILjoHCAAQRxCwAzoHCAAQsAMQQzoKCC4QsAMQyAMQQ0oFCDgSATFQ5RRY8hVg-xdoAXACeACAAVuIAYECkgEBM5gBAKABAaoBB2d3cy13aXrIAQvAAQE&sclient=gws-wiz&ved=0ahUKEwjyq86NqvTwAhXskIsKHV9vDa8Q4dUDCA4&uact=5\"><img src=\"https://ae01.alicdn.com/kf/HTB1vUoCKpXXXXaUXXXXq6xXFXXXG/Free-shipping-Rapunzel-Flynn-in-Tangled-Movie-Poster-HD-HOME-WALL-Decor-Custom-ART-PRINT-Silk.jpg\" /></a>\n",
    "  </td>\n",
    "</table>"
   ]
  },
  {
   "cell_type": "code",
   "execution_count": 7,
   "metadata": {
    "execution": {
     "iopub.execute_input": "2021-05-31T16:53:32.785255Z",
     "iopub.status.busy": "2021-05-31T16:53:32.784257Z",
     "iopub.status.idle": "2021-05-31T16:53:32.788506Z",
     "shell.execute_reply": "2021-05-31T16:53:32.788015Z",
     "shell.execute_reply.started": "2021-05-31T16:47:54.541079Z"
    },
    "papermill": {
     "duration": 0.02792,
     "end_time": "2021-05-31T16:53:32.788947",
     "exception": false,
     "start_time": "2021-05-31T16:53:32.761027",
     "status": "completed"
    },
    "tags": []
   },
   "outputs": [
    {
     "data": {
      "text/html": [
       "<div>\n",
       "<style scoped>\n",
       "    .dataframe tbody tr th:only-of-type {\n",
       "        vertical-align: middle;\n",
       "    }\n",
       "\n",
       "    .dataframe tbody tr th {\n",
       "        vertical-align: top;\n",
       "    }\n",
       "\n",
       "    .dataframe thead th {\n",
       "        text-align: right;\n",
       "    }\n",
       "</style>\n",
       "<table border=\"1\" class=\"dataframe\">\n",
       "  <thead>\n",
       "    <tr style=\"text-align: right;\">\n",
       "      <th></th>\n",
       "      <th>6</th>\n",
       "    </tr>\n",
       "  </thead>\n",
       "  <tbody>\n",
       "    <tr>\n",
       "      <th>genres</th>\n",
       "      <td>Animation Family</td>\n",
       "    </tr>\n",
       "    <tr>\n",
       "      <th>keywords</th>\n",
       "      <td>hostage magic horse fairy tale musical</td>\n",
       "    </tr>\n",
       "    <tr>\n",
       "      <th>production_companies</th>\n",
       "      <td>[{\"name\": \"Walt Disney Pictures\", \"id\": 2}, {\"name\": \"Walt Disney Animation Studios\", \"id\": 6125}]</td>\n",
       "    </tr>\n",
       "    <tr>\n",
       "      <th>title</th>\n",
       "      <td>Tangled</td>\n",
       "    </tr>\n",
       "    <tr>\n",
       "      <th>cast</th>\n",
       "      <td>Zachary Levi Mandy Moore Donna Murphy Ron Perlman M.C. Gainey</td>\n",
       "    </tr>\n",
       "    <tr>\n",
       "      <th>crew</th>\n",
       "      <td>[{'name': 'John Lasseter', 'gender': 2, 'department': 'Production', 'job': 'Executive Producer', 'credit_id': '52fe46db9251416c91062101', 'id': 7879}, {'name': 'Jacob Grimm', 'gender': 2, 'department': 'Writing', 'job': 'Novel', 'credit_id': '52fe46db9251416c910620e3', 'id': 38748}, {'name': 'Wilhelm Grimm', 'gender': 2, 'department': 'Writing', 'job': 'Novel', 'credit_id': '52fe46db9251416c910620dd', 'id': 5448}, {'name': 'John Kahrs', 'gender': 0, 'department': 'Visual Effects', 'job': 'An...</td>\n",
       "    </tr>\n",
       "    <tr>\n",
       "      <th>director</th>\n",
       "      <td>Byron Howard</td>\n",
       "    </tr>\n",
       "  </tbody>\n",
       "</table>\n",
       "</div>"
      ],
      "text/plain": [
       "                                                                                                                                                                                                                                                                                                                                                                                                                                                                                                                                        6\n",
       "genres                                                                                                                                                                                                                                                                                                                                                                                                                                                                                                                   Animation Family\n",
       "keywords                                                                                                                                                                                                                                                                                                                                                                                                                                                                                           hostage magic horse fairy tale musical\n",
       "production_companies                                                                                                                                                                                                                                                                                                                                                                                                                   [{\"name\": \"Walt Disney Pictures\", \"id\": 2}, {\"name\": \"Walt Disney Animation Studios\", \"id\": 6125}]\n",
       "title                                                                                                                                                                                                                                                                                                                                                                                                                                                                                                                             Tangled\n",
       "cast                                                                                                                                                                                                                                                                                                                                                                                                                                                                        Zachary Levi Mandy Moore Donna Murphy Ron Perlman M.C. Gainey\n",
       "crew                  [{'name': 'John Lasseter', 'gender': 2, 'department': 'Production', 'job': 'Executive Producer', 'credit_id': '52fe46db9251416c91062101', 'id': 7879}, {'name': 'Jacob Grimm', 'gender': 2, 'department': 'Writing', 'job': 'Novel', 'credit_id': '52fe46db9251416c910620e3', 'id': 38748}, {'name': 'Wilhelm Grimm', 'gender': 2, 'department': 'Writing', 'job': 'Novel', 'credit_id': '52fe46db9251416c910620dd', 'id': 5448}, {'name': 'John Kahrs', 'gender': 0, 'department': 'Visual Effects', 'job': 'An...\n",
       "director                                                                                                                                                                                                                                                                                                                                                                                                                                                                                                                     Byron Howard"
      ]
     },
     "execution_count": 7,
     "metadata": {},
     "output_type": "execute_result"
    }
   ],
   "source": [
    "TITLE = \"Tangled\"\n",
    "\n",
    "pd.set_option('max_colwidth', 500)\n",
    "df[df.title == TITLE].T"
   ]
  },
  {
   "cell_type": "code",
   "execution_count": 8,
   "metadata": {
    "execution": {
     "iopub.execute_input": "2021-05-31T16:53:32.833778Z",
     "iopub.status.busy": "2021-05-31T16:53:32.828147Z",
     "iopub.status.idle": "2021-05-31T16:53:36.179122Z",
     "shell.execute_reply": "2021-05-31T16:53:36.178475Z",
     "shell.execute_reply.started": "2021-05-31T16:47:54.557880Z"
    },
    "papermill": {
     "duration": 3.375615,
     "end_time": "2021-05-31T16:53:36.179276",
     "exception": false,
     "start_time": "2021-05-31T16:53:32.803661",
     "status": "completed"
    },
    "tags": []
   },
   "outputs": [],
   "source": [
    "def change(row):    \n",
    "    txt = \"\"\n",
    "    for n in range(len(row)):\n",
    "        txt += f\"{row[n]['name']} \"\n",
    "    return txt  \n",
    "\n",
    "def change_crew(row):\n",
    "    txt = \"\"\n",
    "    r = 3 if len(row) > 3 else len(row)\n",
    "    for i in range(r):\n",
    "        txt += f\"{row[i]['name']} \"  \n",
    "    return txt\n",
    "\n",
    "\n",
    "# Taking only \"name\" values from each column and row\n",
    "df[\"production_companies\"] = df[\"production_companies\"].apply(lambda x: ast.literal_eval(x))\n",
    "df[\"production_companies\"] = df[\"production_companies\"].apply(change)                                                       \n",
    "\n",
    "df[\"crew\"] = df[\"crew\"].apply(lambda x: ast.literal_eval(x))\n",
    "df[\"crew\"] = df[\"crew\"].apply(change_crew)"
   ]
  },
  {
   "cell_type": "markdown",
   "metadata": {
    "papermill": {
     "duration": 0.013178,
     "end_time": "2021-05-31T16:53:36.205381",
     "exception": false,
     "start_time": "2021-05-31T16:53:36.192203",
     "status": "completed"
    },
    "tags": []
   },
   "source": [
    "### _After changing_\n"
   ]
  },
  {
   "cell_type": "code",
   "execution_count": 9,
   "metadata": {
    "execution": {
     "iopub.execute_input": "2021-05-31T16:53:36.240056Z",
     "iopub.status.busy": "2021-05-31T16:53:36.239313Z",
     "iopub.status.idle": "2021-05-31T16:53:36.243423Z",
     "shell.execute_reply": "2021-05-31T16:53:36.242995Z",
     "shell.execute_reply.started": "2021-05-31T16:47:58.768787Z"
    },
    "papermill": {
     "duration": 0.02556,
     "end_time": "2021-05-31T16:53:36.243567",
     "exception": false,
     "start_time": "2021-05-31T16:53:36.218007",
     "status": "completed"
    },
    "tags": []
   },
   "outputs": [
    {
     "data": {
      "text/html": [
       "<div>\n",
       "<style scoped>\n",
       "    .dataframe tbody tr th:only-of-type {\n",
       "        vertical-align: middle;\n",
       "    }\n",
       "\n",
       "    .dataframe tbody tr th {\n",
       "        vertical-align: top;\n",
       "    }\n",
       "\n",
       "    .dataframe thead th {\n",
       "        text-align: right;\n",
       "    }\n",
       "</style>\n",
       "<table border=\"1\" class=\"dataframe\">\n",
       "  <thead>\n",
       "    <tr style=\"text-align: right;\">\n",
       "      <th></th>\n",
       "      <th>6</th>\n",
       "    </tr>\n",
       "  </thead>\n",
       "  <tbody>\n",
       "    <tr>\n",
       "      <th>genres</th>\n",
       "      <td>Animation Family</td>\n",
       "    </tr>\n",
       "    <tr>\n",
       "      <th>keywords</th>\n",
       "      <td>hostage magic horse fairy tale musical</td>\n",
       "    </tr>\n",
       "    <tr>\n",
       "      <th>production_companies</th>\n",
       "      <td>Walt Disney Pictures Walt Disney Animation Studios</td>\n",
       "    </tr>\n",
       "    <tr>\n",
       "      <th>title</th>\n",
       "      <td>Tangled</td>\n",
       "    </tr>\n",
       "    <tr>\n",
       "      <th>cast</th>\n",
       "      <td>Zachary Levi Mandy Moore Donna Murphy Ron Perlman M.C. Gainey</td>\n",
       "    </tr>\n",
       "    <tr>\n",
       "      <th>crew</th>\n",
       "      <td>John Lasseter Jacob Grimm Wilhelm Grimm</td>\n",
       "    </tr>\n",
       "    <tr>\n",
       "      <th>director</th>\n",
       "      <td>Byron Howard</td>\n",
       "    </tr>\n",
       "  </tbody>\n",
       "</table>\n",
       "</div>"
      ],
      "text/plain": [
       "                                                                                  6\n",
       "genres                                                             Animation Family\n",
       "keywords                                     hostage magic horse fairy tale musical\n",
       "production_companies            Walt Disney Pictures Walt Disney Animation Studios \n",
       "title                                                                       Tangled\n",
       "cast                  Zachary Levi Mandy Moore Donna Murphy Ron Perlman M.C. Gainey\n",
       "crew                                       John Lasseter Jacob Grimm Wilhelm Grimm \n",
       "director                                                               Byron Howard"
      ]
     },
     "execution_count": 9,
     "metadata": {},
     "output_type": "execute_result"
    }
   ],
   "source": [
    "df[df.title == TITLE].T"
   ]
  },
  {
   "cell_type": "code",
   "execution_count": 10,
   "metadata": {
    "execution": {
     "iopub.execute_input": "2021-05-31T16:53:36.275895Z",
     "iopub.status.busy": "2021-05-31T16:53:36.275289Z",
     "iopub.status.idle": "2021-05-31T16:53:36.320442Z",
     "shell.execute_reply": "2021-05-31T16:53:36.319873Z",
     "shell.execute_reply.started": "2021-05-31T16:47:58.785675Z"
    },
    "papermill": {
     "duration": 0.063318,
     "end_time": "2021-05-31T16:53:36.320572",
     "exception": false,
     "start_time": "2021-05-31T16:53:36.257254",
     "status": "completed"
    },
    "tags": []
   },
   "outputs": [
    {
     "data": {
      "text/html": [
       "<div>\n",
       "<style scoped>\n",
       "    .dataframe tbody tr th:only-of-type {\n",
       "        vertical-align: middle;\n",
       "    }\n",
       "\n",
       "    .dataframe tbody tr th {\n",
       "        vertical-align: top;\n",
       "    }\n",
       "\n",
       "    .dataframe thead th {\n",
       "        text-align: right;\n",
       "    }\n",
       "</style>\n",
       "<table border=\"1\" class=\"dataframe\">\n",
       "  <thead>\n",
       "    <tr style=\"text-align: right;\">\n",
       "      <th></th>\n",
       "      <th>genres</th>\n",
       "      <th>keywords</th>\n",
       "      <th>production_companies</th>\n",
       "      <th>title</th>\n",
       "      <th>cast</th>\n",
       "      <th>crew</th>\n",
       "      <th>director</th>\n",
       "      <th>recommend</th>\n",
       "    </tr>\n",
       "  </thead>\n",
       "  <tbody>\n",
       "    <tr>\n",
       "      <th>6</th>\n",
       "      <td>Animation Family</td>\n",
       "      <td>hostage magic horse fairy tale musical</td>\n",
       "      <td>Walt Disney Pictures Walt Disney Animation Studios</td>\n",
       "      <td>Tangled</td>\n",
       "      <td>Zachary Levi Mandy Moore Donna Murphy Ron Perlman M.C. Gainey</td>\n",
       "      <td>John Lasseter Jacob Grimm Wilhelm Grimm</td>\n",
       "      <td>Byron Howard</td>\n",
       "      <td>Animation Family hostage magic horse fairy tale musical Walt Disney Pictures Walt Disney Animation Studios  Tangled Zachary Levi Mandy Moore Donna Murphy Ron Perlman M.C. Gainey John Lasseter Jacob Grimm Wilhelm Grimm  Byron Howard Animation Family hostage magic horse fairy tale musical Walt Disney Pictures Walt Disney Animation Studios  Tangled Zachary Levi Mandy Moore Donna Murphy Ron Perlman M.C. Gainey John Lasseter Jacob Grimm Wilhelm Grimm  Byron Howard</td>\n",
       "    </tr>\n",
       "  </tbody>\n",
       "</table>\n",
       "</div>"
      ],
      "text/plain": [
       "             genres                                keywords  \\\n",
       "6  Animation Family  hostage magic horse fairy tale musical   \n",
       "\n",
       "                                  production_companies    title  \\\n",
       "6  Walt Disney Pictures Walt Disney Animation Studios   Tangled   \n",
       "\n",
       "                                                            cast  \\\n",
       "6  Zachary Levi Mandy Moore Donna Murphy Ron Perlman M.C. Gainey   \n",
       "\n",
       "                                       crew      director  \\\n",
       "6  John Lasseter Jacob Grimm Wilhelm Grimm   Byron Howard   \n",
       "\n",
       "                                                                                                                                                                                                                                                                                                                                                                                                                                                                           recommend  \n",
       "6  Animation Family hostage magic horse fairy tale musical Walt Disney Pictures Walt Disney Animation Studios  Tangled Zachary Levi Mandy Moore Donna Murphy Ron Perlman M.C. Gainey John Lasseter Jacob Grimm Wilhelm Grimm  Byron Howard Animation Family hostage magic horse fairy tale musical Walt Disney Pictures Walt Disney Animation Studios  Tangled Zachary Levi Mandy Moore Donna Murphy Ron Perlman M.C. Gainey John Lasseter Jacob Grimm Wilhelm Grimm  Byron Howard    "
      ]
     },
     "execution_count": 10,
     "metadata": {},
     "output_type": "execute_result"
    }
   ],
   "source": [
    "# Add \"recommend\" column\n",
    "df[\"recommend\"] = \"\"\n",
    "\n",
    "# with values from all columns\n",
    "for c in df.columns:\n",
    "    df[\"recommend\"] += df[c] + \" \"\n",
    "df[df.title == TITLE]"
   ]
  },
  {
   "cell_type": "code",
   "execution_count": 11,
   "metadata": {
    "execution": {
     "iopub.execute_input": "2021-05-31T16:53:36.355655Z",
     "iopub.status.busy": "2021-05-31T16:53:36.355073Z",
     "iopub.status.idle": "2021-05-31T16:53:36.358089Z",
     "shell.execute_reply": "2021-05-31T16:53:36.357517Z",
     "shell.execute_reply.started": "2021-05-31T16:49:42.366382Z"
    },
    "papermill": {
     "duration": 0.024283,
     "end_time": "2021-05-31T16:53:36.358219",
     "exception": false,
     "start_time": "2021-05-31T16:53:36.333936",
     "status": "completed"
    },
    "tags": []
   },
   "outputs": [],
   "source": [
    "def get_index_from_title(title):\n",
    "    return df[df.title.str.upper()==title.upper()].index[0]\n",
    "\n",
    "def get_title_from_index(index):\n",
    "    return df.iloc[index].title\n",
    "\n",
    "\n",
    "movie_index = get_index_from_title(TITLE)"
   ]
  },
  {
   "cell_type": "code",
   "execution_count": 12,
   "metadata": {
    "execution": {
     "iopub.execute_input": "2021-05-31T16:53:36.398229Z",
     "iopub.status.busy": "2021-05-31T16:53:36.392848Z",
     "iopub.status.idle": "2021-05-31T16:53:37.484638Z",
     "shell.execute_reply": "2021-05-31T16:53:37.485279Z",
     "shell.execute_reply.started": "2021-05-31T16:49:42.703526Z"
    },
    "papermill": {
     "duration": 1.114009,
     "end_time": "2021-05-31T16:53:37.485510",
     "exception": false,
     "start_time": "2021-05-31T16:53:36.371501",
     "status": "completed"
    },
    "tags": []
   },
   "outputs": [
    {
     "name": "stdout",
     "output_type": "stream",
     "text": [
      "Movies similar to \"Tangled\" movie:\n",
      "\n",
      "47% - Return to Never Land\n",
      "45% - The Jungle Book 2\n",
      "42% - Frozen\n",
      "41% - The Princess and the Frog\n",
      "41% - Fantasia\n",
      "40% - Dinosaur\n",
      "39% - Mulan\n",
      "39% - Roadside Romeo\n",
      "39% - Monsters University\n",
      "38% - Big Hero 6\n"
     ]
    }
   ],
   "source": [
    "# Instantiating the vectorizer object\n",
    "cv = CountVectorizer()\n",
    "\n",
    "# Converting documents into a matrix\n",
    "wm = cv.fit_transform(df.recommend)\n",
    "\n",
    "# Computing cosine similarity\n",
    "cosine_sim = cosine_similarity(wm)\n",
    "\n",
    "# Creating a sorted list of tuples (index, cosine similarity)\n",
    "result = sorted( list( enumerate(cosine_sim[movie_index]) ), reverse=True, key= lambda x : x[1])\n",
    "\n",
    "# First 10 movies similar to choosen movie ( \"Tangled\" )\n",
    "print(f'Movies similar to \"{get_title_from_index(movie_index)}\" movie:\\n')\n",
    "for i in range(1, 11):\n",
    "    index, sim = result[i]\n",
    "    print(f\"{sim*100:.0f}% - {get_title_from_index(index)}\")"
   ]
  },
  {
   "cell_type": "code",
   "execution_count": null,
   "metadata": {
    "papermill": {
     "duration": 0.01355,
     "end_time": "2021-05-31T16:53:37.513381",
     "exception": false,
     "start_time": "2021-05-31T16:53:37.499831",
     "status": "completed"
    },
    "tags": []
   },
   "outputs": [],
   "source": []
  }
 ],
 "metadata": {
  "kernelspec": {
   "display_name": "Python 3",
   "language": "python",
   "name": "python3"
  },
  "language_info": {
   "codemirror_mode": {
    "name": "ipython",
    "version": 3
   },
   "file_extension": ".py",
   "mimetype": "text/x-python",
   "name": "python",
   "nbconvert_exporter": "python",
   "pygments_lexer": "ipython3",
   "version": "3.8.5"
  },
  "papermill": {
   "default_parameters": {},
   "duration": 15.860123,
   "end_time": "2021-05-31T16:53:39.054366",
   "environment_variables": {},
   "exception": null,
   "input_path": "__notebook__.ipynb",
   "output_path": "__notebook__.ipynb",
   "parameters": {},
   "start_time": "2021-05-31T16:53:23.194243",
   "version": "2.3.3"
  }
 },
 "nbformat": 4,
 "nbformat_minor": 5
}
