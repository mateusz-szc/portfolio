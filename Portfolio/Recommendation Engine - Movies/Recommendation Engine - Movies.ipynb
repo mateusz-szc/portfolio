{
 "cells": [
  {
   "cell_type": "markdown",
   "metadata": {},
   "source": [
    "<table align=\"left\">\n",
    "  <td>\n",
    "    <a target=\"_blank\" href=\"https://www.kaggle.com/mateuszszczepanek/recommendation-engine-movies\"><img src=\"https://cdn.iconscout.com/icon/free/png-128/kaggle-3628869-3030009.png\" />Open in Kaggle</a>\n",
    "  </td>\n",
    "</table>"
   ]
  },
  {
   "cell_type": "markdown",
   "metadata": {},
   "source": [
    "### Importing **modules**"
   ]
  },
  {
   "cell_type": "code",
   "execution_count": 3,
   "metadata": {
    "_cell_guid": "b1076dfc-b9ad-4769-8c92-a6c4dae69d19",
    "_uuid": "8f2839f25d086af736a60e9eeb907d3b93b6e0e5",
    "execution": {
     "iopub.execute_input": "2021-05-31T16:47:53.390792Z",
     "iopub.status.busy": "2021-05-31T16:47:53.390321Z",
     "iopub.status.idle": "2021-05-31T16:47:53.398809Z",
     "shell.execute_reply": "2021-05-31T16:47:53.396911Z",
     "shell.execute_reply.started": "2021-05-31T16:47:53.390755Z"
    }
   },
   "outputs": [],
   "source": [
    "import pandas as pd\n",
    "import ast\n",
    "from sklearn.feature_extraction.text import CountVectorizer\n",
    "from sklearn.metrics.pairwise import cosine_similarity\n",
    "\n",
    "import warnings\n",
    "warnings.filterwarnings(\"ignore\")"
   ]
  },
  {
   "cell_type": "markdown",
   "metadata": {},
   "source": [
    "### Loading **data**"
   ]
  },
  {
   "cell_type": "code",
   "execution_count": 4,
   "metadata": {
    "execution": {
     "iopub.execute_input": "2021-05-31T16:47:53.442409Z",
     "iopub.status.busy": "2021-05-31T16:47:53.441366Z",
     "iopub.status.idle": "2021-05-31T16:47:54.260722Z",
     "shell.execute_reply": "2021-05-31T16:47:54.259461Z",
     "shell.execute_reply.started": "2021-05-31T16:47:53.442335Z"
    }
   },
   "outputs": [
    {
     "name": "stdout",
     "output_type": "stream",
     "text": [
      "(4803, 24)\n"
     ]
    },
    {
     "data": {
      "text/html": [
       "<div>\n",
       "<style scoped>\n",
       "    .dataframe tbody tr th:only-of-type {\n",
       "        vertical-align: middle;\n",
       "    }\n",
       "\n",
       "    .dataframe tbody tr th {\n",
       "        vertical-align: top;\n",
       "    }\n",
       "\n",
       "    .dataframe thead th {\n",
       "        text-align: right;\n",
       "    }\n",
       "</style>\n",
       "<table border=\"1\" class=\"dataframe\">\n",
       "  <thead>\n",
       "    <tr style=\"text-align: right;\">\n",
       "      <th></th>\n",
       "      <th>index</th>\n",
       "      <th>budget</th>\n",
       "      <th>genres</th>\n",
       "      <th>homepage</th>\n",
       "      <th>id</th>\n",
       "      <th>keywords</th>\n",
       "      <th>original_language</th>\n",
       "      <th>original_title</th>\n",
       "      <th>overview</th>\n",
       "      <th>popularity</th>\n",
       "      <th>...</th>\n",
       "      <th>runtime</th>\n",
       "      <th>spoken_languages</th>\n",
       "      <th>status</th>\n",
       "      <th>tagline</th>\n",
       "      <th>title</th>\n",
       "      <th>vote_average</th>\n",
       "      <th>vote_count</th>\n",
       "      <th>cast</th>\n",
       "      <th>crew</th>\n",
       "      <th>director</th>\n",
       "    </tr>\n",
       "  </thead>\n",
       "  <tbody>\n",
       "    <tr>\n",
       "      <th>3922</th>\n",
       "      <td>3922</td>\n",
       "      <td>0</td>\n",
       "      <td>Comedy Drama</td>\n",
       "      <td>NaN</td>\n",
       "      <td>30309</td>\n",
       "      <td>independent film woman director</td>\n",
       "      <td>en</td>\n",
       "      <td>Real Women Have Curves</td>\n",
       "      <td>There's more to Ana Garcia than meets the eye....</td>\n",
       "      <td>1.026243</td>\n",
       "      <td>...</td>\n",
       "      <td>86.0</td>\n",
       "      <td>[{\"iso_639_1\": \"en\", \"name\": \"English\"}]</td>\n",
       "      <td>Released</td>\n",
       "      <td>NaN</td>\n",
       "      <td>Real Women Have Curves</td>\n",
       "      <td>5.8</td>\n",
       "      <td>19</td>\n",
       "      <td>America Ferrera Lupe Ontiveros Ingrid Oliu Geo...</td>\n",
       "      <td>[{'name': 'Patricia Cardoso', 'gender': 0, 'de...</td>\n",
       "      <td>Patricia Cardoso</td>\n",
       "    </tr>\n",
       "    <tr>\n",
       "      <th>4249</th>\n",
       "      <td>4249</td>\n",
       "      <td>0</td>\n",
       "      <td>Horror Comedy Thriller</td>\n",
       "      <td>http://www.houseboundthemovie.com/</td>\n",
       "      <td>253306</td>\n",
       "      <td>haunted house father-in-law superstition house...</td>\n",
       "      <td>en</td>\n",
       "      <td>Housebound</td>\n",
       "      <td>When Kylie Bucknell is sentenced to home deten...</td>\n",
       "      <td>10.322858</td>\n",
       "      <td>...</td>\n",
       "      <td>109.0</td>\n",
       "      <td>[{\"iso_639_1\": \"en\", \"name\": \"English\"}]</td>\n",
       "      <td>Released</td>\n",
       "      <td>Terror Gets Domesticated</td>\n",
       "      <td>Housebound</td>\n",
       "      <td>6.5</td>\n",
       "      <td>358</td>\n",
       "      <td>Morgana O'Reilly Rima Te Wiata Glen-Paul Waru ...</td>\n",
       "      <td>[{'name': 'Haley Williams', 'gender': 1, 'depa...</td>\n",
       "      <td>Gerard Johnstone</td>\n",
       "    </tr>\n",
       "    <tr>\n",
       "      <th>3914</th>\n",
       "      <td>3914</td>\n",
       "      <td>3000000</td>\n",
       "      <td>Drama History</td>\n",
       "      <td>NaN</td>\n",
       "      <td>821</td>\n",
       "      <td>judge concentration camp world war ii nazis co...</td>\n",
       "      <td>en</td>\n",
       "      <td>Judgment at Nuremberg</td>\n",
       "      <td>In 1947, four German judges who served on the ...</td>\n",
       "      <td>13.338539</td>\n",
       "      <td>...</td>\n",
       "      <td>186.0</td>\n",
       "      <td>[{\"iso_639_1\": \"en\", \"name\": \"English\"}]</td>\n",
       "      <td>Released</td>\n",
       "      <td>The event the world will never forget</td>\n",
       "      <td>Judgment at Nuremberg</td>\n",
       "      <td>7.6</td>\n",
       "      <td>155</td>\n",
       "      <td>Spencer Tracy Burt Lancaster Richard Widmark M...</td>\n",
       "      <td>[{'name': 'Stanley Kramer', 'gender': 2, 'depa...</td>\n",
       "      <td>Stanley Kramer</td>\n",
       "    </tr>\n",
       "  </tbody>\n",
       "</table>\n",
       "<p>3 rows × 24 columns</p>\n",
       "</div>"
      ],
      "text/plain": [
       "      index   budget                  genres  \\\n",
       "3922   3922        0            Comedy Drama   \n",
       "4249   4249        0  Horror Comedy Thriller   \n",
       "3914   3914  3000000           Drama History   \n",
       "\n",
       "                                homepage      id  \\\n",
       "3922                                 NaN   30309   \n",
       "4249  http://www.houseboundthemovie.com/  253306   \n",
       "3914                                 NaN     821   \n",
       "\n",
       "                                               keywords original_language  \\\n",
       "3922                    independent film woman director                en   \n",
       "4249  haunted house father-in-law superstition house...                en   \n",
       "3914  judge concentration camp world war ii nazis co...                en   \n",
       "\n",
       "              original_title  \\\n",
       "3922  Real Women Have Curves   \n",
       "4249              Housebound   \n",
       "3914   Judgment at Nuremberg   \n",
       "\n",
       "                                               overview  popularity  ...  \\\n",
       "3922  There's more to Ana Garcia than meets the eye....    1.026243  ...   \n",
       "4249  When Kylie Bucknell is sentenced to home deten...   10.322858  ...   \n",
       "3914  In 1947, four German judges who served on the ...   13.338539  ...   \n",
       "\n",
       "     runtime                          spoken_languages    status  \\\n",
       "3922    86.0  [{\"iso_639_1\": \"en\", \"name\": \"English\"}]  Released   \n",
       "4249   109.0  [{\"iso_639_1\": \"en\", \"name\": \"English\"}]  Released   \n",
       "3914   186.0  [{\"iso_639_1\": \"en\", \"name\": \"English\"}]  Released   \n",
       "\n",
       "                                    tagline                   title  \\\n",
       "3922                                    NaN  Real Women Have Curves   \n",
       "4249               Terror Gets Domesticated              Housebound   \n",
       "3914  The event the world will never forget   Judgment at Nuremberg   \n",
       "\n",
       "     vote_average vote_count  \\\n",
       "3922          5.8         19   \n",
       "4249          6.5        358   \n",
       "3914          7.6        155   \n",
       "\n",
       "                                                   cast  \\\n",
       "3922  America Ferrera Lupe Ontiveros Ingrid Oliu Geo...   \n",
       "4249  Morgana O'Reilly Rima Te Wiata Glen-Paul Waru ...   \n",
       "3914  Spencer Tracy Burt Lancaster Richard Widmark M...   \n",
       "\n",
       "                                                   crew          director  \n",
       "3922  [{'name': 'Patricia Cardoso', 'gender': 0, 'de...  Patricia Cardoso  \n",
       "4249  [{'name': 'Haley Williams', 'gender': 1, 'depa...  Gerard Johnstone  \n",
       "3914  [{'name': 'Stanley Kramer', 'gender': 2, 'depa...    Stanley Kramer  \n",
       "\n",
       "[3 rows x 24 columns]"
      ]
     },
     "execution_count": 4,
     "metadata": {},
     "output_type": "execute_result"
    }
   ],
   "source": [
    "movies_dataset = pd.read_csv(\"../input/movie-dataset/movie_dataset.csv\")\n",
    "print(movies_dataset.shape)\n",
    "movies_dataset.sample(3)"
   ]
  },
  {
   "cell_type": "markdown",
   "metadata": {},
   "source": [
    "### Taking only **needed features**"
   ]
  },
  {
   "cell_type": "code",
   "execution_count": 5,
   "metadata": {
    "execution": {
     "iopub.execute_input": "2021-05-31T16:47:54.262954Z",
     "iopub.status.busy": "2021-05-31T16:47:54.262628Z",
     "iopub.status.idle": "2021-05-31T16:47:54.281574Z",
     "shell.execute_reply": "2021-05-31T16:47:54.280207Z",
     "shell.execute_reply.started": "2021-05-31T16:47:54.262923Z"
    }
   },
   "outputs": [
    {
     "data": {
      "text/html": [
       "<div>\n",
       "<style scoped>\n",
       "    .dataframe tbody tr th:only-of-type {\n",
       "        vertical-align: middle;\n",
       "    }\n",
       "\n",
       "    .dataframe tbody tr th {\n",
       "        vertical-align: top;\n",
       "    }\n",
       "\n",
       "    .dataframe thead th {\n",
       "        text-align: right;\n",
       "    }\n",
       "</style>\n",
       "<table border=\"1\" class=\"dataframe\">\n",
       "  <thead>\n",
       "    <tr style=\"text-align: right;\">\n",
       "      <th></th>\n",
       "      <th>640</th>\n",
       "    </tr>\n",
       "  </thead>\n",
       "  <tbody>\n",
       "    <tr>\n",
       "      <th>index</th>\n",
       "      <td>640</td>\n",
       "    </tr>\n",
       "    <tr>\n",
       "      <th>budget</th>\n",
       "      <td>95000000</td>\n",
       "    </tr>\n",
       "    <tr>\n",
       "      <th>genres</th>\n",
       "      <td>Action Adventure</td>\n",
       "    </tr>\n",
       "    <tr>\n",
       "      <th>homepage</th>\n",
       "      <td>NaN</td>\n",
       "    </tr>\n",
       "    <tr>\n",
       "      <th>id</th>\n",
       "      <td>9342</td>\n",
       "    </tr>\n",
       "    <tr>\n",
       "      <th>keywords</th>\n",
       "      <td>california spy hero horseback riding sword fight</td>\n",
       "    </tr>\n",
       "    <tr>\n",
       "      <th>original_language</th>\n",
       "      <td>en</td>\n",
       "    </tr>\n",
       "    <tr>\n",
       "      <th>original_title</th>\n",
       "      <td>The Mask of Zorro</td>\n",
       "    </tr>\n",
       "    <tr>\n",
       "      <th>overview</th>\n",
       "      <td>It has been twenty years since Don Diego de la...</td>\n",
       "    </tr>\n",
       "    <tr>\n",
       "      <th>popularity</th>\n",
       "      <td>31.086791</td>\n",
       "    </tr>\n",
       "    <tr>\n",
       "      <th>production_companies</th>\n",
       "      <td>[{\"name\": \"Amblin Entertainment\", \"id\": 56}, {...</td>\n",
       "    </tr>\n",
       "    <tr>\n",
       "      <th>production_countries</th>\n",
       "      <td>[{\"iso_3166_1\": \"US\", \"name\": \"United States o...</td>\n",
       "    </tr>\n",
       "    <tr>\n",
       "      <th>release_date</th>\n",
       "      <td>1998-07-16</td>\n",
       "    </tr>\n",
       "    <tr>\n",
       "      <th>revenue</th>\n",
       "      <td>250288523</td>\n",
       "    </tr>\n",
       "    <tr>\n",
       "      <th>runtime</th>\n",
       "      <td>136.0</td>\n",
       "    </tr>\n",
       "    <tr>\n",
       "      <th>spoken_languages</th>\n",
       "      <td>[{\"iso_639_1\": \"en\", \"name\": \"English\"}]</td>\n",
       "    </tr>\n",
       "    <tr>\n",
       "      <th>status</th>\n",
       "      <td>Released</td>\n",
       "    </tr>\n",
       "    <tr>\n",
       "      <th>tagline</th>\n",
       "      <td>No one has seen his face... but everyone ... k...</td>\n",
       "    </tr>\n",
       "    <tr>\n",
       "      <th>title</th>\n",
       "      <td>The Mask of Zorro</td>\n",
       "    </tr>\n",
       "    <tr>\n",
       "      <th>vote_average</th>\n",
       "      <td>6.3</td>\n",
       "    </tr>\n",
       "    <tr>\n",
       "      <th>vote_count</th>\n",
       "      <td>1183</td>\n",
       "    </tr>\n",
       "    <tr>\n",
       "      <th>cast</th>\n",
       "      <td>Antonio Banderas Anthony Hopkins Catherine Zet...</td>\n",
       "    </tr>\n",
       "    <tr>\n",
       "      <th>crew</th>\n",
       "      <td>[{'name': 'Ted Elliott', 'gender': 2, 'departm...</td>\n",
       "    </tr>\n",
       "    <tr>\n",
       "      <th>director</th>\n",
       "      <td>Martin Campbell</td>\n",
       "    </tr>\n",
       "  </tbody>\n",
       "</table>\n",
       "</div>"
      ],
      "text/plain": [
       "                                                                    640\n",
       "index                                                               640\n",
       "budget                                                         95000000\n",
       "genres                                                 Action Adventure\n",
       "homepage                                                            NaN\n",
       "id                                                                 9342\n",
       "keywords               california spy hero horseback riding sword fight\n",
       "original_language                                                    en\n",
       "original_title                                        The Mask of Zorro\n",
       "overview              It has been twenty years since Don Diego de la...\n",
       "popularity                                                    31.086791\n",
       "production_companies  [{\"name\": \"Amblin Entertainment\", \"id\": 56}, {...\n",
       "production_countries  [{\"iso_3166_1\": \"US\", \"name\": \"United States o...\n",
       "release_date                                                 1998-07-16\n",
       "revenue                                                       250288523\n",
       "runtime                                                           136.0\n",
       "spoken_languages               [{\"iso_639_1\": \"en\", \"name\": \"English\"}]\n",
       "status                                                         Released\n",
       "tagline               No one has seen his face... but everyone ... k...\n",
       "title                                                 The Mask of Zorro\n",
       "vote_average                                                        6.3\n",
       "vote_count                                                         1183\n",
       "cast                  Antonio Banderas Anthony Hopkins Catherine Zet...\n",
       "crew                  [{'name': 'Ted Elliott', 'gender': 2, 'departm...\n",
       "director                                                Martin Campbell"
      ]
     },
     "execution_count": 5,
     "metadata": {},
     "output_type": "execute_result"
    }
   ],
   "source": [
    "movies_dataset.sample(1).T"
   ]
  },
  {
   "cell_type": "code",
   "execution_count": 6,
   "metadata": {
    "execution": {
     "iopub.execute_input": "2021-05-31T16:47:54.283998Z",
     "iopub.status.busy": "2021-05-31T16:47:54.283498Z",
     "iopub.status.idle": "2021-05-31T16:47:54.305335Z",
     "shell.execute_reply": "2021-05-31T16:47:54.304213Z",
     "shell.execute_reply.started": "2021-05-31T16:47:54.283940Z"
    }
   },
   "outputs": [
    {
     "data": {
      "text/html": [
       "<div>\n",
       "<style scoped>\n",
       "    .dataframe tbody tr th:only-of-type {\n",
       "        vertical-align: middle;\n",
       "    }\n",
       "\n",
       "    .dataframe tbody tr th {\n",
       "        vertical-align: top;\n",
       "    }\n",
       "\n",
       "    .dataframe thead th {\n",
       "        text-align: right;\n",
       "    }\n",
       "</style>\n",
       "<table border=\"1\" class=\"dataframe\">\n",
       "  <thead>\n",
       "    <tr style=\"text-align: right;\">\n",
       "      <th></th>\n",
       "      <th>genres</th>\n",
       "      <th>keywords</th>\n",
       "      <th>production_companies</th>\n",
       "      <th>title</th>\n",
       "      <th>cast</th>\n",
       "      <th>crew</th>\n",
       "      <th>director</th>\n",
       "    </tr>\n",
       "  </thead>\n",
       "  <tbody>\n",
       "    <tr>\n",
       "      <th>0</th>\n",
       "      <td>Action Adventure Fantasy Science Fiction</td>\n",
       "      <td>culture clash future space war space colony so...</td>\n",
       "      <td>[{\"name\": \"Ingenious Film Partners\", \"id\": 289...</td>\n",
       "      <td>Avatar</td>\n",
       "      <td>Sam Worthington Zoe Saldana Sigourney Weaver S...</td>\n",
       "      <td>[{'name': 'Stephen E. Rivkin', 'gender': 0, 'd...</td>\n",
       "      <td>James Cameron</td>\n",
       "    </tr>\n",
       "    <tr>\n",
       "      <th>1</th>\n",
       "      <td>Adventure Fantasy Action</td>\n",
       "      <td>ocean drug abuse exotic island east india trad...</td>\n",
       "      <td>[{\"name\": \"Walt Disney Pictures\", \"id\": 2}, {\"...</td>\n",
       "      <td>Pirates of the Caribbean: At World's End</td>\n",
       "      <td>Johnny Depp Orlando Bloom Keira Knightley Stel...</td>\n",
       "      <td>[{'name': 'Dariusz Wolski', 'gender': 2, 'depa...</td>\n",
       "      <td>Gore Verbinski</td>\n",
       "    </tr>\n",
       "    <tr>\n",
       "      <th>2</th>\n",
       "      <td>Action Adventure Crime</td>\n",
       "      <td>spy based on novel secret agent sequel mi6</td>\n",
       "      <td>[{\"name\": \"Columbia Pictures\", \"id\": 5}, {\"nam...</td>\n",
       "      <td>Spectre</td>\n",
       "      <td>Daniel Craig Christoph Waltz L\\u00e9a Seydoux ...</td>\n",
       "      <td>[{'name': 'Thomas Newman', 'gender': 2, 'depar...</td>\n",
       "      <td>Sam Mendes</td>\n",
       "    </tr>\n",
       "    <tr>\n",
       "      <th>3</th>\n",
       "      <td>Action Crime Drama Thriller</td>\n",
       "      <td>dc comics crime fighter terrorist secret ident...</td>\n",
       "      <td>[{\"name\": \"Legendary Pictures\", \"id\": 923}, {\"...</td>\n",
       "      <td>The Dark Knight Rises</td>\n",
       "      <td>Christian Bale Michael Caine Gary Oldman Anne ...</td>\n",
       "      <td>[{'name': 'Hans Zimmer', 'gender': 2, 'departm...</td>\n",
       "      <td>Christopher Nolan</td>\n",
       "    </tr>\n",
       "  </tbody>\n",
       "</table>\n",
       "</div>"
      ],
      "text/plain": [
       "                                     genres  \\\n",
       "0  Action Adventure Fantasy Science Fiction   \n",
       "1                  Adventure Fantasy Action   \n",
       "2                    Action Adventure Crime   \n",
       "3               Action Crime Drama Thriller   \n",
       "\n",
       "                                            keywords  \\\n",
       "0  culture clash future space war space colony so...   \n",
       "1  ocean drug abuse exotic island east india trad...   \n",
       "2         spy based on novel secret agent sequel mi6   \n",
       "3  dc comics crime fighter terrorist secret ident...   \n",
       "\n",
       "                                production_companies  \\\n",
       "0  [{\"name\": \"Ingenious Film Partners\", \"id\": 289...   \n",
       "1  [{\"name\": \"Walt Disney Pictures\", \"id\": 2}, {\"...   \n",
       "2  [{\"name\": \"Columbia Pictures\", \"id\": 5}, {\"nam...   \n",
       "3  [{\"name\": \"Legendary Pictures\", \"id\": 923}, {\"...   \n",
       "\n",
       "                                      title  \\\n",
       "0                                    Avatar   \n",
       "1  Pirates of the Caribbean: At World's End   \n",
       "2                                   Spectre   \n",
       "3                     The Dark Knight Rises   \n",
       "\n",
       "                                                cast  \\\n",
       "0  Sam Worthington Zoe Saldana Sigourney Weaver S...   \n",
       "1  Johnny Depp Orlando Bloom Keira Knightley Stel...   \n",
       "2  Daniel Craig Christoph Waltz L\\u00e9a Seydoux ...   \n",
       "3  Christian Bale Michael Caine Gary Oldman Anne ...   \n",
       "\n",
       "                                                crew           director  \n",
       "0  [{'name': 'Stephen E. Rivkin', 'gender': 0, 'd...      James Cameron  \n",
       "1  [{'name': 'Dariusz Wolski', 'gender': 2, 'depa...     Gore Verbinski  \n",
       "2  [{'name': 'Thomas Newman', 'gender': 2, 'depar...         Sam Mendes  \n",
       "3  [{'name': 'Hans Zimmer', 'gender': 2, 'departm...  Christopher Nolan  "
      ]
     },
     "execution_count": 6,
     "metadata": {},
     "output_type": "execute_result"
    }
   ],
   "source": [
    "movies_dataset = movies_dataset[[\"genres\", \"keywords\", \"production_companies\",  \"title\", \"cast\", \"crew\", \"director\"]]\n",
    "movies_dataset.head(4)"
   ]
  },
  {
   "cell_type": "code",
   "execution_count": 7,
   "metadata": {
    "execution": {
     "iopub.execute_input": "2021-05-31T16:47:54.307298Z",
     "iopub.status.busy": "2021-05-31T16:47:54.306971Z",
     "iopub.status.idle": "2021-05-31T16:47:54.319849Z",
     "shell.execute_reply": "2021-05-31T16:47:54.318966Z",
     "shell.execute_reply.started": "2021-05-31T16:47:54.307268Z"
    }
   },
   "outputs": [
    {
     "data": {
      "text/plain": [
       "(4803, 7)"
      ]
     },
     "execution_count": 7,
     "metadata": {},
     "output_type": "execute_result"
    }
   ],
   "source": [
    "df = movies_dataset.copy()\n",
    "df.fillna(\"\", inplace=True)\n",
    "df.shape"
   ]
  },
  {
   "cell_type": "markdown",
   "metadata": {},
   "source": [
    "### Preparing **final dataframe**"
   ]
  },
  {
   "cell_type": "code",
   "execution_count": 8,
   "metadata": {
    "execution": {
     "iopub.execute_input": "2021-05-31T16:47:54.323273Z",
     "iopub.status.busy": "2021-05-31T16:47:54.322905Z",
     "iopub.status.idle": "2021-05-31T16:47:54.539171Z",
     "shell.execute_reply": "2021-05-31T16:47:54.538105Z",
     "shell.execute_reply.started": "2021-05-31T16:47:54.323236Z"
    }
   },
   "outputs": [],
   "source": [
    "# Creating a list of indexes of untitled movies and removing them\n",
    "no_title = [n for n, b in enumerate(df.title.isna()) if b]\n",
    "df.drop(no_title, inplace=True)\n",
    "\n",
    "# Removing movies with insufficient information\n",
    "# ( with empty columns: \"genres\", \"cast\", \"keyword\")\n",
    "index_to_drop = [n for n in range(df.shape[0]) if len(df.genres[n] + df.cast[n] + df.keywords[n]) == 6]\n",
    "df.drop(index=index_to_drop, inplace=True)"
   ]
  },
  {
   "cell_type": "markdown",
   "metadata": {},
   "source": [
    "### *Before changing* (selected movie - **\"Tangled\"**)"
   ]
  },
  {
   "cell_type": "markdown",
   "metadata": {},
   "source": [
    "<table align=\"center\">\n",
    "  <td>\n",
    "    <a href=\"https://www.google.com/search?q=tangled&rlz=1C1PNBB_enPL948PL948&sxsrf=ALeKk02ogGb6JvWLCYM93OTV1kmAIuscpQ%3A1622478148580&ei=RA21YPL5IuyhrgTf3rX4Cg&oq=tangled&gs_lcp=Cgdnd3Mtd2l6EAMyBAgjECcyBAgjECcyAgguMgQILhBDMgIIADIECAAQQzICCAAyBAgAEEMyAggAMgIILjoHCAAQRxCwAzoHCAAQsAMQQzoKCC4QsAMQyAMQQ0oFCDgSATFQ5RRY8hVg-xdoAXACeACAAVuIAYECkgEBM5gBAKABAaoBB2d3cy13aXrIAQvAAQE&sclient=gws-wiz&ved=0ahUKEwjyq86NqvTwAhXskIsKHV9vDa8Q4dUDCA4&uact=5\"><img src=\"https://ae01.alicdn.com/kf/HTB1vUoCKpXXXXaUXXXXq6xXFXXXG/Free-shipping-Rapunzel-Flynn-in-Tangled-Movie-Poster-HD-HOME-WALL-Decor-Custom-ART-PRINT-Silk.jpg\" /></a>\n",
    "  </td>\n",
    "</table>"
   ]
  },
  {
   "cell_type": "code",
   "execution_count": 9,
   "metadata": {
    "execution": {
     "iopub.execute_input": "2021-05-31T16:47:54.541119Z",
     "iopub.status.busy": "2021-05-31T16:47:54.540789Z",
     "iopub.status.idle": "2021-05-31T16:47:54.555238Z",
     "shell.execute_reply": "2021-05-31T16:47:54.553854Z",
     "shell.execute_reply.started": "2021-05-31T16:47:54.541079Z"
    }
   },
   "outputs": [
    {
     "data": {
      "text/html": [
       "<div>\n",
       "<style scoped>\n",
       "    .dataframe tbody tr th:only-of-type {\n",
       "        vertical-align: middle;\n",
       "    }\n",
       "\n",
       "    .dataframe tbody tr th {\n",
       "        vertical-align: top;\n",
       "    }\n",
       "\n",
       "    .dataframe thead th {\n",
       "        text-align: right;\n",
       "    }\n",
       "</style>\n",
       "<table border=\"1\" class=\"dataframe\">\n",
       "  <thead>\n",
       "    <tr style=\"text-align: right;\">\n",
       "      <th></th>\n",
       "      <th>6</th>\n",
       "    </tr>\n",
       "  </thead>\n",
       "  <tbody>\n",
       "    <tr>\n",
       "      <th>genres</th>\n",
       "      <td>Animation Family</td>\n",
       "    </tr>\n",
       "    <tr>\n",
       "      <th>keywords</th>\n",
       "      <td>hostage magic horse fairy tale musical</td>\n",
       "    </tr>\n",
       "    <tr>\n",
       "      <th>production_companies</th>\n",
       "      <td>[{\"name\": \"Walt Disney Pictures\", \"id\": 2}, {\"name\": \"Walt Disney Animation Studios\", \"id\": 6125}]</td>\n",
       "    </tr>\n",
       "    <tr>\n",
       "      <th>title</th>\n",
       "      <td>Tangled</td>\n",
       "    </tr>\n",
       "    <tr>\n",
       "      <th>cast</th>\n",
       "      <td>Zachary Levi Mandy Moore Donna Murphy Ron Perlman M.C. Gainey</td>\n",
       "    </tr>\n",
       "    <tr>\n",
       "      <th>crew</th>\n",
       "      <td>[{'name': 'John Lasseter', 'gender': 2, 'department': 'Production', 'job': 'Executive Producer', 'credit_id': '52fe46db9251416c91062101', 'id': 7879}, {'name': 'Jacob Grimm', 'gender': 2, 'department': 'Writing', 'job': 'Novel', 'credit_id': '52fe46db9251416c910620e3', 'id': 38748}, {'name': 'Wilhelm Grimm', 'gender': 2, 'department': 'Writing', 'job': 'Novel', 'credit_id': '52fe46db9251416c910620dd', 'id': 5448}, {'name': 'John Kahrs', 'gender': 0, 'department': 'Visual Effects', 'job': 'An...</td>\n",
       "    </tr>\n",
       "    <tr>\n",
       "      <th>director</th>\n",
       "      <td>Byron Howard</td>\n",
       "    </tr>\n",
       "  </tbody>\n",
       "</table>\n",
       "</div>"
      ],
      "text/plain": [
       "                                                                                                                                                                                                                                                                                                                                                                                                                                                                                                                                        6\n",
       "genres                                                                                                                                                                                                                                                                                                                                                                                                                                                                                                                   Animation Family\n",
       "keywords                                                                                                                                                                                                                                                                                                                                                                                                                                                                                           hostage magic horse fairy tale musical\n",
       "production_companies                                                                                                                                                                                                                                                                                                                                                                                                                   [{\"name\": \"Walt Disney Pictures\", \"id\": 2}, {\"name\": \"Walt Disney Animation Studios\", \"id\": 6125}]\n",
       "title                                                                                                                                                                                                                                                                                                                                                                                                                                                                                                                             Tangled\n",
       "cast                                                                                                                                                                                                                                                                                                                                                                                                                                                                        Zachary Levi Mandy Moore Donna Murphy Ron Perlman M.C. Gainey\n",
       "crew                  [{'name': 'John Lasseter', 'gender': 2, 'department': 'Production', 'job': 'Executive Producer', 'credit_id': '52fe46db9251416c91062101', 'id': 7879}, {'name': 'Jacob Grimm', 'gender': 2, 'department': 'Writing', 'job': 'Novel', 'credit_id': '52fe46db9251416c910620e3', 'id': 38748}, {'name': 'Wilhelm Grimm', 'gender': 2, 'department': 'Writing', 'job': 'Novel', 'credit_id': '52fe46db9251416c910620dd', 'id': 5448}, {'name': 'John Kahrs', 'gender': 0, 'department': 'Visual Effects', 'job': 'An...\n",
       "director                                                                                                                                                                                                                                                                                                                                                                                                                                                                                                                     Byron Howard"
      ]
     },
     "execution_count": 9,
     "metadata": {},
     "output_type": "execute_result"
    }
   ],
   "source": [
    "TITLE = \"Tangled\"\n",
    "\n",
    "pd.set_option('max_colwidth', 500)\n",
    "df[df.title == TITLE].T"
   ]
  },
  {
   "cell_type": "code",
   "execution_count": 10,
   "metadata": {
    "execution": {
     "iopub.execute_input": "2021-05-31T16:47:54.557936Z",
     "iopub.status.busy": "2021-05-31T16:47:54.557224Z",
     "iopub.status.idle": "2021-05-31T16:47:58.765469Z",
     "shell.execute_reply": "2021-05-31T16:47:58.764363Z",
     "shell.execute_reply.started": "2021-05-31T16:47:54.557880Z"
    }
   },
   "outputs": [],
   "source": [
    "def change(row):    \n",
    "    txt = \"\"\n",
    "    for n in range(len(row)):\n",
    "        txt += f\"{row[n]['name']} \"\n",
    "    return txt  \n",
    "\n",
    "def change_crew(row):\n",
    "    txt = \"\"\n",
    "    r = 3 if len(row) > 3 else len(row)\n",
    "    for i in range(r):\n",
    "        txt += f\"{row[i]['name']} \"  \n",
    "    return txt\n",
    "\n",
    "\n",
    "# Taking only \"name\" values from each column and row\n",
    "df[\"production_companies\"] = df[\"production_companies\"].apply(lambda x: ast.literal_eval(x))\n",
    "df[\"production_companies\"] = df[\"production_companies\"].apply(change)                                                       \n",
    "\n",
    "df[\"crew\"] = df[\"crew\"].apply(lambda x: ast.literal_eval(x))\n",
    "df[\"crew\"] = df[\"crew\"].apply(change_crew)"
   ]
  },
  {
   "cell_type": "markdown",
   "metadata": {},
   "source": [
    "### _After changing_\n"
   ]
  },
  {
   "cell_type": "code",
   "execution_count": 11,
   "metadata": {
    "execution": {
     "iopub.execute_input": "2021-05-31T16:47:58.768844Z",
     "iopub.status.busy": "2021-05-31T16:47:58.768345Z",
     "iopub.status.idle": "2021-05-31T16:47:58.783574Z",
     "shell.execute_reply": "2021-05-31T16:47:58.782312Z",
     "shell.execute_reply.started": "2021-05-31T16:47:58.768787Z"
    }
   },
   "outputs": [
    {
     "data": {
      "text/html": [
       "<div>\n",
       "<style scoped>\n",
       "    .dataframe tbody tr th:only-of-type {\n",
       "        vertical-align: middle;\n",
       "    }\n",
       "\n",
       "    .dataframe tbody tr th {\n",
       "        vertical-align: top;\n",
       "    }\n",
       "\n",
       "    .dataframe thead th {\n",
       "        text-align: right;\n",
       "    }\n",
       "</style>\n",
       "<table border=\"1\" class=\"dataframe\">\n",
       "  <thead>\n",
       "    <tr style=\"text-align: right;\">\n",
       "      <th></th>\n",
       "      <th>6</th>\n",
       "    </tr>\n",
       "  </thead>\n",
       "  <tbody>\n",
       "    <tr>\n",
       "      <th>genres</th>\n",
       "      <td>Animation Family</td>\n",
       "    </tr>\n",
       "    <tr>\n",
       "      <th>keywords</th>\n",
       "      <td>hostage magic horse fairy tale musical</td>\n",
       "    </tr>\n",
       "    <tr>\n",
       "      <th>production_companies</th>\n",
       "      <td>Walt Disney Pictures Walt Disney Animation Studios</td>\n",
       "    </tr>\n",
       "    <tr>\n",
       "      <th>title</th>\n",
       "      <td>Tangled</td>\n",
       "    </tr>\n",
       "    <tr>\n",
       "      <th>cast</th>\n",
       "      <td>Zachary Levi Mandy Moore Donna Murphy Ron Perlman M.C. Gainey</td>\n",
       "    </tr>\n",
       "    <tr>\n",
       "      <th>crew</th>\n",
       "      <td>John Lasseter Jacob Grimm Wilhelm Grimm</td>\n",
       "    </tr>\n",
       "    <tr>\n",
       "      <th>director</th>\n",
       "      <td>Byron Howard</td>\n",
       "    </tr>\n",
       "  </tbody>\n",
       "</table>\n",
       "</div>"
      ],
      "text/plain": [
       "                                                                                  6\n",
       "genres                                                             Animation Family\n",
       "keywords                                     hostage magic horse fairy tale musical\n",
       "production_companies            Walt Disney Pictures Walt Disney Animation Studios \n",
       "title                                                                       Tangled\n",
       "cast                  Zachary Levi Mandy Moore Donna Murphy Ron Perlman M.C. Gainey\n",
       "crew                                       John Lasseter Jacob Grimm Wilhelm Grimm \n",
       "director                                                               Byron Howard"
      ]
     },
     "execution_count": 11,
     "metadata": {},
     "output_type": "execute_result"
    }
   ],
   "source": [
    "df[df.title == TITLE].T"
   ]
  },
  {
   "cell_type": "code",
   "execution_count": 12,
   "metadata": {
    "execution": {
     "iopub.execute_input": "2021-05-31T16:47:58.785725Z",
     "iopub.status.busy": "2021-05-31T16:47:58.785362Z",
     "iopub.status.idle": "2021-05-31T16:47:58.846279Z",
     "shell.execute_reply": "2021-05-31T16:47:58.845061Z",
     "shell.execute_reply.started": "2021-05-31T16:47:58.785675Z"
    }
   },
   "outputs": [
    {
     "data": {
      "text/html": [
       "<div>\n",
       "<style scoped>\n",
       "    .dataframe tbody tr th:only-of-type {\n",
       "        vertical-align: middle;\n",
       "    }\n",
       "\n",
       "    .dataframe tbody tr th {\n",
       "        vertical-align: top;\n",
       "    }\n",
       "\n",
       "    .dataframe thead th {\n",
       "        text-align: right;\n",
       "    }\n",
       "</style>\n",
       "<table border=\"1\" class=\"dataframe\">\n",
       "  <thead>\n",
       "    <tr style=\"text-align: right;\">\n",
       "      <th></th>\n",
       "      <th>genres</th>\n",
       "      <th>keywords</th>\n",
       "      <th>production_companies</th>\n",
       "      <th>title</th>\n",
       "      <th>cast</th>\n",
       "      <th>crew</th>\n",
       "      <th>director</th>\n",
       "      <th>recommend</th>\n",
       "    </tr>\n",
       "  </thead>\n",
       "  <tbody>\n",
       "    <tr>\n",
       "      <th>6</th>\n",
       "      <td>Animation Family</td>\n",
       "      <td>hostage magic horse fairy tale musical</td>\n",
       "      <td>Walt Disney Pictures Walt Disney Animation Studios</td>\n",
       "      <td>Tangled</td>\n",
       "      <td>Zachary Levi Mandy Moore Donna Murphy Ron Perlman M.C. Gainey</td>\n",
       "      <td>John Lasseter Jacob Grimm Wilhelm Grimm</td>\n",
       "      <td>Byron Howard</td>\n",
       "      <td>Animation Family hostage magic horse fairy tale musical Walt Disney Pictures Walt Disney Animation Studios  Tangled Zachary Levi Mandy Moore Donna Murphy Ron Perlman M.C. Gainey John Lasseter Jacob Grimm Wilhelm Grimm  Byron Howard Animation Family hostage magic horse fairy tale musical Walt Disney Pictures Walt Disney Animation Studios  Tangled Zachary Levi Mandy Moore Donna Murphy Ron Perlman M.C. Gainey John Lasseter Jacob Grimm Wilhelm Grimm  Byron Howard</td>\n",
       "    </tr>\n",
       "  </tbody>\n",
       "</table>\n",
       "</div>"
      ],
      "text/plain": [
       "             genres                                keywords  \\\n",
       "6  Animation Family  hostage magic horse fairy tale musical   \n",
       "\n",
       "                                  production_companies    title  \\\n",
       "6  Walt Disney Pictures Walt Disney Animation Studios   Tangled   \n",
       "\n",
       "                                                            cast  \\\n",
       "6  Zachary Levi Mandy Moore Donna Murphy Ron Perlman M.C. Gainey   \n",
       "\n",
       "                                       crew      director  \\\n",
       "6  John Lasseter Jacob Grimm Wilhelm Grimm   Byron Howard   \n",
       "\n",
       "                                                                                                                                                                                                                                                                                                                                                                                                                                                                           recommend  \n",
       "6  Animation Family hostage magic horse fairy tale musical Walt Disney Pictures Walt Disney Animation Studios  Tangled Zachary Levi Mandy Moore Donna Murphy Ron Perlman M.C. Gainey John Lasseter Jacob Grimm Wilhelm Grimm  Byron Howard Animation Family hostage magic horse fairy tale musical Walt Disney Pictures Walt Disney Animation Studios  Tangled Zachary Levi Mandy Moore Donna Murphy Ron Perlman M.C. Gainey John Lasseter Jacob Grimm Wilhelm Grimm  Byron Howard    "
      ]
     },
     "execution_count": 12,
     "metadata": {},
     "output_type": "execute_result"
    }
   ],
   "source": [
    "# Add \"recommend\" column\n",
    "df[\"recommend\"] = \"\"\n",
    "\n",
    "# with values from all columns\n",
    "for c in df.columns:\n",
    "    df[\"recommend\"] += df[c] + \" \"\n",
    "df[df.title == TITLE]"
   ]
  },
  {
   "cell_type": "code",
   "execution_count": 15,
   "metadata": {
    "execution": {
     "iopub.execute_input": "2021-05-31T16:49:42.366418Z",
     "iopub.status.busy": "2021-05-31T16:49:42.365934Z",
     "iopub.status.idle": "2021-05-31T16:49:42.379833Z",
     "shell.execute_reply": "2021-05-31T16:49:42.378412Z",
     "shell.execute_reply.started": "2021-05-31T16:49:42.366382Z"
    }
   },
   "outputs": [],
   "source": [
    "def get_index_from_title(title):\n",
    "    return df[df.title.str.upper()==title.upper()].index[0]\n",
    "\n",
    "def get_title_from_index(index):\n",
    "    return df.iloc[index].title\n",
    "\n",
    "\n",
    "movie_index = get_index_from_title(TITLE)"
   ]
  },
  {
   "cell_type": "code",
   "execution_count": 16,
   "metadata": {
    "execution": {
     "iopub.execute_input": "2021-05-31T16:49:42.703569Z",
     "iopub.status.busy": "2021-05-31T16:49:42.703075Z",
     "iopub.status.idle": "2021-05-31T16:49:44.056572Z",
     "shell.execute_reply": "2021-05-31T16:49:44.055115Z",
     "shell.execute_reply.started": "2021-05-31T16:49:42.703526Z"
    }
   },
   "outputs": [
    {
     "name": "stdout",
     "output_type": "stream",
     "text": [
      "Movies similar to \"The Matrix\" movie:\n",
      "\n",
      "82% - The Matrix Revolutions\n",
      "75% - The Matrix Reloaded\n",
      "38% - Terminator 3: Rise of the Machines\n",
      "35% - Speed Racer\n",
      "33% - The Invasion\n",
      "33% - Terminator Salvation\n",
      "32% - The Terminator\n",
      "31% - Cradle 2 the Grave\n",
      "30% - Red Planet\n",
      "30% - Sherlock Holmes: A Game of Shadows\n"
     ]
    }
   ],
   "source": [
    "# Instantiating the vectorizer object\n",
    "cv = CountVectorizer()\n",
    "\n",
    "# Converting documents into a matrix\n",
    "wm = cv.fit_transform(df.recommend)\n",
    "\n",
    "# Computing cosine similarity\n",
    "cosine_sim = cosine_similarity(wm)\n",
    "\n",
    "# Creating a sorted list of tuples (index, cosine similarity)\n",
    "result = sorted( list( enumerate(cosine_sim[movie_index]) ), reverse=True, key= lambda x : x[1])\n",
    "\n",
    "# First 10 movies similar to choosen movie ( \"Tangled\" )\n",
    "print(f'Movies similar to \"{get_title_from_index(movie_index)}\" movie:\\n')\n",
    "for i in range(1, 11):\n",
    "    index, sim = result[i]\n",
    "    print(f\"{sim*100:.0f}% - {get_title_from_index(index)}\")"
   ]
  },
  {
   "cell_type": "code",
   "execution_count": null,
   "metadata": {},
   "outputs": [],
   "source": []
  }
 ],
 "metadata": {
  "kernelspec": {
   "display_name": "Python 3",
   "language": "python",
   "name": "python3"
  },
  "language_info": {
   "codemirror_mode": {
    "name": "ipython",
    "version": 3
   },
   "file_extension": ".py",
   "mimetype": "text/x-python",
   "name": "python",
   "nbconvert_exporter": "python",
   "pygments_lexer": "ipython3",
   "version": "3.8.5"
  }
 },
 "nbformat": 4,
 "nbformat_minor": 4
}
